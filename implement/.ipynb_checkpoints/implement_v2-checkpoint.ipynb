{
 "cells": [
  {
   "cell_type": "code",
   "execution_count": 1,
   "id": "5937a402",
   "metadata": {},
   "outputs": [
    {
     "data": {
      "text/html": [
       "<div class=\"bk-root\">\n",
       "        <a href=\"https://bokeh.org\" target=\"_blank\" class=\"bk-logo bk-logo-small bk-logo-notebook\"></a>\n",
       "        <span id=\"1002\">Loading BokehJS ...</span>\n",
       "    </div>\n"
      ]
     },
     "metadata": {},
     "output_type": "display_data"
    },
    {
     "data": {
      "application/javascript": [
       "(function(root) {\n",
       "  function now() {\n",
       "    return new Date();\n",
       "  }\n",
       "\n",
       "  const force = true;\n",
       "\n",
       "  if (typeof root._bokeh_onload_callbacks === \"undefined\" || force === true) {\n",
       "    root._bokeh_onload_callbacks = [];\n",
       "    root._bokeh_is_loading = undefined;\n",
       "  }\n",
       "\n",
       "const JS_MIME_TYPE = 'application/javascript';\n",
       "  const HTML_MIME_TYPE = 'text/html';\n",
       "  const EXEC_MIME_TYPE = 'application/vnd.bokehjs_exec.v0+json';\n",
       "  const CLASS_NAME = 'output_bokeh rendered_html';\n",
       "\n",
       "  /**\n",
       "   * Render data to the DOM node\n",
       "   */\n",
       "  function render(props, node) {\n",
       "    const script = document.createElement(\"script\");\n",
       "    node.appendChild(script);\n",
       "  }\n",
       "\n",
       "  /**\n",
       "   * Handle when an output is cleared or removed\n",
       "   */\n",
       "  function handleClearOutput(event, handle) {\n",
       "    const cell = handle.cell;\n",
       "\n",
       "    const id = cell.output_area._bokeh_element_id;\n",
       "    const server_id = cell.output_area._bokeh_server_id;\n",
       "    // Clean up Bokeh references\n",
       "    if (id != null && id in Bokeh.index) {\n",
       "      Bokeh.index[id].model.document.clear();\n",
       "      delete Bokeh.index[id];\n",
       "    }\n",
       "\n",
       "    if (server_id !== undefined) {\n",
       "      // Clean up Bokeh references\n",
       "      const cmd_clean = \"from bokeh.io.state import curstate; print(curstate().uuid_to_server['\" + server_id + \"'].get_sessions()[0].document.roots[0]._id)\";\n",
       "      cell.notebook.kernel.execute(cmd_clean, {\n",
       "        iopub: {\n",
       "          output: function(msg) {\n",
       "            const id = msg.content.text.trim();\n",
       "            if (id in Bokeh.index) {\n",
       "              Bokeh.index[id].model.document.clear();\n",
       "              delete Bokeh.index[id];\n",
       "            }\n",
       "          }\n",
       "        }\n",
       "      });\n",
       "      // Destroy server and session\n",
       "      const cmd_destroy = \"import bokeh.io.notebook as ion; ion.destroy_server('\" + server_id + \"')\";\n",
       "      cell.notebook.kernel.execute(cmd_destroy);\n",
       "    }\n",
       "  }\n",
       "\n",
       "  /**\n",
       "   * Handle when a new output is added\n",
       "   */\n",
       "  function handleAddOutput(event, handle) {\n",
       "    const output_area = handle.output_area;\n",
       "    const output = handle.output;\n",
       "\n",
       "    // limit handleAddOutput to display_data with EXEC_MIME_TYPE content only\n",
       "    if ((output.output_type != \"display_data\") || (!Object.prototype.hasOwnProperty.call(output.data, EXEC_MIME_TYPE))) {\n",
       "      return\n",
       "    }\n",
       "\n",
       "    const toinsert = output_area.element.find(\".\" + CLASS_NAME.split(' ')[0]);\n",
       "\n",
       "    if (output.metadata[EXEC_MIME_TYPE][\"id\"] !== undefined) {\n",
       "      toinsert[toinsert.length - 1].firstChild.textContent = output.data[JS_MIME_TYPE];\n",
       "      // store reference to embed id on output_area\n",
       "      output_area._bokeh_element_id = output.metadata[EXEC_MIME_TYPE][\"id\"];\n",
       "    }\n",
       "    if (output.metadata[EXEC_MIME_TYPE][\"server_id\"] !== undefined) {\n",
       "      const bk_div = document.createElement(\"div\");\n",
       "      bk_div.innerHTML = output.data[HTML_MIME_TYPE];\n",
       "      const script_attrs = bk_div.children[0].attributes;\n",
       "      for (let i = 0; i < script_attrs.length; i++) {\n",
       "        toinsert[toinsert.length - 1].firstChild.setAttribute(script_attrs[i].name, script_attrs[i].value);\n",
       "        toinsert[toinsert.length - 1].firstChild.textContent = bk_div.children[0].textContent\n",
       "      }\n",
       "      // store reference to server id on output_area\n",
       "      output_area._bokeh_server_id = output.metadata[EXEC_MIME_TYPE][\"server_id\"];\n",
       "    }\n",
       "  }\n",
       "\n",
       "  function register_renderer(events, OutputArea) {\n",
       "\n",
       "    function append_mime(data, metadata, element) {\n",
       "      // create a DOM node to render to\n",
       "      const toinsert = this.create_output_subarea(\n",
       "        metadata,\n",
       "        CLASS_NAME,\n",
       "        EXEC_MIME_TYPE\n",
       "      );\n",
       "      this.keyboard_manager.register_events(toinsert);\n",
       "      // Render to node\n",
       "      const props = {data: data, metadata: metadata[EXEC_MIME_TYPE]};\n",
       "      render(props, toinsert[toinsert.length - 1]);\n",
       "      element.append(toinsert);\n",
       "      return toinsert\n",
       "    }\n",
       "\n",
       "    /* Handle when an output is cleared or removed */\n",
       "    events.on('clear_output.CodeCell', handleClearOutput);\n",
       "    events.on('delete.Cell', handleClearOutput);\n",
       "\n",
       "    /* Handle when a new output is added */\n",
       "    events.on('output_added.OutputArea', handleAddOutput);\n",
       "\n",
       "    /**\n",
       "     * Register the mime type and append_mime function with output_area\n",
       "     */\n",
       "    OutputArea.prototype.register_mime_type(EXEC_MIME_TYPE, append_mime, {\n",
       "      /* Is output safe? */\n",
       "      safe: true,\n",
       "      /* Index of renderer in `output_area.display_order` */\n",
       "      index: 0\n",
       "    });\n",
       "  }\n",
       "\n",
       "  // register the mime type if in Jupyter Notebook environment and previously unregistered\n",
       "  if (root.Jupyter !== undefined) {\n",
       "    const events = require('base/js/events');\n",
       "    const OutputArea = require('notebook/js/outputarea').OutputArea;\n",
       "\n",
       "    if (OutputArea.prototype.mime_types().indexOf(EXEC_MIME_TYPE) == -1) {\n",
       "      register_renderer(events, OutputArea);\n",
       "    }\n",
       "  }\n",
       "  if (typeof (root._bokeh_timeout) === \"undefined\" || force === true) {\n",
       "    root._bokeh_timeout = Date.now() + 5000;\n",
       "    root._bokeh_failed_load = false;\n",
       "  }\n",
       "\n",
       "  const NB_LOAD_WARNING = {'data': {'text/html':\n",
       "     \"<div style='background-color: #fdd'>\\n\"+\n",
       "     \"<p>\\n\"+\n",
       "     \"BokehJS does not appear to have successfully loaded. If loading BokehJS from CDN, this \\n\"+\n",
       "     \"may be due to a slow or bad network connection. Possible fixes:\\n\"+\n",
       "     \"</p>\\n\"+\n",
       "     \"<ul>\\n\"+\n",
       "     \"<li>re-rerun `output_notebook()` to attempt to load from CDN again, or</li>\\n\"+\n",
       "     \"<li>use INLINE resources instead, as so:</li>\\n\"+\n",
       "     \"</ul>\\n\"+\n",
       "     \"<code>\\n\"+\n",
       "     \"from bokeh.resources import INLINE\\n\"+\n",
       "     \"output_notebook(resources=INLINE)\\n\"+\n",
       "     \"</code>\\n\"+\n",
       "     \"</div>\"}};\n",
       "\n",
       "  function display_loaded() {\n",
       "    const el = document.getElementById(\"1002\");\n",
       "    if (el != null) {\n",
       "      el.textContent = \"BokehJS is loading...\";\n",
       "    }\n",
       "    if (root.Bokeh !== undefined) {\n",
       "      if (el != null) {\n",
       "        el.textContent = \"BokehJS \" + root.Bokeh.version + \" successfully loaded.\";\n",
       "      }\n",
       "    } else if (Date.now() < root._bokeh_timeout) {\n",
       "      setTimeout(display_loaded, 100)\n",
       "    }\n",
       "  }\n",
       "\n",
       "  function run_callbacks() {\n",
       "    try {\n",
       "      root._bokeh_onload_callbacks.forEach(function(callback) {\n",
       "        if (callback != null)\n",
       "          callback();\n",
       "      });\n",
       "    } finally {\n",
       "      delete root._bokeh_onload_callbacks\n",
       "    }\n",
       "    console.debug(\"Bokeh: all callbacks have finished\");\n",
       "  }\n",
       "\n",
       "  function load_libs(css_urls, js_urls, callback) {\n",
       "    if (css_urls == null) css_urls = [];\n",
       "    if (js_urls == null) js_urls = [];\n",
       "\n",
       "    root._bokeh_onload_callbacks.push(callback);\n",
       "    if (root._bokeh_is_loading > 0) {\n",
       "      console.debug(\"Bokeh: BokehJS is being loaded, scheduling callback at\", now());\n",
       "      return null;\n",
       "    }\n",
       "    if (js_urls == null || js_urls.length === 0) {\n",
       "      run_callbacks();\n",
       "      return null;\n",
       "    }\n",
       "    console.debug(\"Bokeh: BokehJS not loaded, scheduling load and callback at\", now());\n",
       "    root._bokeh_is_loading = css_urls.length + js_urls.length;\n",
       "\n",
       "    function on_load() {\n",
       "      root._bokeh_is_loading--;\n",
       "      if (root._bokeh_is_loading === 0) {\n",
       "        console.debug(\"Bokeh: all BokehJS libraries/stylesheets loaded\");\n",
       "        run_callbacks()\n",
       "      }\n",
       "    }\n",
       "\n",
       "    function on_error(url) {\n",
       "      console.error(\"failed to load \" + url);\n",
       "    }\n",
       "\n",
       "    for (let i = 0; i < css_urls.length; i++) {\n",
       "      const url = css_urls[i];\n",
       "      const element = document.createElement(\"link\");\n",
       "      element.onload = on_load;\n",
       "      element.onerror = on_error.bind(null, url);\n",
       "      element.rel = \"stylesheet\";\n",
       "      element.type = \"text/css\";\n",
       "      element.href = url;\n",
       "      console.debug(\"Bokeh: injecting link tag for BokehJS stylesheet: \", url);\n",
       "      document.body.appendChild(element);\n",
       "    }\n",
       "\n",
       "    for (let i = 0; i < js_urls.length; i++) {\n",
       "      const url = js_urls[i];\n",
       "      const element = document.createElement('script');\n",
       "      element.onload = on_load;\n",
       "      element.onerror = on_error.bind(null, url);\n",
       "      element.async = false;\n",
       "      element.src = url;\n",
       "      console.debug(\"Bokeh: injecting script tag for BokehJS library: \", url);\n",
       "      document.head.appendChild(element);\n",
       "    }\n",
       "  };\n",
       "\n",
       "  function inject_raw_css(css) {\n",
       "    const element = document.createElement(\"style\");\n",
       "    element.appendChild(document.createTextNode(css));\n",
       "    document.body.appendChild(element);\n",
       "  }\n",
       "\n",
       "  const js_urls = [\"https://cdn.bokeh.org/bokeh/release/bokeh-2.4.3.min.js\", \"https://cdn.bokeh.org/bokeh/release/bokeh-gl-2.4.3.min.js\", \"https://cdn.bokeh.org/bokeh/release/bokeh-widgets-2.4.3.min.js\", \"https://cdn.bokeh.org/bokeh/release/bokeh-tables-2.4.3.min.js\", \"https://cdn.bokeh.org/bokeh/release/bokeh-mathjax-2.4.3.min.js\"];\n",
       "  const css_urls = [];\n",
       "\n",
       "  const inline_js = [    function(Bokeh) {\n",
       "      Bokeh.set_log_level(\"info\");\n",
       "    },\n",
       "function(Bokeh) {\n",
       "    }\n",
       "  ];\n",
       "\n",
       "  function run_inline_js() {\n",
       "    if (root.Bokeh !== undefined || force === true) {\n",
       "          for (let i = 0; i < inline_js.length; i++) {\n",
       "      inline_js[i].call(root, root.Bokeh);\n",
       "    }\n",
       "if (force === true) {\n",
       "        display_loaded();\n",
       "      }} else if (Date.now() < root._bokeh_timeout) {\n",
       "      setTimeout(run_inline_js, 100);\n",
       "    } else if (!root._bokeh_failed_load) {\n",
       "      console.log(\"Bokeh: BokehJS failed to load within specified timeout.\");\n",
       "      root._bokeh_failed_load = true;\n",
       "    } else if (force !== true) {\n",
       "      const cell = $(document.getElementById(\"1002\")).parents('.cell').data().cell;\n",
       "      cell.output_area.append_execute_result(NB_LOAD_WARNING)\n",
       "    }\n",
       "  }\n",
       "\n",
       "  if (root._bokeh_is_loading === 0) {\n",
       "    console.debug(\"Bokeh: BokehJS loaded, going straight to plotting\");\n",
       "    run_inline_js();\n",
       "  } else {\n",
       "    load_libs(css_urls, js_urls, function() {\n",
       "      console.debug(\"Bokeh: BokehJS plotting callback run at\", now());\n",
       "      run_inline_js();\n",
       "    });\n",
       "  }\n",
       "}(window));"
      ],
      "application/vnd.bokehjs_load.v0+json": "(function(root) {\n  function now() {\n    return new Date();\n  }\n\n  const force = true;\n\n  if (typeof root._bokeh_onload_callbacks === \"undefined\" || force === true) {\n    root._bokeh_onload_callbacks = [];\n    root._bokeh_is_loading = undefined;\n  }\n\n\n  if (typeof (root._bokeh_timeout) === \"undefined\" || force === true) {\n    root._bokeh_timeout = Date.now() + 5000;\n    root._bokeh_failed_load = false;\n  }\n\n  const NB_LOAD_WARNING = {'data': {'text/html':\n     \"<div style='background-color: #fdd'>\\n\"+\n     \"<p>\\n\"+\n     \"BokehJS does not appear to have successfully loaded. If loading BokehJS from CDN, this \\n\"+\n     \"may be due to a slow or bad network connection. Possible fixes:\\n\"+\n     \"</p>\\n\"+\n     \"<ul>\\n\"+\n     \"<li>re-rerun `output_notebook()` to attempt to load from CDN again, or</li>\\n\"+\n     \"<li>use INLINE resources instead, as so:</li>\\n\"+\n     \"</ul>\\n\"+\n     \"<code>\\n\"+\n     \"from bokeh.resources import INLINE\\n\"+\n     \"output_notebook(resources=INLINE)\\n\"+\n     \"</code>\\n\"+\n     \"</div>\"}};\n\n  function display_loaded() {\n    const el = document.getElementById(\"1002\");\n    if (el != null) {\n      el.textContent = \"BokehJS is loading...\";\n    }\n    if (root.Bokeh !== undefined) {\n      if (el != null) {\n        el.textContent = \"BokehJS \" + root.Bokeh.version + \" successfully loaded.\";\n      }\n    } else if (Date.now() < root._bokeh_timeout) {\n      setTimeout(display_loaded, 100)\n    }\n  }\n\n  function run_callbacks() {\n    try {\n      root._bokeh_onload_callbacks.forEach(function(callback) {\n        if (callback != null)\n          callback();\n      });\n    } finally {\n      delete root._bokeh_onload_callbacks\n    }\n    console.debug(\"Bokeh: all callbacks have finished\");\n  }\n\n  function load_libs(css_urls, js_urls, callback) {\n    if (css_urls == null) css_urls = [];\n    if (js_urls == null) js_urls = [];\n\n    root._bokeh_onload_callbacks.push(callback);\n    if (root._bokeh_is_loading > 0) {\n      console.debug(\"Bokeh: BokehJS is being loaded, scheduling callback at\", now());\n      return null;\n    }\n    if (js_urls == null || js_urls.length === 0) {\n      run_callbacks();\n      return null;\n    }\n    console.debug(\"Bokeh: BokehJS not loaded, scheduling load and callback at\", now());\n    root._bokeh_is_loading = css_urls.length + js_urls.length;\n\n    function on_load() {\n      root._bokeh_is_loading--;\n      if (root._bokeh_is_loading === 0) {\n        console.debug(\"Bokeh: all BokehJS libraries/stylesheets loaded\");\n        run_callbacks()\n      }\n    }\n\n    function on_error(url) {\n      console.error(\"failed to load \" + url);\n    }\n\n    for (let i = 0; i < css_urls.length; i++) {\n      const url = css_urls[i];\n      const element = document.createElement(\"link\");\n      element.onload = on_load;\n      element.onerror = on_error.bind(null, url);\n      element.rel = \"stylesheet\";\n      element.type = \"text/css\";\n      element.href = url;\n      console.debug(\"Bokeh: injecting link tag for BokehJS stylesheet: \", url);\n      document.body.appendChild(element);\n    }\n\n    for (let i = 0; i < js_urls.length; i++) {\n      const url = js_urls[i];\n      const element = document.createElement('script');\n      element.onload = on_load;\n      element.onerror = on_error.bind(null, url);\n      element.async = false;\n      element.src = url;\n      console.debug(\"Bokeh: injecting script tag for BokehJS library: \", url);\n      document.head.appendChild(element);\n    }\n  };\n\n  function inject_raw_css(css) {\n    const element = document.createElement(\"style\");\n    element.appendChild(document.createTextNode(css));\n    document.body.appendChild(element);\n  }\n\n  const js_urls = [\"https://cdn.bokeh.org/bokeh/release/bokeh-2.4.3.min.js\", \"https://cdn.bokeh.org/bokeh/release/bokeh-gl-2.4.3.min.js\", \"https://cdn.bokeh.org/bokeh/release/bokeh-widgets-2.4.3.min.js\", \"https://cdn.bokeh.org/bokeh/release/bokeh-tables-2.4.3.min.js\", \"https://cdn.bokeh.org/bokeh/release/bokeh-mathjax-2.4.3.min.js\"];\n  const css_urls = [];\n\n  const inline_js = [    function(Bokeh) {\n      Bokeh.set_log_level(\"info\");\n    },\nfunction(Bokeh) {\n    }\n  ];\n\n  function run_inline_js() {\n    if (root.Bokeh !== undefined || force === true) {\n          for (let i = 0; i < inline_js.length; i++) {\n      inline_js[i].call(root, root.Bokeh);\n    }\nif (force === true) {\n        display_loaded();\n      }} else if (Date.now() < root._bokeh_timeout) {\n      setTimeout(run_inline_js, 100);\n    } else if (!root._bokeh_failed_load) {\n      console.log(\"Bokeh: BokehJS failed to load within specified timeout.\");\n      root._bokeh_failed_load = true;\n    } else if (force !== true) {\n      const cell = $(document.getElementById(\"1002\")).parents('.cell').data().cell;\n      cell.output_area.append_execute_result(NB_LOAD_WARNING)\n    }\n  }\n\n  if (root._bokeh_is_loading === 0) {\n    console.debug(\"Bokeh: BokehJS loaded, going straight to plotting\");\n    run_inline_js();\n  } else {\n    load_libs(css_urls, js_urls, function() {\n      console.debug(\"Bokeh: BokehJS plotting callback run at\", now());\n      run_inline_js();\n    });\n  }\n}(window));"
     },
     "metadata": {},
     "output_type": "display_data"
    }
   ],
   "source": [
    "#Importing the relevant python libraries and the ols_pwp program\n",
    "\n",
    "import numpy as np\n",
    "import pandas as pd\n",
    "import matplotlib.pyplot as plt\n",
    "import ols_pwp\n",
    "from bokeh.io import output_notebook, show\n",
    "from bokeh.models import ColumnDataSource, Whisker\n",
    "from bokeh.plotting import figure\n",
    "import seaborn as sns\n",
    "output_notebook()"
   ]
  },
  {
   "cell_type": "markdown",
   "id": "6463d5ea",
   "metadata": {},
   "source": [
    "### Importing the datasets: train, ideal and test.\n",
    "\n",
    "The next cell shows how the datasets (train, ideal and test) are imported into this notebook to begin the regression analysis using the ordinary least squares method."
   ]
  },
  {
   "cell_type": "code",
   "execution_count": 3,
   "id": "36b139b8",
   "metadata": {},
   "outputs": [],
   "source": [
    "df_load = ols_pwp.pwpTasks()\n",
    "\n",
    "filepath_train = r\"C:\\Users\\tosin\\GIT_clones\\tosinaa_dlmdspwp01\\implement\\train.csv\"\n",
    "filepath_ideal = r\"C:\\Users\\tosin\\GIT_clones\\tosinaa_dlmdspwp01\\implement\\ideal.csv\"\n",
    "filepath_test = r\"C:\\Users\\tosin\\GIT_clones\\tosinaa_dlmdspwp01\\implement\\test.csv\"\n",
    "\n",
    "train = df_load.df_loader(filepath_train)\n",
    "ideal = df_load.df_loader(filepath_ideal)\n",
    "test = df_load.df_loader(filepath_test)"
   ]
  },
  {
   "cell_type": "code",
   "execution_count": 4,
   "id": "52f5cc27",
   "metadata": {},
   "outputs": [
    {
     "name": "stdout",
     "output_type": "stream",
     "text": [
      "      x         y1         y2        y3         y4\n",
      "0 -20.0 -8000.4050  10648.215 -0.074365 -16000.222\n",
      "1 -19.9 -7880.5566  10503.581  0.047023 -15761.586\n",
      "2 -19.8 -7762.5130  10360.039  0.156072 -15524.712\n",
      "3 -19.7 -7645.6567  10217.856  0.590901 -15290.346\n",
      "4 -19.6 -7529.4863  10077.480  0.525232 -15058.604\n"
     ]
    }
   ],
   "source": [
    "#Printing the top 5 rows of the train dataset\n",
    "\n",
    "print(train.head())"
   ]
  },
  {
   "cell_type": "code",
   "execution_count": 5,
   "id": "dea59e79",
   "metadata": {},
   "outputs": [
    {
     "name": "stdout",
     "output_type": "stream",
     "text": [
      "      x        y1        y2        y3        y4        y5        y6        y7  \\\n",
      "0 -20.0 -0.912945  0.408082  9.087055  5.408082 -9.087055  0.912945 -0.839071   \n",
      "1 -19.9 -0.867644  0.497186  9.132356  5.497186 -9.132356  0.867644 -0.865213   \n",
      "2 -19.8 -0.813674  0.581322  9.186326  5.581322 -9.186326  0.813674 -0.889191   \n",
      "3 -19.7 -0.751573  0.659649  9.248426  5.659649 -9.248426  0.751573 -0.910947   \n",
      "4 -19.6 -0.681964  0.731386  9.318036  5.731386 -9.318036  0.681964 -0.930426   \n",
      "\n",
      "         y8        y9  ...        y41        y42       y43       y44  \\\n",
      "0 -0.850919  0.816164  ... -40.456474  40.204040  2.995732 -0.008333   \n",
      "1  0.168518  0.994372  ... -40.233820  40.048590  2.990720 -0.008340   \n",
      "2  0.612391  1.162644  ... -40.006836  39.890660  2.985682 -0.008347   \n",
      "3 -0.994669  1.319299  ... -39.775787  39.729824  2.980619 -0.008354   \n",
      "4  0.774356  1.462772  ... -39.540980  39.565693  2.975530 -0.008361   \n",
      "\n",
      "         y45       y46       y47       y48       y49       y50  \n",
      "0  12.995732  5.298317 -5.298317 -0.186278  0.912945  0.396850  \n",
      "1  12.990720  5.293305 -5.293305 -0.215690  0.867644  0.476954  \n",
      "2  12.985682  5.288267 -5.288267 -0.236503  0.813674  0.549129  \n",
      "3  12.980619  5.283204 -5.283204 -0.247887  0.751573  0.612840  \n",
      "4  12.975530  5.278115 -5.278115 -0.249389  0.681964  0.667902  \n",
      "\n",
      "[5 rows x 51 columns]\n"
     ]
    }
   ],
   "source": [
    "#Printing the top 5 rows of the ideal dataset\n",
    "\n",
    "print(ideal.head())"
   ]
  },
  {
   "cell_type": "code",
   "execution_count": 6,
   "id": "215aa494",
   "metadata": {},
   "outputs": [
    {
     "name": "stdout",
     "output_type": "stream",
     "text": [
      "      x             y\n",
      "0 -17.5  14492.095000\n",
      "1  19.0      0.480704\n",
      "2   6.5    274.085500\n",
      "3  15.9   8039.792500\n",
      "4 -14.3  -5848.080000\n"
     ]
    }
   ],
   "source": [
    "#Printing the top 5 rows of the test dataset\n",
    "\n",
    "print(test.head())"
   ]
  },
  {
   "cell_type": "markdown",
   "id": "498a93f5",
   "metadata": {},
   "source": [
    "### Computing the four best ideal functions using the train - ideal datasets pair\n",
    "\n",
    "In doing this, we shall create an instance of the ols_pwp.pwpOLS() object from the ols_pwp program module.\n",
    "This will grant us access to the following methods:\n",
    "\n",
    "1.     squared_dev(): This method is used for computing the four best functions and returns the output as a list of dictionaries containing the (y-train : y-ideal, min_ssd).\n",
    "2.     idealfour_builder(): This method is used for building the dataset of the four best ideal functions."
   ]
  },
  {
   "cell_type": "code",
   "execution_count": 8,
   "id": "61764c58",
   "metadata": {},
   "outputs": [
    {
     "name": "stdout",
     "output_type": "stream",
     "text": [
      "Below are the yi-train and the corresponding yi-ideal functions columns (four best) and their minimum SSD values...:\n",
      "{'y1': ['y21', 34.565889914719286]}\n",
      "{'y2': ['y27', 32.360254907816085]}\n",
      "{'y3': ['y2', 35.14535429428959]}\n",
      "{'y4': ['y24', 32.54067830439015]}\n"
     ]
    }
   ],
   "source": [
    "# Computing the ideal functions\n",
    "\n",
    "# Creating the instance of the ols_pwp.pwpOLS object below\n",
    "SSD = ols_pwp.pwpOLS(train, ideal)\n",
    "\n",
    "# Computing the ideal4_lst of four functions\n",
    "ideal4_lst = SSD.squared_dev()\n",
    "print(\"Below are the yi-train and the corresponding yi-ideal functions columns (four best) and their minimum SSD values...:\")\n",
    "for idf in ideal4_lst:\n",
    "    print(idf)"
   ]
  },
  {
   "cell_type": "markdown",
   "id": "6265ac3e",
   "metadata": {},
   "source": [
    "### Validating The Results\n",
    "\n",
    "To validate the results of the four best ideal functions, other model evaluation metrics shall be used.\n",
    "The metrics are listed below:\n",
    "1.     Mean square error (MSE)\n",
    "2.     Root mean square error (RMSE)\n",
    "3.     Mean absolute error (MAD)\n",
    "4.     LogCosh Loss\n"
   ]
  },
  {
   "cell_type": "code",
   "execution_count": 10,
   "id": "69a1cc5f",
   "metadata": {},
   "outputs": [
    {
     "name": "stdout",
     "output_type": "stream",
     "text": [
      "['y21', 0.29]\n",
      "['y27', 0.28]\n",
      "['y2', 0.3]\n",
      "['y24', 0.29]\n"
     ]
    }
   ],
   "source": [
    "# Building a function to compute the root mean square error\n",
    "\n",
    "def build_rmse(df1, df2):\n",
    "    pe = ols_pwp.pwpEvaluate()\n",
    "    mse_train = list()\n",
    "    for col in df2.columns[1:]:\n",
    "        mse_train.append(pe.rmse(df1, df2[col]))\n",
    "    result = (['y' + str(mse_train.index(np.min(mse_train))+1), np.min(mse_train)])\n",
    "    return result\n",
    "\n",
    "# Implementing the rmse calculations\n",
    "\n",
    "print(build_rmse(train.y1, ideal))\n",
    "print(build_rmse(train.y2, ideal))\n",
    "print(build_rmse(train.y3, ideal))\n",
    "print(build_rmse(train.y4, ideal))"
   ]
  },
  {
   "cell_type": "code",
   "execution_count": 11,
   "id": "a94f9af0",
   "metadata": {},
   "outputs": [
    {
     "name": "stdout",
     "output_type": "stream",
     "text": [
      "['y21', 0.09]\n",
      "['y27', 0.08]\n",
      "['y2', 0.09]\n",
      "['y24', 0.08]\n"
     ]
    }
   ],
   "source": [
    "# Building a function to compute the mean square error\n",
    "\n",
    "def build_mse(df1, df2):\n",
    "    pe = ols_pwp.pwpEvaluate()\n",
    "    mse_train = list()\n",
    "    for col in df2.columns[1:]:\n",
    "        mse_train.append(pe.mse(df1, df2[col]))\n",
    "    result = (['y' + str(mse_train.index(np.min(mse_train))+1), np.min(mse_train)])\n",
    "    return result\n",
    "\n",
    "# Implementing the mse calculations\n",
    "\n",
    "print(build_mse(train.y1, ideal))\n",
    "print(build_mse(train.y2, ideal))\n",
    "print(build_mse(train.y3, ideal))\n",
    "print(build_mse(train.y4, ideal))"
   ]
  },
  {
   "cell_type": "code",
   "execution_count": 12,
   "id": "c897b34a",
   "metadata": {},
   "outputs": [
    {
     "name": "stdout",
     "output_type": "stream",
     "text": [
      "['y21', 0.26]\n",
      "['y27', 0.24]\n",
      "['y2', 0.26]\n",
      "['y24', 0.25]\n"
     ]
    }
   ],
   "source": [
    "# Building a function to compute the mean absolute error\n",
    "\n",
    "def build_mae(df1, df2):\n",
    "    pe = ols_pwp.pwpEvaluate()\n",
    "    mse_train = list()\n",
    "    for col in df2.columns[1:]:\n",
    "        mse_train.append(pe.mae(df1, df2[col]))\n",
    "    result = (['y' + str(mse_train.index(np.min(mse_train))+1), np.min(mse_train)])\n",
    "    return result\n",
    "\n",
    "# Implementing the mae calculations\n",
    "\n",
    "print(build_mae(train.y1, ideal))\n",
    "print(build_mae(train.y2, ideal))\n",
    "print(build_mae(train.y3, ideal))\n",
    "print(build_mae(train.y4, ideal))"
   ]
  },
  {
   "cell_type": "code",
   "execution_count": 13,
   "id": "cdee72f0",
   "metadata": {},
   "outputs": [
    {
     "name": "stdout",
     "output_type": "stream",
     "text": [
      "['y21', 16.859829934852186]\n",
      "['y27', 15.788740848849287]\n",
      "['y2', 17.154052011870483]\n",
      "['y24', 15.885944561044262]\n"
     ]
    },
    {
     "name": "stderr",
     "output_type": "stream",
     "text": [
      "C:\\Users\\tosin\\anaconda3\\lib\\site-packages\\pandas\\core\\arraylike.py:397: RuntimeWarning: overflow encountered in cosh\n",
      "  result = getattr(ufunc, method)(*inputs, **kwargs)\n"
     ]
    }
   ],
   "source": [
    "# Building a function to compute the logcosh loss\n",
    "\n",
    "def build_lgcosh(df1, df2):\n",
    "    pe = ols_pwp.pwpEvaluate()\n",
    "    mse_train = list()\n",
    "    for col in df2.columns[1:]:\n",
    "        mse_train.append(pe.logcosh(df1, df2[col]))\n",
    "    result = (['y' + str(mse_train.index(np.min(mse_train))+1), np.min(mse_train)])\n",
    "    return result\n",
    "\n",
    "# Implementing the logcosh calculations\n",
    "\n",
    "print(build_lgcosh(train.y1, ideal))\n",
    "print(build_lgcosh(train.y2, ideal))\n",
    "print(build_lgcosh(train.y3, ideal))\n",
    "print(build_lgcosh(train.y4, ideal))"
   ]
  },
  {
   "cell_type": "markdown",
   "id": "d8cbccfd",
   "metadata": {},
   "source": [
    "### Interpreting the Result\n",
    "\n",
    "The results from the other model evaluation metrics show that the four ideal functions\n",
    "obtained from the sum of square errors is proven to be correct.\n",
    "\n",
    "In summary, the ideal function pairs are provided below.\n",
    "\n",
    "1.     y1-train, y21-idealfour\n",
    "2.     y2-train, y27-idealfour\n",
    "3.     y3-train, y2-idealfour\n",
    "4.     y4-train, y24-idealfour"
   ]
  },
  {
   "cell_type": "code",
   "execution_count": 15,
   "id": "956e51c6",
   "metadata": {},
   "outputs": [
    {
     "name": "stdout",
     "output_type": "stream",
     "text": [
      "      x       y21        y27        y2        y24\n",
      "0 -20.0 -8000.000  10648.000  0.408082 -16000.000\n",
      "1 -19.9 -7880.599  10503.459  0.497186 -15761.198\n",
      "2 -19.8 -7762.392  10360.232  0.581322 -15524.784\n",
      "3 -19.7 -7645.373  10218.313  0.659649 -15290.746\n",
      "4 -19.6 -7529.536  10077.696  0.731386 -15059.072\n"
     ]
    }
   ],
   "source": [
    "### Building the idealfour dataset\n",
    "\n",
    "idealfour = SSD.idealfour_builder()\n",
    "print(idealfour.head())"
   ]
  },
  {
   "cell_type": "markdown",
   "id": "aa71417d",
   "metadata": {},
   "source": [
    "### Visualizing The Results\n",
    "\n",
    "Visualizing the results involves plotting the scatter plots of the dataset pairs to analyze and making inferences based on the findings.\n",
    "\n",
    "The matches or pairs are summerized below:\n",
    "    \n",
    "1.     y1-train, y21-idealfour\n",
    "2.     y2-train, y27-idealfour\n",
    "3.     y3-train, y2-idealfour\n",
    "4.     y4-train, y24-idealfour\n",
    "\n",
    "The Bokeh visualization library will be used to make the plots to understand the curve fitting patterns of the paired datasets."
   ]
  },
  {
   "cell_type": "code",
   "execution_count": 61,
   "id": "6d190fce",
   "metadata": {},
   "outputs": [
    {
     "data": {
      "text/html": [
       "\n",
       "  <div class=\"bk-root\" id=\"b5b035dd-e800-4a05-9dde-9ac46fc144c4\" data-root-id=\"1833\"></div>\n"
      ]
     },
     "metadata": {},
     "output_type": "display_data"
    },
    {
     "data": {
      "application/javascript": [
       "(function(root) {\n",
       "  function embed_document(root) {\n",
       "  const docs_json = {\"117bab39-3ee5-40a9-a4be-b5e593cf97a1\":{\"defs\":[],\"roots\":{\"references\":[{\"attributes\":{\"below\":[{\"id\":\"1844\"}],\"center\":[{\"id\":\"1847\"},{\"id\":\"1851\"},{\"id\":\"1882\"}],\"height\":300,\"left\":[{\"id\":\"1848\"}],\"renderers\":[{\"id\":\"1870\"},{\"id\":\"1888\"}],\"title\":{\"id\":\"1834\"},\"toolbar\":{\"id\":\"1859\"},\"width\":650,\"x_range\":{\"id\":\"1836\"},\"x_scale\":{\"id\":\"1840\"},\"y_range\":{\"id\":\"1838\"},\"y_scale\":{\"id\":\"1842\"}},\"id\":\"1833\",\"subtype\":\"Figure\",\"type\":\"Plot\"},{\"attributes\":{\"coordinates\":null,\"data_source\":{\"id\":\"1884\"},\"glyph\":{\"id\":\"1885\"},\"group\":null,\"hover_glyph\":null,\"muted_glyph\":{\"id\":\"1887\"},\"nonselection_glyph\":{\"id\":\"1886\"},\"view\":{\"id\":\"1889\"}},\"id\":\"1888\",\"type\":\"GlyphRenderer\"},{\"attributes\":{\"source\":{\"id\":\"1866\"}},\"id\":\"1871\",\"type\":\"CDSView\"},{\"attributes\":{\"label\":{\"value\":\"y21 - idealfour\"},\"renderers\":[{\"id\":\"1888\"}]},\"id\":\"1902\",\"type\":\"LegendItem\"},{\"attributes\":{\"fill_alpha\":{\"value\":0.2},\"fill_color\":{\"value\":\"red\"},\"hatch_alpha\":{\"value\":0.2},\"hatch_color\":{\"value\":\"red\"},\"line_alpha\":{\"value\":0.2},\"line_color\":{\"value\":\"red\"},\"marker\":{\"value\":\"square\"},\"size\":{\"value\":5},\"x\":{\"field\":\"x\"},\"y\":{\"field\":\"y\"}},\"id\":\"1887\",\"type\":\"Scatter\"},{\"attributes\":{},\"id\":\"1856\",\"type\":\"ResetTool\"},{\"attributes\":{\"fill_alpha\":{\"value\":0.2},\"fill_color\":{\"value\":\"black\"},\"hatch_alpha\":{\"value\":0.2},\"line_alpha\":{\"value\":0.2},\"size\":{\"value\":12},\"x\":{\"field\":\"x\"},\"y\":{\"field\":\"y\"}},\"id\":\"1869\",\"type\":\"Circle\"},{\"attributes\":{},\"id\":\"1845\",\"type\":\"BasicTicker\"},{\"attributes\":{},\"id\":\"1842\",\"type\":\"LinearScale\"},{\"attributes\":{\"source\":{\"id\":\"1884\"}},\"id\":\"1889\",\"type\":\"CDSView\"},{\"attributes\":{\"label\":{\"value\":\"y1 - train\"},\"renderers\":[{\"id\":\"1870\"}]},\"id\":\"1883\",\"type\":\"LegendItem\"},{\"attributes\":{\"fill_alpha\":{\"value\":0.1},\"fill_color\":{\"value\":\"red\"},\"hatch_alpha\":{\"value\":0.1},\"hatch_color\":{\"value\":\"red\"},\"line_alpha\":{\"value\":0.1},\"line_color\":{\"value\":\"red\"},\"marker\":{\"value\":\"square\"},\"size\":{\"value\":5},\"x\":{\"field\":\"x\"},\"y\":{\"field\":\"y\"}},\"id\":\"1886\",\"type\":\"Scatter\"},{\"attributes\":{},\"id\":\"1852\",\"type\":\"PanTool\"},{\"attributes\":{},\"id\":\"1874\",\"type\":\"BasicTickFormatter\"},{\"attributes\":{},\"id\":\"1857\",\"type\":\"HelpTool\"},{\"attributes\":{\"coordinates\":null,\"formatter\":{\"id\":\"1874\"},\"group\":null,\"major_label_policy\":{\"id\":\"1875\"},\"ticker\":{\"id\":\"1849\"}},\"id\":\"1848\",\"type\":\"LinearAxis\"},{\"attributes\":{},\"id\":\"1875\",\"type\":\"AllLabels\"},{\"attributes\":{},\"id\":\"1877\",\"type\":\"BasicTickFormatter\"},{\"attributes\":{},\"id\":\"1900\",\"type\":\"Selection\"},{\"attributes\":{},\"id\":\"1878\",\"type\":\"AllLabels\"},{\"attributes\":{},\"id\":\"1853\",\"type\":\"WheelZoomTool\"},{\"attributes\":{\"overlay\":{\"id\":\"1858\"}},\"id\":\"1854\",\"type\":\"BoxZoomTool\"},{\"attributes\":{\"coordinates\":null,\"data_source\":{\"id\":\"1866\"},\"glyph\":{\"id\":\"1867\"},\"group\":null,\"hover_glyph\":null,\"muted_glyph\":{\"id\":\"1869\"},\"nonselection_glyph\":{\"id\":\"1868\"},\"view\":{\"id\":\"1871\"}},\"id\":\"1870\",\"type\":\"GlyphRenderer\"},{\"attributes\":{\"axis\":{\"id\":\"1848\"},\"coordinates\":null,\"dimension\":1,\"group\":null,\"ticker\":null},\"id\":\"1851\",\"type\":\"Grid\"},{\"attributes\":{},\"id\":\"1879\",\"type\":\"UnionRenderers\"},{\"attributes\":{},\"id\":\"1849\",\"type\":\"BasicTicker\"},{\"attributes\":{\"fill_color\":{\"value\":\"black\"},\"size\":{\"value\":12},\"x\":{\"field\":\"x\"},\"y\":{\"field\":\"y\"}},\"id\":\"1867\",\"type\":\"Circle\"},{\"attributes\":{\"bottom_units\":\"screen\",\"coordinates\":null,\"fill_alpha\":0.5,\"fill_color\":\"lightgrey\",\"group\":null,\"left_units\":\"screen\",\"level\":\"overlay\",\"line_alpha\":1.0,\"line_color\":\"black\",\"line_dash\":[4,4],\"line_width\":2,\"right_units\":\"screen\",\"syncable\":false,\"top_units\":\"screen\"},\"id\":\"1858\",\"type\":\"BoxAnnotation\"},{\"attributes\":{\"data\":{\"x\":{\"__ndarray__\":\"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\",\"dtype\":\"float64\",\"order\":\"little\",\"shape\":[400]},\"y\":{\"__ndarray__\":\"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\",\"dtype\":\"float64\",\"order\":\"little\",\"shape\":[400]}},\"selected\":{\"id\":\"1880\"},\"selection_policy\":{\"id\":\"1879\"}},\"id\":\"1866\",\"type\":\"ColumnDataSource\"},{\"attributes\":{\"fill_color\":{\"value\":\"red\"},\"hatch_color\":{\"value\":\"red\"},\"line_color\":{\"value\":\"red\"},\"marker\":{\"value\":\"square\"},\"size\":{\"value\":5},\"x\":{\"field\":\"x\"},\"y\":{\"field\":\"y\"}},\"id\":\"1885\",\"type\":\"Scatter\"},{\"attributes\":{\"axis\":{\"id\":\"1844\"},\"coordinates\":null,\"group\":null,\"ticker\":null},\"id\":\"1847\",\"type\":\"Grid\"},{\"attributes\":{},\"id\":\"1880\",\"type\":\"Selection\"},{\"attributes\":{},\"id\":\"1840\",\"type\":\"LinearScale\"},{\"attributes\":{\"tools\":[{\"id\":\"1852\"},{\"id\":\"1853\"},{\"id\":\"1854\"},{\"id\":\"1855\"},{\"id\":\"1856\"},{\"id\":\"1857\"}]},\"id\":\"1859\",\"type\":\"Toolbar\"},{\"attributes\":{\"data\":{\"x\":{\"__ndarray__\":\"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\",\"dtype\":\"float64\",\"order\":\"little\",\"shape\":[400]},\"y\":{\"__ndarray__\":\"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\",\"dtype\":\"float64\",\"order\":\"little\",\"shape\":[400]}},\"selected\":{\"id\":\"1900\"},\"selection_policy\":{\"id\":\"1899\"}},\"id\":\"1884\",\"type\":\"ColumnDataSource\"},{\"attributes\":{\"coordinates\":null,\"formatter\":{\"id\":\"1877\"},\"group\":null,\"major_label_policy\":{\"id\":\"1878\"},\"ticker\":{\"id\":\"1845\"}},\"id\":\"1844\",\"type\":\"LinearAxis\"},{\"attributes\":{},\"id\":\"1899\",\"type\":\"UnionRenderers\"},{\"attributes\":{},\"id\":\"1836\",\"type\":\"DataRange1d\"},{\"attributes\":{\"fill_alpha\":{\"value\":0.1},\"fill_color\":{\"value\":\"black\"},\"hatch_alpha\":{\"value\":0.1},\"line_alpha\":{\"value\":0.1},\"size\":{\"value\":12},\"x\":{\"field\":\"x\"},\"y\":{\"field\":\"y\"}},\"id\":\"1868\",\"type\":\"Circle\"},{\"attributes\":{},\"id\":\"1838\",\"type\":\"DataRange1d\"},{\"attributes\":{},\"id\":\"1855\",\"type\":\"SaveTool\"},{\"attributes\":{\"coordinates\":null,\"group\":null,\"items\":[{\"id\":\"1883\"},{\"id\":\"1902\"}],\"location\":\"bottom_right\",\"title\":\"Legend.\"},\"id\":\"1882\",\"type\":\"Legend\"},{\"attributes\":{\"coordinates\":null,\"group\":null,\"text\":\"Fitting y21-idealfour on y1-train\"},\"id\":\"1834\",\"type\":\"Title\"}],\"root_ids\":[\"1833\"]},\"title\":\"Bokeh Application\",\"version\":\"2.4.3\"}};\n",
       "  const render_items = [{\"docid\":\"117bab39-3ee5-40a9-a4be-b5e593cf97a1\",\"root_ids\":[\"1833\"],\"roots\":{\"1833\":\"b5b035dd-e800-4a05-9dde-9ac46fc144c4\"}}];\n",
       "  root.Bokeh.embed.embed_items_notebook(docs_json, render_items);\n",
       "  }\n",
       "  if (root.Bokeh !== undefined) {\n",
       "    embed_document(root);\n",
       "  } else {\n",
       "    let attempts = 0;\n",
       "    const timer = setInterval(function(root) {\n",
       "      if (root.Bokeh !== undefined) {\n",
       "        clearInterval(timer);\n",
       "        embed_document(root);\n",
       "      } else {\n",
       "        attempts++;\n",
       "        if (attempts > 100) {\n",
       "          clearInterval(timer);\n",
       "          console.log(\"Bokeh: ERROR: Unable to run BokehJS code because BokehJS library is missing\");\n",
       "        }\n",
       "      }\n",
       "    }, 10, root)\n",
       "  }\n",
       "})(window);"
      ],
      "application/vnd.bokehjs_exec.v0+json": ""
     },
     "metadata": {
      "application/vnd.bokehjs_exec.v0+json": {
       "id": "1833"
      }
     },
     "output_type": "display_data"
    }
   ],
   "source": [
    "# Plot of y1-train, y21-idealfour\n",
    "\n",
    "a = figure(plot_width=650, plot_height=300, title= \"Fitting y21-idealfour on y1-train\")\n",
    "\n",
    "a.circle(train.x, train.y1, size=12, color='black', legend_label=\"y1 - train\")\n",
    "a.square(idealfour.x, idealfour.y21, size=5,color='red', legend_label=\"y21 - idealfour\")\n",
    "\n",
    "a.legend.title = \"Legend.\"\n",
    "a.legend.location = \"bottom_right\"\n",
    "\n",
    "show(a)"
   ]
  },
  {
   "cell_type": "code",
   "execution_count": 62,
   "id": "39e7106f",
   "metadata": {},
   "outputs": [
    {
     "name": "stdout",
     "output_type": "stream",
     "text": [
      "1.0\n"
     ]
    }
   ],
   "source": [
    "### Computing the r-squared for this result\n",
    "\n",
    "pe = ols_pwp.pwpEvaluate()\n",
    "rs_1 = pe.r_sqr(train['y1'], idealfour['y21'])\n",
    "\n",
    "print(rs_1)"
   ]
  },
  {
   "cell_type": "code",
   "execution_count": 63,
   "id": "ed4fcf45",
   "metadata": {},
   "outputs": [
    {
     "data": {
      "text/html": [
       "\n",
       "  <div class=\"bk-root\" id=\"8c59aa73-8c25-4ff2-8b6b-8f26603457bf\" data-root-id=\"2035\"></div>\n"
      ]
     },
     "metadata": {},
     "output_type": "display_data"
    },
    {
     "data": {
      "application/javascript": [
       "(function(root) {\n",
       "  function embed_document(root) {\n",
       "  const docs_json = {\"cfc8e796-7d90-4550-86f0-ec71d3c120cf\":{\"defs\":[],\"roots\":{\"references\":[{\"attributes\":{\"below\":[{\"id\":\"2046\"}],\"center\":[{\"id\":\"2049\"},{\"id\":\"2053\"},{\"id\":\"2084\"}],\"height\":350,\"left\":[{\"id\":\"2050\"}],\"renderers\":[{\"id\":\"2072\"},{\"id\":\"2090\"}],\"title\":{\"id\":\"2036\"},\"toolbar\":{\"id\":\"2061\"},\"width\":650,\"x_range\":{\"id\":\"2038\"},\"x_scale\":{\"id\":\"2042\"},\"y_range\":{\"id\":\"2040\"},\"y_scale\":{\"id\":\"2044\"}},\"id\":\"2035\",\"subtype\":\"Figure\",\"type\":\"Plot\"},{\"attributes\":{},\"id\":\"2081\",\"type\":\"UnionRenderers\"},{\"attributes\":{\"coordinates\":null,\"formatter\":{\"id\":\"2076\"},\"group\":null,\"major_label_policy\":{\"id\":\"2077\"},\"ticker\":{\"id\":\"2051\"}},\"id\":\"2050\",\"type\":\"LinearAxis\"},{\"attributes\":{\"bottom_units\":\"screen\",\"coordinates\":null,\"fill_alpha\":0.5,\"fill_color\":\"lightgrey\",\"group\":null,\"left_units\":\"screen\",\"level\":\"overlay\",\"line_alpha\":1.0,\"line_color\":\"black\",\"line_dash\":[4,4],\"line_width\":2,\"right_units\":\"screen\",\"syncable\":false,\"top_units\":\"screen\"},\"id\":\"2060\",\"type\":\"BoxAnnotation\"},{\"attributes\":{},\"id\":\"2082\",\"type\":\"Selection\"},{\"attributes\":{\"coordinates\":null,\"data_source\":{\"id\":\"2086\"},\"glyph\":{\"id\":\"2087\"},\"group\":null,\"hover_glyph\":null,\"muted_glyph\":{\"id\":\"2089\"},\"nonselection_glyph\":{\"id\":\"2088\"},\"view\":{\"id\":\"2091\"}},\"id\":\"2090\",\"type\":\"GlyphRenderer\"},{\"attributes\":{\"label\":{\"value\":\"y27 - idealfour\"},\"renderers\":[{\"id\":\"2090\"}]},\"id\":\"2104\",\"type\":\"LegendItem\"},{\"attributes\":{\"axis\":{\"id\":\"2050\"},\"coordinates\":null,\"dimension\":1,\"group\":null,\"ticker\":null},\"id\":\"2053\",\"type\":\"Grid\"},{\"attributes\":{},\"id\":\"2058\",\"type\":\"ResetTool\"},{\"attributes\":{\"fill_alpha\":{\"value\":0.2},\"fill_color\":{\"value\":\"blue\"},\"hatch_alpha\":{\"value\":0.2},\"hatch_color\":{\"value\":\"blue\"},\"line_alpha\":{\"value\":0.2},\"line_color\":{\"value\":\"blue\"},\"marker\":{\"value\":\"square\"},\"size\":{\"value\":5},\"x\":{\"field\":\"x\"},\"y\":{\"field\":\"y\"}},\"id\":\"2089\",\"type\":\"Scatter\"},{\"attributes\":{\"coordinates\":null,\"data_source\":{\"id\":\"2068\"},\"glyph\":{\"id\":\"2069\"},\"group\":null,\"hover_glyph\":null,\"muted_glyph\":{\"id\":\"2071\"},\"nonselection_glyph\":{\"id\":\"2070\"},\"view\":{\"id\":\"2073\"}},\"id\":\"2072\",\"type\":\"GlyphRenderer\"},{\"attributes\":{},\"id\":\"2047\",\"type\":\"BasicTicker\"},{\"attributes\":{\"source\":{\"id\":\"2086\"}},\"id\":\"2091\",\"type\":\"CDSView\"},{\"attributes\":{\"tools\":[{\"id\":\"2054\"},{\"id\":\"2055\"},{\"id\":\"2056\"},{\"id\":\"2057\"},{\"id\":\"2058\"},{\"id\":\"2059\"}]},\"id\":\"2061\",\"type\":\"Toolbar\"},{\"attributes\":{\"axis\":{\"id\":\"2046\"},\"coordinates\":null,\"group\":null,\"ticker\":null},\"id\":\"2049\",\"type\":\"Grid\"},{\"attributes\":{\"fill_alpha\":{\"value\":0.1},\"fill_color\":{\"value\":\"blue\"},\"hatch_alpha\":{\"value\":0.1},\"hatch_color\":{\"value\":\"blue\"},\"line_alpha\":{\"value\":0.1},\"line_color\":{\"value\":\"blue\"},\"marker\":{\"value\":\"square\"},\"size\":{\"value\":5},\"x\":{\"field\":\"x\"},\"y\":{\"field\":\"y\"}},\"id\":\"2088\",\"type\":\"Scatter\"},{\"attributes\":{},\"id\":\"2077\",\"type\":\"AllLabels\"},{\"attributes\":{\"fill_alpha\":{\"value\":0.2},\"fill_color\":{\"value\":\"black\"},\"hatch_alpha\":{\"value\":0.2},\"line_alpha\":{\"value\":0.2},\"size\":{\"value\":12},\"x\":{\"field\":\"x\"},\"y\":{\"field\":\"y\"}},\"id\":\"2071\",\"type\":\"Circle\"},{\"attributes\":{\"source\":{\"id\":\"2068\"}},\"id\":\"2073\",\"type\":\"CDSView\"},{\"attributes\":{},\"id\":\"2044\",\"type\":\"LinearScale\"},{\"attributes\":{},\"id\":\"2102\",\"type\":\"Selection\"},{\"attributes\":{\"coordinates\":null,\"group\":null,\"items\":[{\"id\":\"2085\"},{\"id\":\"2104\"}],\"title\":\"Legend.\"},\"id\":\"2084\",\"type\":\"Legend\"},{\"attributes\":{},\"id\":\"2057\",\"type\":\"SaveTool\"},{\"attributes\":{\"label\":{\"value\":\"y2 - train\"},\"renderers\":[{\"id\":\"2072\"}]},\"id\":\"2085\",\"type\":\"LegendItem\"},{\"attributes\":{},\"id\":\"2051\",\"type\":\"BasicTicker\"},{\"attributes\":{},\"id\":\"2101\",\"type\":\"UnionRenderers\"},{\"attributes\":{},\"id\":\"2054\",\"type\":\"PanTool\"},{\"attributes\":{},\"id\":\"2040\",\"type\":\"DataRange1d\"},{\"attributes\":{\"coordinates\":null,\"formatter\":{\"id\":\"2079\"},\"group\":null,\"major_label_policy\":{\"id\":\"2080\"},\"ticker\":{\"id\":\"2047\"}},\"id\":\"2046\",\"type\":\"LinearAxis\"},{\"attributes\":{},\"id\":\"2059\",\"type\":\"HelpTool\"},{\"attributes\":{},\"id\":\"2076\",\"type\":\"BasicTickFormatter\"},{\"attributes\":{},\"id\":\"2042\",\"type\":\"LinearScale\"},{\"attributes\":{\"coordinates\":null,\"group\":null,\"text\":\"Fitting y27-idealfour on y2-train\"},\"id\":\"2036\",\"type\":\"Title\"},{\"attributes\":{\"fill_alpha\":{\"value\":0.1},\"fill_color\":{\"value\":\"black\"},\"hatch_alpha\":{\"value\":0.1},\"line_alpha\":{\"value\":0.1},\"size\":{\"value\":12},\"x\":{\"field\":\"x\"},\"y\":{\"field\":\"y\"}},\"id\":\"2070\",\"type\":\"Circle\"},{\"attributes\":{\"overlay\":{\"id\":\"2060\"}},\"id\":\"2056\",\"type\":\"BoxZoomTool\"},{\"attributes\":{},\"id\":\"2038\",\"type\":\"DataRange1d\"},{\"attributes\":{\"data\":{\"x\":{\"__ndarray__\":\"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\",\"dtype\":\"float64\",\"order\":\"little\",\"shape\":[400]},\"y\":{\"__ndarray__\":\"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\",\"dtype\":\"float64\",\"order\":\"little\",\"shape\":[400]}},\"selected\":{\"id\":\"2102\"},\"selection_policy\":{\"id\":\"2101\"}},\"id\":\"2086\",\"type\":\"ColumnDataSource\"},{\"attributes\":{},\"id\":\"2055\",\"type\":\"WheelZoomTool\"},{\"attributes\":{},\"id\":\"2079\",\"type\":\"BasicTickFormatter\"},{\"attributes\":{\"fill_color\":{\"value\":\"black\"},\"size\":{\"value\":12},\"x\":{\"field\":\"x\"},\"y\":{\"field\":\"y\"}},\"id\":\"2069\",\"type\":\"Circle\"},{\"attributes\":{\"data\":{\"x\":{\"__ndarray__\":\"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\",\"dtype\":\"float64\",\"order\":\"little\",\"shape\":[400]},\"y\":{\"__ndarray__\":\"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\",\"dtype\":\"float64\",\"order\":\"little\",\"shape\":[400]}},\"selected\":{\"id\":\"2082\"},\"selection_policy\":{\"id\":\"2081\"}},\"id\":\"2068\",\"type\":\"ColumnDataSource\"},{\"attributes\":{},\"id\":\"2080\",\"type\":\"AllLabels\"},{\"attributes\":{\"fill_color\":{\"value\":\"blue\"},\"hatch_color\":{\"value\":\"blue\"},\"line_color\":{\"value\":\"blue\"},\"marker\":{\"value\":\"square\"},\"size\":{\"value\":5},\"x\":{\"field\":\"x\"},\"y\":{\"field\":\"y\"}},\"id\":\"2087\",\"type\":\"Scatter\"}],\"root_ids\":[\"2035\"]},\"title\":\"Bokeh Application\",\"version\":\"2.4.3\"}};\n",
       "  const render_items = [{\"docid\":\"cfc8e796-7d90-4550-86f0-ec71d3c120cf\",\"root_ids\":[\"2035\"],\"roots\":{\"2035\":\"8c59aa73-8c25-4ff2-8b6b-8f26603457bf\"}}];\n",
       "  root.Bokeh.embed.embed_items_notebook(docs_json, render_items);\n",
       "  }\n",
       "  if (root.Bokeh !== undefined) {\n",
       "    embed_document(root);\n",
       "  } else {\n",
       "    let attempts = 0;\n",
       "    const timer = setInterval(function(root) {\n",
       "      if (root.Bokeh !== undefined) {\n",
       "        clearInterval(timer);\n",
       "        embed_document(root);\n",
       "      } else {\n",
       "        attempts++;\n",
       "        if (attempts > 100) {\n",
       "          clearInterval(timer);\n",
       "          console.log(\"Bokeh: ERROR: Unable to run BokehJS code because BokehJS library is missing\");\n",
       "        }\n",
       "      }\n",
       "    }, 10, root)\n",
       "  }\n",
       "})(window);"
      ],
      "application/vnd.bokehjs_exec.v0+json": ""
     },
     "metadata": {
      "application/vnd.bokehjs_exec.v0+json": {
       "id": "2035"
      }
     },
     "output_type": "display_data"
    }
   ],
   "source": [
    "# Plot of y2-train, y27-idealfour\n",
    "\n",
    "b = figure(plot_width=650, plot_height=350, title= \"Fitting y27-idealfour on y2-train\")\n",
    "\n",
    "b.circle(train.x, train.y2, size=12, color='black', legend_label=\"y2 - train\")\n",
    "b.square(idealfour.x, idealfour.y27, size=5,color='blue', legend_label=\"y27 - idealfour\")\n",
    "\n",
    "b.legend.title = \"Legend.\"\n",
    "b.legend.location = \"top_right\"\n",
    "\n",
    "show(b)"
   ]
  },
  {
   "cell_type": "code",
   "execution_count": 64,
   "id": "5f56bbbe",
   "metadata": {},
   "outputs": [
    {
     "name": "stdout",
     "output_type": "stream",
     "text": [
      "1.0\n"
     ]
    }
   ],
   "source": [
    "### Computing the r-squared for this result\n",
    "\n",
    "pe = ols_pwp.pwpEvaluate()\n",
    "rs_2 = pe.r_sqr(train['y2'], idealfour['y27'])\n",
    "\n",
    "print(rs_2)"
   ]
  },
  {
   "cell_type": "code",
   "execution_count": 65,
   "id": "55d685be",
   "metadata": {},
   "outputs": [
    {
     "data": {
      "text/html": [
       "\n",
       "  <div class=\"bk-root\" id=\"83719f67-9d6a-44b0-8e14-7002d36fa58d\" data-root-id=\"2249\"></div>\n"
      ]
     },
     "metadata": {},
     "output_type": "display_data"
    },
    {
     "data": {
      "application/javascript": [
       "(function(root) {\n",
       "  function embed_document(root) {\n",
       "  const docs_json = {\"a91d077c-b678-480f-9c97-c0059e21b179\":{\"defs\":[],\"roots\":{\"references\":[{\"attributes\":{\"below\":[{\"id\":\"2260\"}],\"center\":[{\"id\":\"2263\"},{\"id\":\"2267\"},{\"id\":\"2298\"}],\"left\":[{\"id\":\"2264\"}],\"renderers\":[{\"id\":\"2286\"},{\"id\":\"2304\"}],\"title\":{\"id\":\"2250\"},\"toolbar\":{\"id\":\"2275\"},\"x_range\":{\"id\":\"2252\"},\"x_scale\":{\"id\":\"2256\"},\"y_range\":{\"id\":\"2254\"},\"y_scale\":{\"id\":\"2258\"}},\"id\":\"2249\",\"subtype\":\"Figure\",\"type\":\"Plot\"},{\"attributes\":{\"fill_alpha\":{\"value\":0.1},\"fill_color\":{\"value\":\"yellow\"},\"hatch_alpha\":{\"value\":0.1},\"hatch_color\":{\"value\":\"yellow\"},\"line_alpha\":{\"value\":0.1},\"line_color\":{\"value\":\"yellow\"},\"marker\":{\"value\":\"square\"},\"size\":{\"value\":5},\"x\":{\"field\":\"x\"},\"y\":{\"field\":\"y\"}},\"id\":\"2302\",\"type\":\"Scatter\"},{\"attributes\":{},\"id\":\"2271\",\"type\":\"SaveTool\"},{\"attributes\":{\"fill_alpha\":{\"value\":0.2},\"fill_color\":{\"value\":\"yellow\"},\"hatch_alpha\":{\"value\":0.2},\"hatch_color\":{\"value\":\"yellow\"},\"line_alpha\":{\"value\":0.2},\"line_color\":{\"value\":\"yellow\"},\"marker\":{\"value\":\"square\"},\"size\":{\"value\":5},\"x\":{\"field\":\"x\"},\"y\":{\"field\":\"y\"}},\"id\":\"2303\",\"type\":\"Scatter\"},{\"attributes\":{\"source\":{\"id\":\"2300\"}},\"id\":\"2305\",\"type\":\"CDSView\"},{\"attributes\":{\"label\":{\"value\":\"y2 - idealfour\"},\"renderers\":[{\"id\":\"2304\"}]},\"id\":\"2318\",\"type\":\"LegendItem\"},{\"attributes\":{\"fill_color\":{\"value\":\"black\"},\"size\":{\"value\":12},\"x\":{\"field\":\"x\"},\"y\":{\"field\":\"y\"}},\"id\":\"2283\",\"type\":\"Circle\"},{\"attributes\":{\"coordinates\":null,\"data_source\":{\"id\":\"2300\"},\"glyph\":{\"id\":\"2301\"},\"group\":null,\"hover_glyph\":null,\"muted_glyph\":{\"id\":\"2303\"},\"nonselection_glyph\":{\"id\":\"2302\"},\"view\":{\"id\":\"2305\"}},\"id\":\"2304\",\"type\":\"GlyphRenderer\"},{\"attributes\":{},\"id\":\"2290\",\"type\":\"BasicTickFormatter\"},{\"attributes\":{},\"id\":\"2268\",\"type\":\"PanTool\"},{\"attributes\":{},\"id\":\"2261\",\"type\":\"BasicTicker\"},{\"attributes\":{\"fill_alpha\":{\"value\":0.1},\"fill_color\":{\"value\":\"black\"},\"hatch_alpha\":{\"value\":0.1},\"line_alpha\":{\"value\":0.1},\"size\":{\"value\":12},\"x\":{\"field\":\"x\"},\"y\":{\"field\":\"y\"}},\"id\":\"2284\",\"type\":\"Circle\"},{\"attributes\":{\"coordinates\":null,\"data_source\":{\"id\":\"2282\"},\"glyph\":{\"id\":\"2283\"},\"group\":null,\"hover_glyph\":null,\"muted_glyph\":{\"id\":\"2285\"},\"nonselection_glyph\":{\"id\":\"2284\"},\"view\":{\"id\":\"2287\"}},\"id\":\"2286\",\"type\":\"GlyphRenderer\"},{\"attributes\":{\"overlay\":{\"id\":\"2274\"}},\"id\":\"2270\",\"type\":\"BoxZoomTool\"},{\"attributes\":{},\"id\":\"2291\",\"type\":\"AllLabels\"},{\"attributes\":{},\"id\":\"2316\",\"type\":\"Selection\"},{\"attributes\":{\"fill_alpha\":{\"value\":0.2},\"fill_color\":{\"value\":\"black\"},\"hatch_alpha\":{\"value\":0.2},\"line_alpha\":{\"value\":0.2},\"size\":{\"value\":12},\"x\":{\"field\":\"x\"},\"y\":{\"field\":\"y\"}},\"id\":\"2285\",\"type\":\"Circle\"},{\"attributes\":{\"axis\":{\"id\":\"2264\"},\"coordinates\":null,\"dimension\":1,\"group\":null,\"ticker\":null},\"id\":\"2267\",\"type\":\"Grid\"},{\"attributes\":{\"data\":{\"x\":{\"__ndarray__\":\"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\",\"dtype\":\"float64\",\"order\":\"little\",\"shape\":[400]},\"y\":{\"__ndarray__\":\"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\",\"dtype\":\"float64\",\"order\":\"little\",\"shape\":[400]}},\"selected\":{\"id\":\"2296\"},\"selection_policy\":{\"id\":\"2295\"}},\"id\":\"2282\",\"type\":\"ColumnDataSource\"},{\"attributes\":{\"coordinates\":null,\"formatter\":{\"id\":\"2293\"},\"group\":null,\"major_label_policy\":{\"id\":\"2294\"},\"ticker\":{\"id\":\"2261\"}},\"id\":\"2260\",\"type\":\"LinearAxis\"},{\"attributes\":{},\"id\":\"2272\",\"type\":\"ResetTool\"},{\"attributes\":{},\"id\":\"2293\",\"type\":\"BasicTickFormatter\"},{\"attributes\":{},\"id\":\"2315\",\"type\":\"UnionRenderers\"},{\"attributes\":{\"bottom_units\":\"screen\",\"coordinates\":null,\"fill_alpha\":0.5,\"fill_color\":\"lightgrey\",\"group\":null,\"left_units\":\"screen\",\"level\":\"overlay\",\"line_alpha\":1.0,\"line_color\":\"black\",\"line_dash\":[4,4],\"line_width\":2,\"right_units\":\"screen\",\"syncable\":false,\"top_units\":\"screen\"},\"id\":\"2274\",\"type\":\"BoxAnnotation\"},{\"attributes\":{\"data\":{\"x\":{\"__ndarray__\":\"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\",\"dtype\":\"float64\",\"order\":\"little\",\"shape\":[400]},\"y\":{\"__ndarray__\":\"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\",\"dtype\":\"float64\",\"order\":\"little\",\"shape\":[400]}},\"selected\":{\"id\":\"2316\"},\"selection_policy\":{\"id\":\"2315\"}},\"id\":\"2300\",\"type\":\"ColumnDataSource\"},{\"attributes\":{},\"id\":\"2294\",\"type\":\"AllLabels\"},{\"attributes\":{\"fill_color\":{\"value\":\"yellow\"},\"hatch_color\":{\"value\":\"yellow\"},\"line_color\":{\"value\":\"yellow\"},\"marker\":{\"value\":\"square\"},\"size\":{\"value\":5},\"x\":{\"field\":\"x\"},\"y\":{\"field\":\"y\"}},\"id\":\"2301\",\"type\":\"Scatter\"},{\"attributes\":{\"source\":{\"id\":\"2282\"}},\"id\":\"2287\",\"type\":\"CDSView\"},{\"attributes\":{},\"id\":\"2252\",\"type\":\"DataRange1d\"},{\"attributes\":{},\"id\":\"2265\",\"type\":\"BasicTicker\"},{\"attributes\":{\"coordinates\":null,\"formatter\":{\"id\":\"2290\"},\"group\":null,\"major_label_policy\":{\"id\":\"2291\"},\"ticker\":{\"id\":\"2265\"}},\"id\":\"2264\",\"type\":\"LinearAxis\"},{\"attributes\":{\"tools\":[{\"id\":\"2268\"},{\"id\":\"2269\"},{\"id\":\"2270\"},{\"id\":\"2271\"},{\"id\":\"2272\"},{\"id\":\"2273\"}]},\"id\":\"2275\",\"type\":\"Toolbar\"},{\"attributes\":{\"coordinates\":null,\"group\":null,\"items\":[{\"id\":\"2299\"},{\"id\":\"2318\"}],\"location\":\"bottom_left\",\"title\":\"Legend.\"},\"id\":\"2298\",\"type\":\"Legend\"},{\"attributes\":{},\"id\":\"2295\",\"type\":\"UnionRenderers\"},{\"attributes\":{},\"id\":\"2254\",\"type\":\"DataRange1d\"},{\"attributes\":{},\"id\":\"2273\",\"type\":\"HelpTool\"},{\"attributes\":{\"label\":{\"value\":\"y3 - train\"},\"renderers\":[{\"id\":\"2286\"}]},\"id\":\"2299\",\"type\":\"LegendItem\"},{\"attributes\":{},\"id\":\"2258\",\"type\":\"LinearScale\"},{\"attributes\":{},\"id\":\"2256\",\"type\":\"LinearScale\"},{\"attributes\":{\"axis\":{\"id\":\"2260\"},\"coordinates\":null,\"group\":null,\"ticker\":null},\"id\":\"2263\",\"type\":\"Grid\"},{\"attributes\":{},\"id\":\"2296\",\"type\":\"Selection\"},{\"attributes\":{},\"id\":\"2269\",\"type\":\"WheelZoomTool\"},{\"attributes\":{\"coordinates\":null,\"group\":null,\"text\":\"Fitting y2-idealfour on y3-train\"},\"id\":\"2250\",\"type\":\"Title\"}],\"root_ids\":[\"2249\"]},\"title\":\"Bokeh Application\",\"version\":\"2.4.3\"}};\n",
       "  const render_items = [{\"docid\":\"a91d077c-b678-480f-9c97-c0059e21b179\",\"root_ids\":[\"2249\"],\"roots\":{\"2249\":\"83719f67-9d6a-44b0-8e14-7002d36fa58d\"}}];\n",
       "  root.Bokeh.embed.embed_items_notebook(docs_json, render_items);\n",
       "  }\n",
       "  if (root.Bokeh !== undefined) {\n",
       "    embed_document(root);\n",
       "  } else {\n",
       "    let attempts = 0;\n",
       "    const timer = setInterval(function(root) {\n",
       "      if (root.Bokeh !== undefined) {\n",
       "        clearInterval(timer);\n",
       "        embed_document(root);\n",
       "      } else {\n",
       "        attempts++;\n",
       "        if (attempts > 100) {\n",
       "          clearInterval(timer);\n",
       "          console.log(\"Bokeh: ERROR: Unable to run BokehJS code because BokehJS library is missing\");\n",
       "        }\n",
       "      }\n",
       "    }, 10, root)\n",
       "  }\n",
       "})(window);"
      ],
      "application/vnd.bokehjs_exec.v0+json": ""
     },
     "metadata": {
      "application/vnd.bokehjs_exec.v0+json": {
       "id": "2249"
      }
     },
     "output_type": "display_data"
    }
   ],
   "source": [
    "# Plot of y3-train, y2-idealfour\n",
    "\n",
    "c = figure(title= \"Fitting y2-idealfour on y3-train\")\n",
    "\n",
    "c.circle(train.x, train.y3, size=12, color='black', legend_label=\"y3 - train\")\n",
    "c.square(idealfour.x, idealfour.y2, size=5,color='yellow', legend_label=\"y2 - idealfour\")\n",
    "\n",
    "c.legend.title = \"Legend.\"\n",
    "c.legend.location = \"bottom_left\"\n",
    "\n",
    "show(c)"
   ]
  },
  {
   "cell_type": "code",
   "execution_count": 66,
   "id": "e3f521be",
   "metadata": {},
   "outputs": [
    {
     "name": "stdout",
     "output_type": "stream",
     "text": [
      "0.91\n"
     ]
    }
   ],
   "source": [
    "### Computing the r-squared for this result\n",
    "\n",
    "pe = ols_pwp.pwpEvaluate()\n",
    "rs_3 = pe.r_sqr(train['y3'], idealfour['y2'])\n",
    "\n",
    "print(rs_3)"
   ]
  },
  {
   "cell_type": "code",
   "execution_count": 67,
   "id": "7fd6df1c",
   "metadata": {},
   "outputs": [
    {
     "data": {
      "text/html": [
       "\n",
       "  <div class=\"bk-root\" id=\"776ffe80-93ef-41f2-9bfd-aa027cd06a6b\" data-root-id=\"2475\"></div>\n"
      ]
     },
     "metadata": {},
     "output_type": "display_data"
    },
    {
     "data": {
      "application/javascript": [
       "(function(root) {\n",
       "  function embed_document(root) {\n",
       "  const docs_json = {\"7e1d912b-41c8-4114-908e-10e352f70eb9\":{\"defs\":[],\"roots\":{\"references\":[{\"attributes\":{\"below\":[{\"id\":\"2486\"}],\"center\":[{\"id\":\"2489\"},{\"id\":\"2493\"},{\"id\":\"2524\"}],\"height\":350,\"left\":[{\"id\":\"2490\"}],\"renderers\":[{\"id\":\"2512\"},{\"id\":\"2530\"}],\"title\":{\"id\":\"2476\"},\"toolbar\":{\"id\":\"2501\"},\"width\":650,\"x_range\":{\"id\":\"2478\"},\"x_scale\":{\"id\":\"2482\"},\"y_range\":{\"id\":\"2480\"},\"y_scale\":{\"id\":\"2484\"}},\"id\":\"2475\",\"subtype\":\"Figure\",\"type\":\"Plot\"},{\"attributes\":{\"coordinates\":null,\"data_source\":{\"id\":\"2526\"},\"glyph\":{\"id\":\"2527\"},\"group\":null,\"hover_glyph\":null,\"muted_glyph\":{\"id\":\"2529\"},\"nonselection_glyph\":{\"id\":\"2528\"},\"view\":{\"id\":\"2531\"}},\"id\":\"2530\",\"type\":\"GlyphRenderer\"},{\"attributes\":{\"axis\":{\"id\":\"2486\"},\"coordinates\":null,\"group\":null,\"ticker\":null},\"id\":\"2489\",\"type\":\"Grid\"},{\"attributes\":{\"fill_alpha\":{\"value\":0.2},\"fill_color\":{\"value\":\"green\"},\"hatch_alpha\":{\"value\":0.2},\"hatch_color\":{\"value\":\"green\"},\"line_alpha\":{\"value\":0.2},\"line_color\":{\"value\":\"green\"},\"marker\":{\"value\":\"square\"},\"size\":{\"value\":5},\"x\":{\"field\":\"x\"},\"y\":{\"field\":\"y\"}},\"id\":\"2529\",\"type\":\"Scatter\"},{\"attributes\":{\"coordinates\":null,\"data_source\":{\"id\":\"2508\"},\"glyph\":{\"id\":\"2509\"},\"group\":null,\"hover_glyph\":null,\"muted_glyph\":{\"id\":\"2511\"},\"nonselection_glyph\":{\"id\":\"2510\"},\"view\":{\"id\":\"2513\"}},\"id\":\"2512\",\"type\":\"GlyphRenderer\"},{\"attributes\":{},\"id\":\"2521\",\"type\":\"UnionRenderers\"},{\"attributes\":{},\"id\":\"2542\",\"type\":\"Selection\"},{\"attributes\":{\"bottom_units\":\"screen\",\"coordinates\":null,\"fill_alpha\":0.5,\"fill_color\":\"lightgrey\",\"group\":null,\"left_units\":\"screen\",\"level\":\"overlay\",\"line_alpha\":1.0,\"line_color\":\"black\",\"line_dash\":[4,4],\"line_width\":2,\"right_units\":\"screen\",\"syncable\":false,\"top_units\":\"screen\"},\"id\":\"2500\",\"type\":\"BoxAnnotation\"},{\"attributes\":{},\"id\":\"2520\",\"type\":\"AllLabels\"},{\"attributes\":{\"overlay\":{\"id\":\"2500\"}},\"id\":\"2496\",\"type\":\"BoxZoomTool\"},{\"attributes\":{\"fill_alpha\":{\"value\":0.1},\"fill_color\":{\"value\":\"green\"},\"hatch_alpha\":{\"value\":0.1},\"hatch_color\":{\"value\":\"green\"},\"line_alpha\":{\"value\":0.1},\"line_color\":{\"value\":\"green\"},\"marker\":{\"value\":\"square\"},\"size\":{\"value\":5},\"x\":{\"field\":\"x\"},\"y\":{\"field\":\"y\"}},\"id\":\"2528\",\"type\":\"Scatter\"},{\"attributes\":{\"label\":{\"value\":\"y24-idealfour\"},\"renderers\":[{\"id\":\"2530\"}]},\"id\":\"2544\",\"type\":\"LegendItem\"},{\"attributes\":{},\"id\":\"2522\",\"type\":\"Selection\"},{\"attributes\":{\"fill_color\":{\"value\":\"black\"},\"size\":{\"value\":12},\"x\":{\"field\":\"x\"},\"y\":{\"field\":\"y\"}},\"id\":\"2509\",\"type\":\"Circle\"},{\"attributes\":{\"fill_alpha\":{\"value\":0.2},\"fill_color\":{\"value\":\"black\"},\"hatch_alpha\":{\"value\":0.2},\"line_alpha\":{\"value\":0.2},\"size\":{\"value\":12},\"x\":{\"field\":\"x\"},\"y\":{\"field\":\"y\"}},\"id\":\"2511\",\"type\":\"Circle\"},{\"attributes\":{\"source\":{\"id\":\"2508\"}},\"id\":\"2513\",\"type\":\"CDSView\"},{\"attributes\":{},\"id\":\"2541\",\"type\":\"UnionRenderers\"},{\"attributes\":{\"coordinates\":null,\"group\":null,\"items\":[{\"id\":\"2525\"},{\"id\":\"2544\"}],\"location\":\"bottom_right\",\"title\":\"Legend.\"},\"id\":\"2524\",\"type\":\"Legend\"},{\"attributes\":{\"data\":{\"x\":{\"__ndarray__\":\"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\",\"dtype\":\"float64\",\"order\":\"little\",\"shape\":[400]},\"y\":{\"__ndarray__\":\"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\",\"dtype\":\"float64\",\"order\":\"little\",\"shape\":[400]}},\"selected\":{\"id\":\"2522\"},\"selection_policy\":{\"id\":\"2521\"}},\"id\":\"2508\",\"type\":\"ColumnDataSource\"},{\"attributes\":{\"label\":{\"value\":\"y4-train\"},\"renderers\":[{\"id\":\"2512\"}]},\"id\":\"2525\",\"type\":\"LegendItem\"},{\"attributes\":{\"fill_color\":{\"value\":\"green\"},\"hatch_color\":{\"value\":\"green\"},\"line_color\":{\"value\":\"green\"},\"marker\":{\"value\":\"square\"},\"size\":{\"value\":5},\"x\":{\"field\":\"x\"},\"y\":{\"field\":\"y\"}},\"id\":\"2527\",\"type\":\"Scatter\"},{\"attributes\":{},\"id\":\"2494\",\"type\":\"PanTool\"},{\"attributes\":{\"axis\":{\"id\":\"2490\"},\"coordinates\":null,\"dimension\":1,\"group\":null,\"ticker\":null},\"id\":\"2493\",\"type\":\"Grid\"},{\"attributes\":{},\"id\":\"2484\",\"type\":\"LinearScale\"},{\"attributes\":{\"data\":{\"x\":{\"__ndarray__\":\"AAAAAAAANMBmZmZmZuYzwM3MzMzMzDPAMzMzMzOzM8CamZmZmZkzwAAAAAAAgDPAZmZmZmZmM8DNzMzMzEwzwDMzMzMzMzPAmpmZmZkZM8AAAAAAAAAzwGZmZmZm5jLAzczMzMzMMsAzMzMzM7MywJqZmZmZmTLAAAAAAACAMsBmZmZmZmYywM3MzMzMTDLAMzMzMzMzMsCamZmZmRkywAAAAAAAADLAZmZmZmbmMcDNzMzMzMwxwDMzMzMzszHAmpmZmZmZMcAAAAAAAIAxwGZmZmZmZjHAzczMzMxMMcAzMzMzMzMxwJqZmZmZGTHAAAAAAAAAMcBmZmZmZuYwwM3MzMzMzDDAMzMzMzOzMMCamZmZmZkwwAAAAAAAgDDAZmZmZmZmMMDNzMzMzEwwwDMzMzMzMzDAmpmZmZkZMMAAAAAAAAAwwM3MzMzMzC/AmpmZmZmZL8BmZmZmZmYvwDMzMzMzMy/AAAAAAAAAL8DNzMzMzMwuwJqZmZmZmS7AZmZmZmZmLsAzMzMzMzMuwAAAAAAAAC7AzczMzMzMLcCamZmZmZktwGZmZmZmZi3AMzMzMzMzLcAAAAAAAAAtwM3MzMzMzCzAmpmZmZmZLMBmZmZmZmYswDMzMzMzMyzAAAAAAAAALMDNzMzMzMwrwJqZmZmZmSvAZmZmZmZmK8AzMzMzMzMrwAAAAAAAACvAzczMzMzMKsCamZmZmZkqwGZmZmZmZirAMzMzMzMzKsAAAAAAAAAqwM3MzMzMzCnAmpmZmZmZKcBmZmZmZmYpwDMzMzMzMynAAAAAAAAAKcDNzMzMzMwowJqZmZmZmSjAZmZmZmZmKMAzMzMzMzMowAAAAAAAACjAzczMzMzMJ8CamZmZmZknwGZmZmZmZifAMzMzMzMzJ8AAAAAAAAAnwM3MzMzMzCbAmpmZmZmZJsBmZmZmZmYmwDMzMzMzMybAAAAAAAAAJsDNzMzMzMwlwJqZmZmZmSXAZmZmZmZmJcAzMzMzMzMlwAAAAAAAACXAzczMzMzMJMCamZmZmZkkwGZmZmZmZiTAMzMzMzMzJMAAAAAAAAAkwM3MzMzMzCPAmpmZmZmZI8BmZmZmZmYjwDMzMzMzMyPAAAAAAAAAI8DNzMzMzMwiwJqZmZmZmSLAZmZmZmZmIsAzMzMzMzMiwAAAAAAAACLAzczMzMzMIcCamZmZmZkhwGZmZmZmZiHAMzMzMzMzIcAAAAAAAAAhwM3MzMzMzCDAmpmZmZmZIMBmZmZmZmYgwDMzMzMzMyDAAAAAAAAAIMCamZmZmZkfwDMzMzMzMx/AzczMzMzMHsBmZmZmZmYewAAAAAAAAB7AmpmZmZmZHcAzMzMzMzMdwM3MzMzMzBzAZmZmZmZmHMAAAAAAAAAcwJqZmZmZmRvAMzMzMzMzG8DNzMzMzMwawGZmZmZmZhrAAAAAAAAAGsCamZmZmZkZwDMzMzMzMxnAzczMzMzMGMBmZmZmZmYYwAAAAAAAABjAmpmZmZmZF8AzMzMzMzMXwM3MzMzMzBbAZmZmZmZmFsAAAAAAAAAWwJqZmZmZmRXAMzMzMzMzFcDNzMzMzMwUwGZmZmZmZhTAAAAAAAAAFMCamZmZmZkTwDMzMzMzMxPAzczMzMzMEsBmZmZmZmYSwAAAAAAAABLAmpmZmZmZEcAzMzMzMzMRwM3MzMzMzBDAZmZmZmZmEMAAAAAAAAAQwDMzMzMzMw/AZmZmZmZmDsCamZmZmZkNwM3MzMzMzAzAAAAAAAAADMAzMzMzMzMLwGZmZmZmZgrAmpmZmZmZCcDNzMzMzMwIwAAAAAAAAAjAMzMzMzMzB8BmZmZmZmYGwJqZmZmZmQXAzczMzMzMBMAAAAAAAAAEwDMzMzMzMwPAZmZmZmZmAsCamZmZmZkBwM3MzMzMzADAAAAAAAAAAMBmZmZmZmb+v83MzMzMzPy/MzMzMzMz+7+amZmZmZn5vwAAAAAAAPi/ZmZmZmZm9r/NzMzMzMz0vzMzMzMzM/O/mpmZmZmZ8b8AAAAAAADwv83MzMzMzOy/mpmZmZmZ6b9mZmZmZmbmvzMzMzMzM+O/AAAAAAAA4L+amZmZmZnZvzMzMzMzM9O/mpmZmZmZyb+amZmZmZm5v45/uQYAAFQ9mpmZmZmZuT+amZmZmZnJPzMzMzMzM9M/mpmZmZmZ2T8AAAAAAADgPzMzMzMzM+M/ZmZmZmZm5j+amZmZmZnpP83MzMzMzOw/AAAAAAAA8D+amZmZmZnxPzMzMzMzM/M/zczMzMzM9D9mZmZmZmb2PwAAAAAAAPg/mpmZmZmZ+T8zMzMzMzP7P83MzMzMzPw/ZmZmZmZm/j8AAAAAAAAAQM3MzMzMzABAmpmZmZmZAUBmZmZmZmYCQDMzMzMzMwNAAAAAAAAABEDNzMzMzMwEQJqZmZmZmQVAZmZmZmZmBkAzMzMzMzMHQAAAAAAAAAhAzczMzMzMCECamZmZmZkJQGZmZmZmZgpAMzMzMzMzC0AAAAAAAAAMQM3MzMzMzAxAmpmZmZmZDUBmZmZmZmYOQDMzMzMzMw9AAAAAAAAAEEBmZmZmZmYQQM3MzMzMzBBAMzMzMzMzEUCamZmZmZkRQAAAAAAAABJAZmZmZmZmEkDNzMzMzMwSQDMzMzMzMxNAmpmZmZmZE0AAAAAAAAAUQGZmZmZmZhRAzczMzMzMFEAzMzMzMzMVQJqZmZmZmRVAAAAAAAAAFkBmZmZmZmYWQM3MzMzMzBZAMzMzMzMzF0CamZmZmZkXQAAAAAAAABhAZmZmZmZmGEDNzMzMzMwYQDMzMzMzMxlAmpmZmZmZGUAAAAAAAAAaQGZmZmZmZhpAzczMzMzMGkAzMzMzMzMbQJqZmZmZmRtAAAAAAAAAHEBmZmZmZmYcQM3MzMzMzBxAMzMzMzMzHUCamZmZmZkdQAAAAAAAAB5AZmZmZmZmHkDNzMzMzMweQDMzMzMzMx9AmpmZmZmZH0AAAAAAAAAgQDMzMzMzMyBAZmZmZmZmIECamZmZmZkgQM3MzMzMzCBAAAAAAAAAIUAzMzMzMzMhQGZmZmZmZiFAmpmZmZmZIUDNzMzMzMwhQAAAAAAAACJAMzMzMzMzIkBmZmZmZmYiQJqZmZmZmSJAzczMzMzMIkAAAAAAAAAjQDMzMzMzMyNAZmZmZmZmI0CamZmZmZkjQM3MzMzMzCNAAAAAAAAAJEAzMzMzMzMkQGZmZmZmZiRAmpmZmZmZJEDNzMzMzMwkQAAAAAAAACVAMzMzMzMzJUBmZmZmZmYlQJqZmZmZmSVAzczMzMzMJUAAAAAAAAAmQDMzMzMzMyZAZmZmZmZmJkCamZmZmZkmQM3MzMzMzCZAAAAAAAAAJ0AzMzMzMzMnQGZmZmZmZidAmpmZmZmZJ0DNzMzMzMwnQAAAAAAAAChAMzMzMzMzKEBmZmZmZmYoQJqZmZmZmShAzczMzMzMKEAAAAAAAAApQDMzMzMzMylAZmZmZmZmKUCamZmZmZkpQM3MzMzMzClAAAAAAAAAKkAzMzMzMzMqQGZmZmZmZipAmpmZmZmZKkDNzMzMzMwqQAAAAAAAACtAMzMzMzMzK0BmZmZmZmYrQJqZmZmZmStAzczMzMzMK0AAAAAAAAAsQDMzMzMzMyxAZmZmZmZmLECamZmZmZksQM3MzMzMzCxAAAAAAAAALUAzMzMzMzMtQGZmZmZmZi1AmpmZmZmZLUDNzMzMzMwtQAAAAAAAAC5AMzMzMzMzLkBmZmZmZmYuQJqZmZmZmS5AzczMzMzMLkAAAAAAAAAvQDMzMzMzMy9AZmZmZmZmL0CamZmZmZkvQM3MzMzMzC9AAAAAAAAAMECamZmZmRkwQDMzMzMzMzBAzczMzMxMMEBmZmZmZmYwQAAAAAAAgDBAmpmZmZmZMEAzMzMzM7MwQM3MzMzMzDBAZmZmZmbmMEAAAAAAAAAxQJqZmZmZGTFAMzMzMzMzMUDNzMzMzEwxQGZmZmZmZjFAAAAAAACAMUCamZmZmZkxQDMzMzMzszFAzczMzMzMMUBmZmZmZuYxQAAAAAAAADJAmpmZmZkZMkAzMzMzMzMyQM3MzMzMTDJAZmZmZmZmMkAAAAAAAIAyQJqZmZmZmTJAMzMzMzOzMkDNzMzMzMwyQGZmZmZm5jJAAAAAAAAAM0CamZmZmRkzQDMzMzMzMzNAzczMzMxMM0BmZmZmZmYzQAAAAAAAgDNAmpmZmZmZM0AzMzMzM7MzQM3MzMzMzDNAZmZmZmbmM0A=\",\"dtype\":\"float64\",\"order\":\"little\",\"shape\":[400]},\"y\":{\"__ndarray__\":\"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\",\"dtype\":\"float64\",\"order\":\"little\",\"shape\":[400]}},\"selected\":{\"id\":\"2542\"},\"selection_policy\":{\"id\":\"2541\"}},\"id\":\"2526\",\"type\":\"ColumnDataSource\"},{\"attributes\":{},\"id\":\"2478\",\"type\":\"DataRange1d\"},{\"attributes\":{\"fill_alpha\":{\"value\":0.1},\"fill_color\":{\"value\":\"black\"},\"hatch_alpha\":{\"value\":0.1},\"line_alpha\":{\"value\":0.1},\"size\":{\"value\":12},\"x\":{\"field\":\"x\"},\"y\":{\"field\":\"y\"}},\"id\":\"2510\",\"type\":\"Circle\"},{\"attributes\":{},\"id\":\"2498\",\"type\":\"ResetTool\"},{\"attributes\":{},\"id\":\"2519\",\"type\":\"BasicTickFormatter\"},{\"attributes\":{},\"id\":\"2480\",\"type\":\"DataRange1d\"},{\"attributes\":{},\"id\":\"2487\",\"type\":\"BasicTicker\"},{\"attributes\":{},\"id\":\"2517\",\"type\":\"AllLabels\"},{\"attributes\":{},\"id\":\"2482\",\"type\":\"LinearScale\"},{\"attributes\":{\"coordinates\":null,\"group\":null,\"text\":\"Fitting y24-idealfour on y4-train\"},\"id\":\"2476\",\"type\":\"Title\"},{\"attributes\":{\"tools\":[{\"id\":\"2494\"},{\"id\":\"2495\"},{\"id\":\"2496\"},{\"id\":\"2497\"},{\"id\":\"2498\"},{\"id\":\"2499\"}]},\"id\":\"2501\",\"type\":\"Toolbar\"},{\"attributes\":{},\"id\":\"2495\",\"type\":\"WheelZoomTool\"},{\"attributes\":{\"coordinates\":null,\"formatter\":{\"id\":\"2519\"},\"group\":null,\"major_label_policy\":{\"id\":\"2520\"},\"ticker\":{\"id\":\"2487\"}},\"id\":\"2486\",\"type\":\"LinearAxis\"},{\"attributes\":{},\"id\":\"2491\",\"type\":\"BasicTicker\"},{\"attributes\":{},\"id\":\"2497\",\"type\":\"SaveTool\"},{\"attributes\":{\"coordinates\":null,\"formatter\":{\"id\":\"2516\"},\"group\":null,\"major_label_policy\":{\"id\":\"2517\"},\"ticker\":{\"id\":\"2491\"}},\"id\":\"2490\",\"type\":\"LinearAxis\"},{\"attributes\":{},\"id\":\"2516\",\"type\":\"BasicTickFormatter\"},{\"attributes\":{\"source\":{\"id\":\"2526\"}},\"id\":\"2531\",\"type\":\"CDSView\"},{\"attributes\":{},\"id\":\"2499\",\"type\":\"HelpTool\"}],\"root_ids\":[\"2475\"]},\"title\":\"Bokeh Application\",\"version\":\"2.4.3\"}};\n",
       "  const render_items = [{\"docid\":\"7e1d912b-41c8-4114-908e-10e352f70eb9\",\"root_ids\":[\"2475\"],\"roots\":{\"2475\":\"776ffe80-93ef-41f2-9bfd-aa027cd06a6b\"}}];\n",
       "  root.Bokeh.embed.embed_items_notebook(docs_json, render_items);\n",
       "  }\n",
       "  if (root.Bokeh !== undefined) {\n",
       "    embed_document(root);\n",
       "  } else {\n",
       "    let attempts = 0;\n",
       "    const timer = setInterval(function(root) {\n",
       "      if (root.Bokeh !== undefined) {\n",
       "        clearInterval(timer);\n",
       "        embed_document(root);\n",
       "      } else {\n",
       "        attempts++;\n",
       "        if (attempts > 100) {\n",
       "          clearInterval(timer);\n",
       "          console.log(\"Bokeh: ERROR: Unable to run BokehJS code because BokehJS library is missing\");\n",
       "        }\n",
       "      }\n",
       "    }, 10, root)\n",
       "  }\n",
       "})(window);"
      ],
      "application/vnd.bokehjs_exec.v0+json": ""
     },
     "metadata": {
      "application/vnd.bokehjs_exec.v0+json": {
       "id": "2475"
      }
     },
     "output_type": "display_data"
    }
   ],
   "source": [
    "# Plot of y4-train, y24-idealfour\n",
    "\n",
    "d = figure(plot_width=650, plot_height=350, title= \"Fitting y24-idealfour on y4-train\")\n",
    "\n",
    "d.circle(train.x, train.y4, size=12, color='black', legend_label=\"y4-train\")\n",
    "d.square(idealfour.x, idealfour.y24, size=5,color='green', legend_label=\"y24-idealfour\")\n",
    "\n",
    "d.legend.title = \"Legend.\"\n",
    "d.legend.location = \"bottom_right\"\n",
    "\n",
    "show(d)"
   ]
  },
  {
   "cell_type": "code",
   "execution_count": 68,
   "id": "bd63749c",
   "metadata": {},
   "outputs": [
    {
     "name": "stdout",
     "output_type": "stream",
     "text": [
      "1.0\n"
     ]
    }
   ],
   "source": [
    "### Computing the r-squared for this result\n",
    "\n",
    "pe = ols_pwp.pwpEvaluate()\n",
    "rs_4 = pe.r_sqr(train['y4'], idealfour['y24'])\n",
    "\n",
    "print(rs_4)"
   ]
  },
  {
   "cell_type": "markdown",
   "id": "498bf949",
   "metadata": {},
   "source": [
    "### Finding the Best Fit From the Test and IdealFour Datasets\n",
    "\n",
    "The second task required to find the final fitting function on the test dataset is as follows."
   ]
  },
  {
   "cell_type": "code",
   "execution_count": 70,
   "id": "08a81909",
   "metadata": {},
   "outputs": [
    {
     "name": "stdout",
     "output_type": "stream",
     "text": [
      "(92, 5)\n"
     ]
    }
   ],
   "source": [
    "# Subsetting the idealfour dataset using the test['x'] to obtain the final idf_in_test dataset.\n",
    "\n",
    "idf_in_test = idealfour[idealfour['x'].isin(test['x'])]\n",
    "print(idf_in_test.shape)"
   ]
  },
  {
   "cell_type": "code",
   "execution_count": 71,
   "id": "6c08dc41",
   "metadata": {},
   "outputs": [
    {
     "name": "stdout",
     "output_type": "stream",
     "text": [
      "[['y24', 20451.356]]\n"
     ]
    }
   ],
   "source": [
    "# Computing the test and idf_in_test datasets pair maximum deviation and determining which column has the maximum deviation\n",
    "\n",
    "dev = ols_pwp.pwpDeviation(test,idf_in_test)\n",
    "\n",
    "test_and_idf = dev.max_dev()\n",
    "print(test_and_idf)"
   ]
  },
  {
   "cell_type": "code",
   "execution_count": 72,
   "id": "7827caec",
   "metadata": {},
   "outputs": [
    {
     "name": "stdout",
     "output_type": "stream",
     "text": [
      "[['y27', 18648.405], ['y25', 34643.215], ['y25', 23994.92563518], ['y27', 26648.222]]\n"
     ]
    }
   ],
   "source": [
    "# Computing the train and ideal datasets pair maximum deviation\n",
    "\n",
    "dev = ols_pwp.pwpDeviation(train, ideal)\n",
    "train_ideal = dev.max_dev()\n",
    "print(train_ideal)"
   ]
  },
  {
   "cell_type": "code",
   "execution_count": 73,
   "id": "b6892ae5",
   "metadata": {},
   "outputs": [
    {
     "name": "stdout",
     "output_type": "stream",
     "text": [
      "True\n"
     ]
    }
   ],
   "source": [
    "# Performing the check for the conditions \n",
    "# maximum deviation of the test-idealfour datasets pair is less than\n",
    "# the product of the maximum deviation of the train-ideal datasets pair and the square root of 2.\n",
    "\n",
    "print(test_and_idf[0][1] < (train_ideal[1][1] * np.sqrt(2)))"
   ]
  },
  {
   "cell_type": "code",
   "execution_count": 74,
   "id": "2e0ac420",
   "metadata": {},
   "outputs": [
    {
     "name": "stdout",
     "output_type": "stream",
     "text": [
      "       x        y24\n",
      "7  -19.3 -14378.114\n",
      "8  -19.2 -14155.776\n",
      "13 -18.7 -13078.406\n",
      "14 -18.6 -12869.712\n",
      "25 -17.5 -10718.750\n"
     ]
    }
   ],
   "source": [
    "# Building the fit dataset derived from the max deviation calculation \n",
    "# using the test and idealfour datasets pair\n",
    "\n",
    "fit = idf_in_test[[\"x\", \"y24\"]]\n",
    "print(fit.head())"
   ]
  },
  {
   "cell_type": "code",
   "execution_count": 75,
   "id": "44a402c9",
   "metadata": {},
   "outputs": [
    {
     "data": {
      "text/html": [
       "\n",
       "  <div class=\"bk-root\" id=\"d550325a-5190-4658-bad2-3cc7a2469cdf\" data-root-id=\"2713\"></div>\n"
      ]
     },
     "metadata": {},
     "output_type": "display_data"
    },
    {
     "data": {
      "application/javascript": [
       "(function(root) {\n",
       "  function embed_document(root) {\n",
       "  const docs_json = {\"571fd44e-6c33-4319-9741-d2a8872336bf\":{\"defs\":[],\"roots\":{\"references\":[{\"attributes\":{\"below\":[{\"id\":\"2724\"}],\"center\":[{\"id\":\"2727\"},{\"id\":\"2731\"},{\"id\":\"2762\"}],\"height\":350,\"left\":[{\"id\":\"2728\"}],\"renderers\":[{\"id\":\"2750\"},{\"id\":\"2768\"}],\"title\":{\"id\":\"2714\"},\"toolbar\":{\"id\":\"2739\"},\"width\":650,\"x_range\":{\"id\":\"2716\"},\"x_scale\":{\"id\":\"2720\"},\"y_range\":{\"id\":\"2718\"},\"y_scale\":{\"id\":\"2722\"}},\"id\":\"2713\",\"subtype\":\"Figure\",\"type\":\"Plot\"},{\"attributes\":{},\"id\":\"2760\",\"type\":\"Selection\"},{\"attributes\":{\"coordinates\":null,\"data_source\":{\"id\":\"2746\"},\"glyph\":{\"id\":\"2747\"},\"group\":null,\"hover_glyph\":null,\"muted_glyph\":{\"id\":\"2749\"},\"nonselection_glyph\":{\"id\":\"2748\"},\"view\":{\"id\":\"2751\"}},\"id\":\"2750\",\"type\":\"GlyphRenderer\"},{\"attributes\":{},\"id\":\"2716\",\"type\":\"DataRange1d\"},{\"attributes\":{\"tools\":[{\"id\":\"2732\"},{\"id\":\"2733\"},{\"id\":\"2734\"},{\"id\":\"2735\"},{\"id\":\"2736\"},{\"id\":\"2737\"}]},\"id\":\"2739\",\"type\":\"Toolbar\"},{\"attributes\":{\"bottom_units\":\"screen\",\"coordinates\":null,\"fill_alpha\":0.5,\"fill_color\":\"lightgrey\",\"group\":null,\"left_units\":\"screen\",\"level\":\"overlay\",\"line_alpha\":1.0,\"line_color\":\"black\",\"line_dash\":[4,4],\"line_width\":2,\"right_units\":\"screen\",\"syncable\":false,\"top_units\":\"screen\"},\"id\":\"2738\",\"type\":\"BoxAnnotation\"},{\"attributes\":{\"fill_color\":{\"value\":\"black\"},\"size\":{\"value\":12},\"x\":{\"field\":\"x\"},\"y\":{\"field\":\"y\"}},\"id\":\"2747\",\"type\":\"Circle\"},{\"attributes\":{},\"id\":\"2735\",\"type\":\"SaveTool\"},{\"attributes\":{},\"id\":\"2736\",\"type\":\"ResetTool\"},{\"attributes\":{\"axis\":{\"id\":\"2728\"},\"coordinates\":null,\"dimension\":1,\"group\":null,\"ticker\":null},\"id\":\"2731\",\"type\":\"Grid\"},{\"attributes\":{},\"id\":\"2737\",\"type\":\"HelpTool\"},{\"attributes\":{},\"id\":\"2732\",\"type\":\"PanTool\"},{\"attributes\":{\"overlay\":{\"id\":\"2738\"}},\"id\":\"2734\",\"type\":\"BoxZoomTool\"},{\"attributes\":{\"fill_alpha\":{\"value\":0.1},\"fill_color\":{\"value\":\"black\"},\"hatch_alpha\":{\"value\":0.1},\"line_alpha\":{\"value\":0.1},\"size\":{\"value\":12},\"x\":{\"field\":\"x\"},\"y\":{\"field\":\"y\"}},\"id\":\"2748\",\"type\":\"Circle\"},{\"attributes\":{\"data\":{\"x\":{\"__ndarray__\":\"AAAAAACAMcAAAAAAAAAzQAAAAAAAABpAzczMzMzML0CamZmZmZkswDMzMzMzM9M/mpmZmZmZuT8zMzMzMzMTQAAAAAAAAC7AAAAAAAAALUAzMzMzMzMzQM3MzMzMzCpAMzMzMzMzKEDNzMzMzEwwwM3MzMzMzBjAZmZmZmZmDsDNzMzMzMwuQGZmZmZmZhJAAAAAAAAAMcBmZmZmZmYQQM3MzMzMzCXAZmZmZmZmIUAAAAAAAAAswAAAAAAAACdAAAAAAAAAIkCamZmZmZkJwGZmZmZmZva/AAAAAAAAHEBmZmZmZmYOQM3MzMzMzClAZmZmZmZmFMDNzMzMzMwnwJqZmZmZmSVAmpmZmZmZE0DNzMzMzMwvQJqZmZmZmRXAZmZmZmZmMkCamZmZmZkpwDMzMzMzMzPAzczMzMxMM8CamZmZmZkpQDMzMzMzM9M/zczMzMzMLEAzMzMzMzMLQDMzMzMzMwfAAAAAAAAAJ8CamZmZmZkqwM3MzMzMzBbAmpmZmZmZKsDNzMzMzMwaQJqZmZmZmSTAmpmZmZmZMMDNzMzMzMwtwAAAAAAAABBAAAAAAAAAGsCamZmZmZnZP5qZmZmZmRtAZmZmZmZmM0CamZmZmZkfQM3MzMzMzCRAZmZmZmZmGsBmZmZmZmYuwDMzMzMzMyBAzczMzMzMGMBmZmZmZuYyQM3MzMzMzBBAzczMzMzMDMDNzMzMzMwuwAAAAAAAABxAMzMzMzMzFcAzMzMzM7MywJqZmZmZmTJAMzMzMzMzI0CamZmZmZkywGZmZmZmZipAzczMzMzMHsAzMzMzMzMdwGZmZmZmZinAMzMzMzMzIcDNzMzMzMweQJqZmZmZmSLAzczMzMzMHsDNzMzMzMwvwJqZmZmZmTNAZmZmZmZm/r9mZmZmZmYiQAAAAAAAABZAZmZmZmZmMcCamZmZmZkmwJqZmZmZmR/AmpmZmZmZ2T8AAAAAAAAgwM3MzMzMzCnAzczMzMzMGECamZmZmZkZQGZmZmZmZhpAzczMzMzMJ0AzMzMzMzMbQM3MzMzMzBpAMzMzMzMzD0A=\",\"dtype\":\"float64\",\"order\":\"little\",\"shape\":[100]},\"y\":{\"__ndarray__\":\"j8L1KAxOzED2BgTf2cPeP+58PzVeIXFAFK5H4cpnv0CuR+F6FNi2wCzN951woBFAs8gbBS1p878fnbryWXRbQIzbaADvXrrAfPKwUGvjg0BYObTIRqbLQCuHFtmOI5fACRueXmmtq0Awbv66Llfmv05/9iNF2G3APzVeusl+xUBD9/b4zjn/v3Qkl/8w4rNAEoPAyhExw8D3rkFfeislwB6n6EjuPZTAVisTfqmZhEBSSZ2AJm+lwIvt8ALl6aI/rvVFQlvOhkA8iJ0pdIthQHnnUIaq6AvAeR7cnfVshUBgWz/9Zx1LQC7/If32xqBAHcnlP8ReoEBb07zjFFeqwEOtad5xtJNANsgkI2cjXUB8SilDsKUCwFgczvzqZHlASL99HQg6scBQF87aEl7XPwrXo3ANpsvAqaROQBOVq0AtIR/0bKuTwOoj8IeffxBA2/l+ajwfzkBDkrR2Nl/2v+kWsqE4U+O/wFsgQREgrcCeKXReY5cAQAAAAABAg7lA6+I2GmD8q0CyM31dIxXkP8l2vp9KG8nA7j4qckactL/TTWIQmNi5wGFUUiegS5pAd4TTghc94z9ughThy+n4P9PZyeCoioRAarx0k3iFzEBd3EYD+L1+QD2bVZ9rjYLAg1FJnYDng0ArUfaWch7wvxKDwMpBTbTA1M8fw/gjzT/n+6nxYl/KQNhucUNCyt6/b4EExY/vZUB3vp8aT5S0QAdX5ecrrew/tOVciqurYsCPwvUovIq5wJp3nKLzIrlAy6FFtmODy8Dn+6nxMhPBQNobfGFy95XAXwzlRDt/fMBzY3rCklp4wDeJQWCVPcHABEXi1L2E/b8ibHh6pYGMQFXBqKROIJnAHVpkO1+QfMC6SQwCS6zBQPCnxktH68TA1JrmHZehu8B5WKg1zUp3wBK3r6gtWuU/EaG2sult9j9VcNP6tjvEP+RO6WA9T45AXdxGA3i7E0DXUdUEUfx/wA/hDLxiH9C/ks8rnnqEUsCLVBhbCGZwQD0K16NgNMlAPL1SliFVmkAnMQisDOHKwOAtkKB4yoJAMErQX+glTkA=\",\"dtype\":\"float64\",\"order\":\"little\",\"shape\":[100]}},\"selected\":{\"id\":\"2760\"},\"selection_policy\":{\"id\":\"2759\"}},\"id\":\"2746\",\"type\":\"ColumnDataSource\"},{\"attributes\":{\"fill_color\":{\"value\":\"green\"},\"hatch_color\":{\"value\":\"green\"},\"line_color\":{\"value\":\"green\"},\"marker\":{\"value\":\"square\"},\"size\":{\"value\":7},\"x\":{\"field\":\"x\"},\"y\":{\"field\":\"y\"}},\"id\":\"2765\",\"type\":\"Scatter\"},{\"attributes\":{\"coordinates\":null,\"formatter\":{\"id\":\"2757\"},\"group\":null,\"major_label_policy\":{\"id\":\"2758\"},\"ticker\":{\"id\":\"2725\"}},\"id\":\"2724\",\"type\":\"LinearAxis\"},{\"attributes\":{\"coordinates\":null,\"group\":null,\"items\":[{\"id\":\"2763\"},{\"id\":\"2782\"}],\"location\":\"bottom_right\",\"title\":\"Legend.\"},\"id\":\"2762\",\"type\":\"Legend\"},{\"attributes\":{\"source\":{\"id\":\"2746\"}},\"id\":\"2751\",\"type\":\"CDSView\"},{\"attributes\":{\"data\":{\"x\":{\"__ndarray__\":\"zczMzMxMM8AzMzMzMzMzwDMzMzMzszLAmpmZmZmZMsAAAAAAAIAxwGZmZmZmZjHAAAAAAAAAMcCamZmZmZkwwM3MzMzMTDDAzczMzMzML8DNzMzMzMwuwGZmZmZmZi7AAAAAAAAALsDNzMzMzMwtwJqZmZmZmSzAAAAAAAAALMCamZmZmZkqwM3MzMzMzCnAmpmZmZmZKcBmZmZmZmYpwM3MzMzMzCfAAAAAAAAAJ8CamZmZmZkmwM3MzMzMzCXAmpmZmZmZJMCamZmZmZkiwDMzMzMzMyHAAAAAAAAAIMCamZmZmZkfwM3MzMzMzB7AMzMzMzMzHcBmZmZmZmYawAAAAAAAABrAzczMzMzMGMDNzMzMzMwWwJqZmZmZmRXAMzMzMzMzFcBmZmZmZmYUwGZmZmZmZg7AzczMzMzMDMCamZmZmZkJwDMzMzMzMwfAZmZmZmZm/r9mZmZmZmb2v5qZmZmZmbk/MzMzMzMz0z+amZmZmZnZPzMzMzMzMwtAZmZmZmZmDkAzMzMzMzMPQAAAAAAAABBAZmZmZmZmEEDNzMzMzMwQQGZmZmZmZhJAMzMzMzMzE0CamZmZmZkTQAAAAAAAABZAzczMzMzMGECamZmZmZkZQAAAAAAAABpAZmZmZmZmGkDNzMzMzMwaQDMzMzMzMxtAmpmZmZmZG0AAAAAAAAAcQM3MzMzMzB5AmpmZmZmZH0AzMzMzMzMgQGZmZmZmZiFAAAAAAAAAIkBmZmZmZmYiQDMzMzMzMyNAzczMzMzMJECamZmZmZklQAAAAAAAACdAzczMzMzMJ0AzMzMzMzMoQJqZmZmZmSlAzczMzMzMKUBmZmZmZmYqQM3MzMzMzCpAzczMzMzMLEAAAAAAAAAtQM3MzMzMzC5AzczMzMzML0BmZmZmZmYyQJqZmZmZmTJAZmZmZmbmMkAAAAAAAAAzQDMzMzMzMzNAZmZmZmZmM0CamZmZmZkzQA==\",\"dtype\":\"float64\",\"order\":\"little\",\"shape\":[92]},\"y\":{\"__ndarray__\":\"30+Nlw4VzMDZzvdT46XLwBfZzvczi8nAYOXQItsiycAAAAAAYO/EwBsv3SQGlMTAAAAAAAAxw8Ce76fGS97BwB1aZDu/6sDA+FPjpVtnv8BKDAIrh4i8wFYOLbKdb7vAAAAAAABeusDP91Pj5de5wIts5/tp2LbAAAAAAABwtcAbL90kRmGywOOlm8RgxbDA/Knx0k1isMC8dJMYxACwwEJg5dCiVKrAAAAAAIDDp8AMAiuHloumwFYOLbIdPKTAxSCwcugSocBg5dAi2yKZwJzEILBy4JPAAAAAAAAAkMC0yHa+n9COwEoMAiuHiIzAg8DKoUVQiMAOLbKd7/eBwAAAAAAAKoHA0SLb+X7KfcAZBFYOLSZ3wAIrhxbZrnPA8tJNYhCccsBGtvP91JRwwFYOLbKdb1vAhxbZzvdTV8D8qfHSTWJQwN0kBoGVY0jAVg4tsp1vK8DByqFFtvMVwPyp8dJNYmA/2c73U+Olqz/8qfHSTWLAP/T91HjpplNAVg4tsp1vW0BGtvP91KhdQAAAAAAAAGBAbef7qfE6YUASg8DKoYViQC/dJAaBVWhA2c73U+Ola0Coxks3iWltQAAAAAAAzHRA0SLb+X7KfUD8qfHSTWKAQAAAAAAAKoFADi2yne/3gUCR7Xw/NcyCQPT91HjppoNAoBov3SSIhEAAAAAAAHCFQEoMAiuHiIxAtMh2vp/QjkBKDAIrh5uQQBsv3SQGlJRAAAAAAADIlkAv3SQGgVWYQNnO91PjpZtA+n5qvHSToUACK4cW2a6jQAAAAACAw6dAQmDl0KJUqkA5tMh2Pq6rQPyp8dJNYrBA46WbxGDFsEAOLbKd7/exQJHtfD81zLJAhxbZzvdTt0AAAAAAQNG3QEoMAiuHiLxA+FPjpVtnv0Av3SQGgVXIQGDl0CLbIslAoBov3URfykAAAAAAAMvKQNnO91PjpctAqvHSTWKFzECoxks3iWnNQA==\",\"dtype\":\"float64\",\"order\":\"little\",\"shape\":[92]}},\"selected\":{\"id\":\"2780\"},\"selection_policy\":{\"id\":\"2779\"}},\"id\":\"2764\",\"type\":\"ColumnDataSource\"},{\"attributes\":{},\"id\":\"2754\",\"type\":\"BasicTickFormatter\"},{\"attributes\":{\"label\":{\"value\":\"y - test\"},\"renderers\":[{\"id\":\"2750\"}]},\"id\":\"2763\",\"type\":\"LegendItem\"},{\"attributes\":{\"coordinates\":null,\"group\":null,\"text\":\"Fitting y24-fit on y-test\"},\"id\":\"2714\",\"type\":\"Title\"},{\"attributes\":{\"fill_alpha\":{\"value\":0.2},\"fill_color\":{\"value\":\"green\"},\"hatch_alpha\":{\"value\":0.2},\"hatch_color\":{\"value\":\"green\"},\"line_alpha\":{\"value\":0.2},\"line_color\":{\"value\":\"green\"},\"marker\":{\"value\":\"square\"},\"size\":{\"value\":7},\"x\":{\"field\":\"x\"},\"y\":{\"field\":\"y\"}},\"id\":\"2767\",\"type\":\"Scatter\"},{\"attributes\":{},\"id\":\"2755\",\"type\":\"AllLabels\"},{\"attributes\":{\"label\":{\"value\":\"y24 - fit\"},\"renderers\":[{\"id\":\"2768\"}]},\"id\":\"2782\",\"type\":\"LegendItem\"},{\"attributes\":{\"coordinates\":null,\"data_source\":{\"id\":\"2764\"},\"glyph\":{\"id\":\"2765\"},\"group\":null,\"hover_glyph\":null,\"muted_glyph\":{\"id\":\"2767\"},\"nonselection_glyph\":{\"id\":\"2766\"},\"view\":{\"id\":\"2769\"}},\"id\":\"2768\",\"type\":\"GlyphRenderer\"},{\"attributes\":{\"source\":{\"id\":\"2764\"}},\"id\":\"2769\",\"type\":\"CDSView\"},{\"attributes\":{\"fill_alpha\":{\"value\":0.2},\"fill_color\":{\"value\":\"black\"},\"hatch_alpha\":{\"value\":0.2},\"line_alpha\":{\"value\":0.2},\"size\":{\"value\":12},\"x\":{\"field\":\"x\"},\"y\":{\"field\":\"y\"}},\"id\":\"2749\",\"type\":\"Circle\"},{\"attributes\":{},\"id\":\"2757\",\"type\":\"BasicTickFormatter\"},{\"attributes\":{\"fill_alpha\":{\"value\":0.1},\"fill_color\":{\"value\":\"green\"},\"hatch_alpha\":{\"value\":0.1},\"hatch_color\":{\"value\":\"green\"},\"line_alpha\":{\"value\":0.1},\"line_color\":{\"value\":\"green\"},\"marker\":{\"value\":\"square\"},\"size\":{\"value\":7},\"x\":{\"field\":\"x\"},\"y\":{\"field\":\"y\"}},\"id\":\"2766\",\"type\":\"Scatter\"},{\"attributes\":{},\"id\":\"2758\",\"type\":\"AllLabels\"},{\"attributes\":{},\"id\":\"2722\",\"type\":\"LinearScale\"},{\"attributes\":{},\"id\":\"2780\",\"type\":\"Selection\"},{\"attributes\":{},\"id\":\"2718\",\"type\":\"DataRange1d\"},{\"attributes\":{\"coordinates\":null,\"formatter\":{\"id\":\"2754\"},\"group\":null,\"major_label_policy\":{\"id\":\"2755\"},\"ticker\":{\"id\":\"2729\"}},\"id\":\"2728\",\"type\":\"LinearAxis\"},{\"attributes\":{},\"id\":\"2720\",\"type\":\"LinearScale\"},{\"attributes\":{},\"id\":\"2725\",\"type\":\"BasicTicker\"},{\"attributes\":{},\"id\":\"2779\",\"type\":\"UnionRenderers\"},{\"attributes\":{},\"id\":\"2729\",\"type\":\"BasicTicker\"},{\"attributes\":{},\"id\":\"2733\",\"type\":\"WheelZoomTool\"},{\"attributes\":{},\"id\":\"2759\",\"type\":\"UnionRenderers\"},{\"attributes\":{\"axis\":{\"id\":\"2724\"},\"coordinates\":null,\"group\":null,\"ticker\":null},\"id\":\"2727\",\"type\":\"Grid\"}],\"root_ids\":[\"2713\"]},\"title\":\"Bokeh Application\",\"version\":\"2.4.3\"}};\n",
       "  const render_items = [{\"docid\":\"571fd44e-6c33-4319-9741-d2a8872336bf\",\"root_ids\":[\"2713\"],\"roots\":{\"2713\":\"d550325a-5190-4658-bad2-3cc7a2469cdf\"}}];\n",
       "  root.Bokeh.embed.embed_items_notebook(docs_json, render_items);\n",
       "  }\n",
       "  if (root.Bokeh !== undefined) {\n",
       "    embed_document(root);\n",
       "  } else {\n",
       "    let attempts = 0;\n",
       "    const timer = setInterval(function(root) {\n",
       "      if (root.Bokeh !== undefined) {\n",
       "        clearInterval(timer);\n",
       "        embed_document(root);\n",
       "      } else {\n",
       "        attempts++;\n",
       "        if (attempts > 100) {\n",
       "          clearInterval(timer);\n",
       "          console.log(\"Bokeh: ERROR: Unable to run BokehJS code because BokehJS library is missing\");\n",
       "        }\n",
       "      }\n",
       "    }, 10, root)\n",
       "  }\n",
       "})(window);"
      ],
      "application/vnd.bokehjs_exec.v0+json": ""
     },
     "metadata": {
      "application/vnd.bokehjs_exec.v0+json": {
       "id": "2713"
      }
     },
     "output_type": "display_data"
    }
   ],
   "source": [
    "# Conclusively, we can plot the fit dataset (idf_in_test[[x, y24]]) on the test dataset to study the curve fit. \n",
    "\n",
    "e = figure(plot_width=650, plot_height=350, title= \"Fitting y24-fit on y-test\")\n",
    "\n",
    "e.circle(test.x, test.y, size=12, color='black', legend_label=\"y - test\")\n",
    "e.square(fit.x, fit.y24, size=7,color='green', legend_label=\"y24 - fit\")\n",
    "\n",
    "e.legend.title = \"Legend.\"\n",
    "e.legend.location = \"bottom_right\"\n",
    "\n",
    "show(e)"
   ]
  },
  {
   "cell_type": "code",
   "execution_count": 76,
   "id": "b24aa33b",
   "metadata": {},
   "outputs": [
    {
     "name": "stdout",
     "output_type": "stream",
     "text": [
      "1.08\n"
     ]
    }
   ],
   "source": [
    "### Computing the r-squared for this result\n",
    "\n",
    "pe = ols_pwp.pwpEvaluate()\n",
    "rs_5 = pe.r_sqr(test['y'], idf_in_test['y24'])\n",
    "\n",
    "print(rs_5)"
   ]
  },
  {
   "cell_type": "markdown",
   "id": "36bad792",
   "metadata": {},
   "source": [
    "### Conclusion\n",
    "\n",
    "Therefore, the fitting function is that contained in the fit dataset."
   ]
  },
  {
   "cell_type": "markdown",
   "id": "ebb6ff5e",
   "metadata": {},
   "source": [
    "### Creating the Database and Writing the Datasets into Database Tables\n",
    "\n",
    "At this stage, it is necessary to write all the DataFrame datasets into an sql database. So this will involve the 3 datasets\n",
    "provided for the project and the additional two datasets created while working on the project.\n",
    "\n",
    "To begin this next step, importing the important libraries is very important."
   ]
  },
  {
   "cell_type": "code",
   "execution_count": 77,
   "id": "43c4af47",
   "metadata": {},
   "outputs": [],
   "source": [
    "# Importing the libraries and creating the connection object\n",
    "\n",
    "import sqlite3\n",
    "from sqlalchemy import create_engine, text\n",
    "engine = create_engine('sqlite:///pwpDatasets', echo=True, future=True)\n",
    "conn = engine.connect()"
   ]
  },
  {
   "cell_type": "code",
   "execution_count": 78,
   "id": "2e6219a7",
   "metadata": {},
   "outputs": [
    {
     "name": "stdout",
     "output_type": "stream",
     "text": [
      "2023-04-20 09:26:18,673 INFO sqlalchemy.engine.Engine BEGIN (implicit)\n",
      "2023-04-20 09:26:18,674 INFO sqlalchemy.engine.Engine CREATE DATABASE pwpDatasets;\n",
      "2023-04-20 09:26:18,675 INFO sqlalchemy.engine.Engine [generated in 0.00169s] ()\n"
     ]
    },
    {
     "ename": "OperationalError",
     "evalue": "(sqlite3.OperationalError) near \"DATABASE\": syntax error\n[SQL: CREATE DATABASE pwpDatasets;]\n(Background on this error at: https://sqlalche.me/e/20/e3q8)",
     "output_type": "error",
     "traceback": [
      "\u001b[1;31m---------------------------------------------------------------------------\u001b[0m",
      "\u001b[1;31mOperationalError\u001b[0m                          Traceback (most recent call last)",
      "\u001b[1;32m~\\anaconda3\\lib\\site-packages\\sqlalchemy\\engine\\base.py\u001b[0m in \u001b[0;36m_exec_single_context\u001b[1;34m(self, dialect, context, statement, parameters)\u001b[0m\n\u001b[0;32m   1963\u001b[0m                 \u001b[1;32mif\u001b[0m \u001b[1;32mnot\u001b[0m \u001b[0mevt_handled\u001b[0m\u001b[1;33m:\u001b[0m\u001b[1;33m\u001b[0m\u001b[1;33m\u001b[0m\u001b[0m\n\u001b[1;32m-> 1964\u001b[1;33m                     self.dialect.do_execute(\n\u001b[0m\u001b[0;32m   1965\u001b[0m                         \u001b[0mcursor\u001b[0m\u001b[1;33m,\u001b[0m \u001b[0mstr_statement\u001b[0m\u001b[1;33m,\u001b[0m \u001b[0meffective_parameters\u001b[0m\u001b[1;33m,\u001b[0m \u001b[0mcontext\u001b[0m\u001b[1;33m\u001b[0m\u001b[1;33m\u001b[0m\u001b[0m\n",
      "\u001b[1;32m~\\anaconda3\\lib\\site-packages\\sqlalchemy\\engine\\default.py\u001b[0m in \u001b[0;36mdo_execute\u001b[1;34m(self, cursor, statement, parameters, context)\u001b[0m\n\u001b[0;32m    747\u001b[0m     \u001b[1;32mdef\u001b[0m \u001b[0mdo_execute\u001b[0m\u001b[1;33m(\u001b[0m\u001b[0mself\u001b[0m\u001b[1;33m,\u001b[0m \u001b[0mcursor\u001b[0m\u001b[1;33m,\u001b[0m \u001b[0mstatement\u001b[0m\u001b[1;33m,\u001b[0m \u001b[0mparameters\u001b[0m\u001b[1;33m,\u001b[0m \u001b[0mcontext\u001b[0m\u001b[1;33m=\u001b[0m\u001b[1;32mNone\u001b[0m\u001b[1;33m)\u001b[0m\u001b[1;33m:\u001b[0m\u001b[1;33m\u001b[0m\u001b[1;33m\u001b[0m\u001b[0m\n\u001b[1;32m--> 748\u001b[1;33m         \u001b[0mcursor\u001b[0m\u001b[1;33m.\u001b[0m\u001b[0mexecute\u001b[0m\u001b[1;33m(\u001b[0m\u001b[0mstatement\u001b[0m\u001b[1;33m,\u001b[0m \u001b[0mparameters\u001b[0m\u001b[1;33m)\u001b[0m\u001b[1;33m\u001b[0m\u001b[1;33m\u001b[0m\u001b[0m\n\u001b[0m\u001b[0;32m    749\u001b[0m \u001b[1;33m\u001b[0m\u001b[0m\n",
      "\u001b[1;31mOperationalError\u001b[0m: near \"DATABASE\": syntax error",
      "\nThe above exception was the direct cause of the following exception:\n",
      "\u001b[1;31mOperationalError\u001b[0m                          Traceback (most recent call last)",
      "\u001b[1;32m~\\AppData\\Local\\Temp\\ipykernel_18656\\451958736.py\u001b[0m in \u001b[0;36m<module>\u001b[1;34m\u001b[0m\n\u001b[0;32m      2\u001b[0m \u001b[1;33m\u001b[0m\u001b[0m\n\u001b[0;32m      3\u001b[0m \u001b[0mquery1\u001b[0m \u001b[1;33m=\u001b[0m \u001b[1;34m\"CREATE DATABASE pwpDatasets;\"\u001b[0m\u001b[1;33m\u001b[0m\u001b[1;33m\u001b[0m\u001b[0m\n\u001b[1;32m----> 4\u001b[1;33m \u001b[0mresult1\u001b[0m \u001b[1;33m=\u001b[0m \u001b[0mconn\u001b[0m\u001b[1;33m.\u001b[0m\u001b[0mexecute\u001b[0m\u001b[1;33m(\u001b[0m\u001b[0mtext\u001b[0m\u001b[1;33m(\u001b[0m\u001b[0mquery1\u001b[0m\u001b[1;33m)\u001b[0m\u001b[1;33m)\u001b[0m\u001b[1;33m\u001b[0m\u001b[1;33m\u001b[0m\u001b[0m\n\u001b[0m\u001b[0;32m      5\u001b[0m \u001b[0mconn\u001b[0m\u001b[1;33m.\u001b[0m\u001b[0mcommit\u001b[0m\u001b[1;33m(\u001b[0m\u001b[1;33m)\u001b[0m\u001b[1;33m\u001b[0m\u001b[1;33m\u001b[0m\u001b[0m\n",
      "\u001b[1;32m~\\anaconda3\\lib\\site-packages\\sqlalchemy\\engine\\base.py\u001b[0m in \u001b[0;36mexecute\u001b[1;34m(self, statement, parameters, execution_options)\u001b[0m\n\u001b[0;32m   1412\u001b[0m             \u001b[1;32mraise\u001b[0m \u001b[0mexc\u001b[0m\u001b[1;33m.\u001b[0m\u001b[0mObjectNotExecutableError\u001b[0m\u001b[1;33m(\u001b[0m\u001b[0mstatement\u001b[0m\u001b[1;33m)\u001b[0m \u001b[1;32mfrom\u001b[0m \u001b[0merr\u001b[0m\u001b[1;33m\u001b[0m\u001b[1;33m\u001b[0m\u001b[0m\n\u001b[0;32m   1413\u001b[0m         \u001b[1;32melse\u001b[0m\u001b[1;33m:\u001b[0m\u001b[1;33m\u001b[0m\u001b[1;33m\u001b[0m\u001b[0m\n\u001b[1;32m-> 1414\u001b[1;33m             return meth(\n\u001b[0m\u001b[0;32m   1415\u001b[0m                 \u001b[0mself\u001b[0m\u001b[1;33m,\u001b[0m\u001b[1;33m\u001b[0m\u001b[1;33m\u001b[0m\u001b[0m\n\u001b[0;32m   1416\u001b[0m                 \u001b[0mdistilled_parameters\u001b[0m\u001b[1;33m,\u001b[0m\u001b[1;33m\u001b[0m\u001b[1;33m\u001b[0m\u001b[0m\n",
      "\u001b[1;32m~\\anaconda3\\lib\\site-packages\\sqlalchemy\\sql\\elements.py\u001b[0m in \u001b[0;36m_execute_on_connection\u001b[1;34m(self, connection, distilled_params, execution_options)\u001b[0m\n\u001b[0;32m    484\u001b[0m             \u001b[1;32mif\u001b[0m \u001b[0mTYPE_CHECKING\u001b[0m\u001b[1;33m:\u001b[0m\u001b[1;33m\u001b[0m\u001b[1;33m\u001b[0m\u001b[0m\n\u001b[0;32m    485\u001b[0m                 \u001b[1;32massert\u001b[0m \u001b[0misinstance\u001b[0m\u001b[1;33m(\u001b[0m\u001b[0mself\u001b[0m\u001b[1;33m,\u001b[0m \u001b[0mExecutable\u001b[0m\u001b[1;33m)\u001b[0m\u001b[1;33m\u001b[0m\u001b[1;33m\u001b[0m\u001b[0m\n\u001b[1;32m--> 486\u001b[1;33m             return connection._execute_clauseelement(\n\u001b[0m\u001b[0;32m    487\u001b[0m                 \u001b[0mself\u001b[0m\u001b[1;33m,\u001b[0m \u001b[0mdistilled_params\u001b[0m\u001b[1;33m,\u001b[0m \u001b[0mexecution_options\u001b[0m\u001b[1;33m\u001b[0m\u001b[1;33m\u001b[0m\u001b[0m\n\u001b[0;32m    488\u001b[0m             )\n",
      "\u001b[1;32m~\\anaconda3\\lib\\site-packages\\sqlalchemy\\engine\\base.py\u001b[0m in \u001b[0;36m_execute_clauseelement\u001b[1;34m(self, elem, distilled_parameters, execution_options)\u001b[0m\n\u001b[0;32m   1636\u001b[0m             \u001b[0mlinting\u001b[0m\u001b[1;33m=\u001b[0m\u001b[0mself\u001b[0m\u001b[1;33m.\u001b[0m\u001b[0mdialect\u001b[0m\u001b[1;33m.\u001b[0m\u001b[0mcompiler_linting\u001b[0m \u001b[1;33m|\u001b[0m \u001b[0mcompiler\u001b[0m\u001b[1;33m.\u001b[0m\u001b[0mWARN_LINTING\u001b[0m\u001b[1;33m,\u001b[0m\u001b[1;33m\u001b[0m\u001b[1;33m\u001b[0m\u001b[0m\n\u001b[0;32m   1637\u001b[0m         )\n\u001b[1;32m-> 1638\u001b[1;33m         ret = self._execute_context(\n\u001b[0m\u001b[0;32m   1639\u001b[0m             \u001b[0mdialect\u001b[0m\u001b[1;33m,\u001b[0m\u001b[1;33m\u001b[0m\u001b[1;33m\u001b[0m\u001b[0m\n\u001b[0;32m   1640\u001b[0m             \u001b[0mdialect\u001b[0m\u001b[1;33m.\u001b[0m\u001b[0mexecution_ctx_cls\u001b[0m\u001b[1;33m.\u001b[0m\u001b[0m_init_compiled\u001b[0m\u001b[1;33m,\u001b[0m\u001b[1;33m\u001b[0m\u001b[1;33m\u001b[0m\u001b[0m\n",
      "\u001b[1;32m~\\anaconda3\\lib\\site-packages\\sqlalchemy\\engine\\base.py\u001b[0m in \u001b[0;36m_execute_context\u001b[1;34m(self, dialect, constructor, statement, parameters, execution_options, *args, **kw)\u001b[0m\n\u001b[0;32m   1840\u001b[0m             )\n\u001b[0;32m   1841\u001b[0m         \u001b[1;32melse\u001b[0m\u001b[1;33m:\u001b[0m\u001b[1;33m\u001b[0m\u001b[1;33m\u001b[0m\u001b[0m\n\u001b[1;32m-> 1842\u001b[1;33m             return self._exec_single_context(\n\u001b[0m\u001b[0;32m   1843\u001b[0m                 \u001b[0mdialect\u001b[0m\u001b[1;33m,\u001b[0m \u001b[0mcontext\u001b[0m\u001b[1;33m,\u001b[0m \u001b[0mstatement\u001b[0m\u001b[1;33m,\u001b[0m \u001b[0mparameters\u001b[0m\u001b[1;33m\u001b[0m\u001b[1;33m\u001b[0m\u001b[0m\n\u001b[0;32m   1844\u001b[0m             )\n",
      "\u001b[1;32m~\\anaconda3\\lib\\site-packages\\sqlalchemy\\engine\\base.py\u001b[0m in \u001b[0;36m_exec_single_context\u001b[1;34m(self, dialect, context, statement, parameters)\u001b[0m\n\u001b[0;32m   1981\u001b[0m \u001b[1;33m\u001b[0m\u001b[0m\n\u001b[0;32m   1982\u001b[0m         \u001b[1;32mexcept\u001b[0m \u001b[0mBaseException\u001b[0m \u001b[1;32mas\u001b[0m \u001b[0me\u001b[0m\u001b[1;33m:\u001b[0m\u001b[1;33m\u001b[0m\u001b[1;33m\u001b[0m\u001b[0m\n\u001b[1;32m-> 1983\u001b[1;33m             self._handle_dbapi_exception(\n\u001b[0m\u001b[0;32m   1984\u001b[0m                 \u001b[0me\u001b[0m\u001b[1;33m,\u001b[0m \u001b[0mstr_statement\u001b[0m\u001b[1;33m,\u001b[0m \u001b[0meffective_parameters\u001b[0m\u001b[1;33m,\u001b[0m \u001b[0mcursor\u001b[0m\u001b[1;33m,\u001b[0m \u001b[0mcontext\u001b[0m\u001b[1;33m\u001b[0m\u001b[1;33m\u001b[0m\u001b[0m\n\u001b[0;32m   1985\u001b[0m             )\n",
      "\u001b[1;32m~\\anaconda3\\lib\\site-packages\\sqlalchemy\\engine\\base.py\u001b[0m in \u001b[0;36m_handle_dbapi_exception\u001b[1;34m(self, e, statement, parameters, cursor, context, is_sub_exec)\u001b[0m\n\u001b[0;32m   2324\u001b[0m             \u001b[1;32melif\u001b[0m \u001b[0mshould_wrap\u001b[0m\u001b[1;33m:\u001b[0m\u001b[1;33m\u001b[0m\u001b[1;33m\u001b[0m\u001b[0m\n\u001b[0;32m   2325\u001b[0m                 \u001b[1;32massert\u001b[0m \u001b[0msqlalchemy_exception\u001b[0m \u001b[1;32mis\u001b[0m \u001b[1;32mnot\u001b[0m \u001b[1;32mNone\u001b[0m\u001b[1;33m\u001b[0m\u001b[1;33m\u001b[0m\u001b[0m\n\u001b[1;32m-> 2326\u001b[1;33m                 \u001b[1;32mraise\u001b[0m \u001b[0msqlalchemy_exception\u001b[0m\u001b[1;33m.\u001b[0m\u001b[0mwith_traceback\u001b[0m\u001b[1;33m(\u001b[0m\u001b[0mexc_info\u001b[0m\u001b[1;33m[\u001b[0m\u001b[1;36m2\u001b[0m\u001b[1;33m]\u001b[0m\u001b[1;33m)\u001b[0m \u001b[1;32mfrom\u001b[0m \u001b[0me\u001b[0m\u001b[1;33m\u001b[0m\u001b[1;33m\u001b[0m\u001b[0m\n\u001b[0m\u001b[0;32m   2327\u001b[0m             \u001b[1;32melse\u001b[0m\u001b[1;33m:\u001b[0m\u001b[1;33m\u001b[0m\u001b[1;33m\u001b[0m\u001b[0m\n\u001b[0;32m   2328\u001b[0m                 \u001b[1;32massert\u001b[0m \u001b[0mexc_info\u001b[0m\u001b[1;33m[\u001b[0m\u001b[1;36m1\u001b[0m\u001b[1;33m]\u001b[0m \u001b[1;32mis\u001b[0m \u001b[1;32mnot\u001b[0m \u001b[1;32mNone\u001b[0m\u001b[1;33m\u001b[0m\u001b[1;33m\u001b[0m\u001b[0m\n",
      "\u001b[1;32m~\\anaconda3\\lib\\site-packages\\sqlalchemy\\engine\\base.py\u001b[0m in \u001b[0;36m_exec_single_context\u001b[1;34m(self, dialect, context, statement, parameters)\u001b[0m\n\u001b[0;32m   1962\u001b[0m                             \u001b[1;32mbreak\u001b[0m\u001b[1;33m\u001b[0m\u001b[1;33m\u001b[0m\u001b[0m\n\u001b[0;32m   1963\u001b[0m                 \u001b[1;32mif\u001b[0m \u001b[1;32mnot\u001b[0m \u001b[0mevt_handled\u001b[0m\u001b[1;33m:\u001b[0m\u001b[1;33m\u001b[0m\u001b[1;33m\u001b[0m\u001b[0m\n\u001b[1;32m-> 1964\u001b[1;33m                     self.dialect.do_execute(\n\u001b[0m\u001b[0;32m   1965\u001b[0m                         \u001b[0mcursor\u001b[0m\u001b[1;33m,\u001b[0m \u001b[0mstr_statement\u001b[0m\u001b[1;33m,\u001b[0m \u001b[0meffective_parameters\u001b[0m\u001b[1;33m,\u001b[0m \u001b[0mcontext\u001b[0m\u001b[1;33m\u001b[0m\u001b[1;33m\u001b[0m\u001b[0m\n\u001b[0;32m   1966\u001b[0m                     )\n",
      "\u001b[1;32m~\\anaconda3\\lib\\site-packages\\sqlalchemy\\engine\\default.py\u001b[0m in \u001b[0;36mdo_execute\u001b[1;34m(self, cursor, statement, parameters, context)\u001b[0m\n\u001b[0;32m    746\u001b[0m \u001b[1;33m\u001b[0m\u001b[0m\n\u001b[0;32m    747\u001b[0m     \u001b[1;32mdef\u001b[0m \u001b[0mdo_execute\u001b[0m\u001b[1;33m(\u001b[0m\u001b[0mself\u001b[0m\u001b[1;33m,\u001b[0m \u001b[0mcursor\u001b[0m\u001b[1;33m,\u001b[0m \u001b[0mstatement\u001b[0m\u001b[1;33m,\u001b[0m \u001b[0mparameters\u001b[0m\u001b[1;33m,\u001b[0m \u001b[0mcontext\u001b[0m\u001b[1;33m=\u001b[0m\u001b[1;32mNone\u001b[0m\u001b[1;33m)\u001b[0m\u001b[1;33m:\u001b[0m\u001b[1;33m\u001b[0m\u001b[1;33m\u001b[0m\u001b[0m\n\u001b[1;32m--> 748\u001b[1;33m         \u001b[0mcursor\u001b[0m\u001b[1;33m.\u001b[0m\u001b[0mexecute\u001b[0m\u001b[1;33m(\u001b[0m\u001b[0mstatement\u001b[0m\u001b[1;33m,\u001b[0m \u001b[0mparameters\u001b[0m\u001b[1;33m)\u001b[0m\u001b[1;33m\u001b[0m\u001b[1;33m\u001b[0m\u001b[0m\n\u001b[0m\u001b[0;32m    749\u001b[0m \u001b[1;33m\u001b[0m\u001b[0m\n\u001b[0;32m    750\u001b[0m     \u001b[1;32mdef\u001b[0m \u001b[0mdo_execute_no_params\u001b[0m\u001b[1;33m(\u001b[0m\u001b[0mself\u001b[0m\u001b[1;33m,\u001b[0m \u001b[0mcursor\u001b[0m\u001b[1;33m,\u001b[0m \u001b[0mstatement\u001b[0m\u001b[1;33m,\u001b[0m \u001b[0mcontext\u001b[0m\u001b[1;33m=\u001b[0m\u001b[1;32mNone\u001b[0m\u001b[1;33m)\u001b[0m\u001b[1;33m:\u001b[0m\u001b[1;33m\u001b[0m\u001b[1;33m\u001b[0m\u001b[0m\n",
      "\u001b[1;31mOperationalError\u001b[0m: (sqlite3.OperationalError) near \"DATABASE\": syntax error\n[SQL: CREATE DATABASE pwpDatasets;]\n(Background on this error at: https://sqlalche.me/e/20/e3q8)"
     ]
    }
   ],
   "source": [
    "# Creating the pwpDatasets Database\n",
    "\n",
    "query1 = \"CREATE DATABASE pwpDatasets;\"\n",
    "result1 = conn.execute(text(query1))\n",
    "conn.commit()"
   ]
  },
  {
   "cell_type": "code",
   "execution_count": 44,
   "id": "11a5b5c0",
   "metadata": {},
   "outputs": [
    {
     "ename": "SyntaxError",
     "evalue": "invalid syntax (402055199.py, line 2)",
     "output_type": "error",
     "traceback": [
      "\u001b[1;36m  File \u001b[1;32m\"C:\\Users\\tosin\\AppData\\Local\\Temp\\ipykernel_18656\\402055199.py\"\u001b[1;36m, line \u001b[1;32m2\u001b[0m\n\u001b[1;33m    1.     train\u001b[0m\n\u001b[1;37m           ^\u001b[0m\n\u001b[1;31mSyntaxError\u001b[0m\u001b[1;31m:\u001b[0m invalid syntax\n"
     ]
    }
   ],
   "source": [
    "### Creating the Tables inside the pwpDatasets Database:\n",
    "1.     train\n",
    "2.     ideal\n",
    "3.     test\n",
    "4.     idealfour\n",
    "5.     fit"
   ]
  },
  {
   "cell_type": "code",
   "execution_count": 45,
   "id": "582fccca",
   "metadata": {},
   "outputs": [
    {
     "name": "stdout",
     "output_type": "stream",
     "text": [
      "2023-04-20 09:19:51,740 INFO sqlalchemy.engine.Engine CREATE TABLE IF NOT EXISTS train(x DECIMAL, y1 DECIMAL, y2 DECIMAL, y3 DECIMAL, y4 DECIMAL);\n",
      "2023-04-20 09:19:51,741 INFO sqlalchemy.engine.Engine [generated in 0.00113s] ()\n",
      "2023-04-20 09:19:51,742 INFO sqlalchemy.engine.Engine COMMIT\n"
     ]
    }
   ],
   "source": [
    "# Creating the train table inside the pwpDatasets Database\n",
    "\n",
    "query2 = \"CREATE TABLE IF NOT EXISTS train(x DECIMAL, y1 DECIMAL, y2 DECIMAL, y3 DECIMAL, y4 DECIMAL);\"\n",
    "result2 = conn.execute(text(query2))\n",
    "conn.commit()"
   ]
  },
  {
   "cell_type": "code",
   "execution_count": 46,
   "id": "5cee395b",
   "metadata": {},
   "outputs": [
    {
     "name": "stdout",
     "output_type": "stream",
     "text": [
      "2023-04-20 09:20:04,214 INFO sqlalchemy.engine.Engine BEGIN (implicit)\n",
      "2023-04-20 09:20:04,216 INFO sqlalchemy.engine.Engine CREATE TABLE IF NOT EXISTS ideal(x DECIMAL, y1 DECIMAL, y2 DECIMAL, y3 DECIMAL, y4 DECIMAL, y5 DECIMAL, y6 DECIMAL, y7 DECIMAL, y8 DECIMAL, y9 DECIMAL, y10 DECIMAL, y11 DECIMAL, y12 DECIMAL, y13 DECIMAL, y14 DECIMAL, y15 DECIMAL, y16 DECIMAL, y17 DECIMAL, y18\tDECIMAL, y19 DECIMAL, y20 DECIMAL, y21 DECIMAL, y22 DECIMAL, y23 DECIMAL, y24 DECIMAL, y25\tDECIMAL, y26 DECIMAL, y27 DECIMAL, y28 DECIMAL, y29 DECIMAL, y30 DECIMAL, y31 DECIMAL, y32 DECIMAL, y33 DECIMAL, y34\tDECIMAL, y35 DECIMAL, y36 DECIMAL, y37 DECIMAL, y38 DECIMAL, y39 DECIMAL, y40 DECIMAL, y41 DECIMAL, y42 DECIMAL, y43 DECIMAL, y44 DECIMAL, y45\tDECIMAL, y46 DECIMAL, y47 DECIMAL, y48 DECIMAL, y49 DECIMAL, y50 DECIMAL);\n",
      "2023-04-20 09:20:04,217 INFO sqlalchemy.engine.Engine [generated in 0.00293s] ()\n",
      "2023-04-20 09:20:04,219 INFO sqlalchemy.engine.Engine COMMIT\n"
     ]
    }
   ],
   "source": [
    "# Creating the ideal table inside the pwpDatasets Database\n",
    "\n",
    "query3 = \"CREATE TABLE IF NOT EXISTS ideal(x DECIMAL, y1 DECIMAL, y2 DECIMAL, y3 DECIMAL, y4 DECIMAL, y5 DECIMAL, y6 DECIMAL, y7 DECIMAL, y8 DECIMAL, y9 DECIMAL, y10 DECIMAL, y11 DECIMAL, y12 DECIMAL, y13 DECIMAL, y14 DECIMAL, y15 DECIMAL, y16 DECIMAL, y17 DECIMAL, y18\tDECIMAL, y19 DECIMAL, y20 DECIMAL, y21 DECIMAL, y22 DECIMAL, y23 DECIMAL, y24 DECIMAL, y25\tDECIMAL, y26 DECIMAL, y27 DECIMAL, y28 DECIMAL, y29 DECIMAL, y30 DECIMAL, y31 DECIMAL, y32 DECIMAL, y33 DECIMAL, y34\tDECIMAL, y35 DECIMAL, y36 DECIMAL, y37 DECIMAL, y38 DECIMAL, y39 DECIMAL, y40 DECIMAL, y41 DECIMAL, y42 DECIMAL, y43 DECIMAL, y44 DECIMAL, y45\tDECIMAL, y46 DECIMAL, y47 DECIMAL, y48 DECIMAL, y49 DECIMAL, y50 DECIMAL);\"\n",
    "result3 = conn.execute(text(query3))\n",
    "conn.commit()"
   ]
  },
  {
   "cell_type": "code",
   "execution_count": 47,
   "id": "f3ba2938",
   "metadata": {},
   "outputs": [
    {
     "name": "stdout",
     "output_type": "stream",
     "text": [
      "2023-04-20 09:20:12,832 INFO sqlalchemy.engine.Engine BEGIN (implicit)\n",
      "2023-04-20 09:20:12,833 INFO sqlalchemy.engine.Engine CREATE TABLE IF NOT EXISTS test(x DECIMAL, y DECIMAL);\n",
      "2023-04-20 09:20:12,834 INFO sqlalchemy.engine.Engine [generated in 0.00165s] ()\n",
      "2023-04-20 09:20:12,835 INFO sqlalchemy.engine.Engine COMMIT\n"
     ]
    }
   ],
   "source": [
    "# Creating the test table inside the pwpDatasets Database\n",
    "\n",
    "query5 = \"CREATE TABLE IF NOT EXISTS test(x DECIMAL, y DECIMAL);\"\n",
    "result5 = conn.execute(text(query5))\n",
    "conn.commit()"
   ]
  },
  {
   "cell_type": "code",
   "execution_count": 48,
   "id": "ac6fcbee",
   "metadata": {},
   "outputs": [
    {
     "name": "stdout",
     "output_type": "stream",
     "text": [
      "2023-04-20 09:20:21,336 INFO sqlalchemy.engine.Engine BEGIN (implicit)\n",
      "2023-04-20 09:20:21,337 INFO sqlalchemy.engine.Engine CREATE TABLE IF NOT EXISTS idealfour(x DECIMAL, y1 DECIMAL, y2 DECIMAL, y3 DECIMAL, y4 DECIMAL);\n",
      "2023-04-20 09:20:21,338 INFO sqlalchemy.engine.Engine [generated in 0.00230s] ()\n",
      "2023-04-20 09:20:21,339 INFO sqlalchemy.engine.Engine COMMIT\n"
     ]
    }
   ],
   "source": [
    "# Creating the idealfour table inside the pwpDatasets Database\n",
    "\n",
    "query4 = \"CREATE TABLE IF NOT EXISTS idealfour(x DECIMAL, y1 DECIMAL, y2 DECIMAL, y3 DECIMAL, y4 DECIMAL);\"\n",
    "result4 = conn.execute(text(query4))\n",
    "conn.commit()\n"
   ]
  },
  {
   "cell_type": "code",
   "execution_count": 49,
   "id": "dd00a568",
   "metadata": {},
   "outputs": [
    {
     "name": "stdout",
     "output_type": "stream",
     "text": [
      "2023-04-20 09:20:28,940 INFO sqlalchemy.engine.Engine BEGIN (implicit)\n",
      "2023-04-20 09:20:28,941 INFO sqlalchemy.engine.Engine CREATE TABLE IF NOT EXISTS fit(x DECIMAL, y24 DECIMAL);\n",
      "2023-04-20 09:20:28,941 INFO sqlalchemy.engine.Engine [generated in 0.00176s] ()\n",
      "2023-04-20 09:20:28,942 INFO sqlalchemy.engine.Engine COMMIT\n"
     ]
    }
   ],
   "source": [
    "# Creating the fit table inside the pwpDatasets Database\n",
    "\n",
    "query6 = \"CREATE TABLE IF NOT EXISTS fit(x DECIMAL, y24 DECIMAL);\"\n",
    "result6 = conn.execute(text(query6))\n",
    "conn.commit()"
   ]
  },
  {
   "cell_type": "code",
   "execution_count": 50,
   "id": "d4b7f0fc",
   "metadata": {},
   "outputs": [
    {
     "ename": "SyntaxError",
     "evalue": "invalid syntax (3438605559.py, line 3)",
     "output_type": "error",
     "traceback": [
      "\u001b[1;36m  File \u001b[1;32m\"C:\\Users\\tosin\\AppData\\Local\\Temp\\ipykernel_18656\\3438605559.py\"\u001b[1;36m, line \u001b[1;32m3\u001b[0m\n\u001b[1;33m    1.     train --> train dataset\u001b[0m\n\u001b[1;37m           ^\u001b[0m\n\u001b[1;31mSyntaxError\u001b[0m\u001b[1;31m:\u001b[0m invalid syntax\n"
     ]
    }
   ],
   "source": [
    "### Ingesting the datasets into the respective tables:\n",
    "\n",
    "1.     train --> train dataset\n",
    "2.     ideal --> ideal dataset\n",
    "3.     test --> test dataset\n",
    "4.     idealfour --> idealfour dataset\n",
    "5.     fit --> fit dataset"
   ]
  },
  {
   "cell_type": "code",
   "execution_count": 51,
   "id": "2781a640",
   "metadata": {},
   "outputs": [
    {
     "name": "stdout",
     "output_type": "stream",
     "text": [
      "2023-04-20 09:21:06,038 INFO sqlalchemy.engine.Engine BEGIN (implicit)\n",
      "2023-04-20 09:21:06,038 INFO sqlalchemy.engine.Engine PRAGMA main.table_info(\"train\")\n",
      "2023-04-20 09:21:06,039 INFO sqlalchemy.engine.Engine [raw sql] ()\n",
      "2023-04-20 09:21:06,040 INFO sqlalchemy.engine.Engine ROLLBACK\n",
      "2023-04-20 09:21:06,041 INFO sqlalchemy.engine.Engine BEGIN (implicit)\n",
      "2023-04-20 09:21:06,042 INFO sqlalchemy.engine.Engine PRAGMA main.table_info(\"train\")\n",
      "2023-04-20 09:21:06,043 INFO sqlalchemy.engine.Engine [raw sql] ()\n",
      "2023-04-20 09:21:06,044 INFO sqlalchemy.engine.Engine ROLLBACK\n",
      "2023-04-20 09:21:06,045 INFO sqlalchemy.engine.Engine BEGIN (implicit)\n",
      "2023-04-20 09:21:06,045 INFO sqlalchemy.engine.Engine SELECT name FROM sqlite_master WHERE type='table' AND name NOT LIKE 'sqlite~_%' ESCAPE '~' ORDER BY name\n",
      "2023-04-20 09:21:06,046 INFO sqlalchemy.engine.Engine [raw sql] ()\n",
      "2023-04-20 09:21:06,047 INFO sqlalchemy.engine.Engine SELECT name FROM sqlite_temp_master WHERE type='table' AND name NOT LIKE 'sqlite~_%' ESCAPE '~' ORDER BY name\n",
      "2023-04-20 09:21:06,048 INFO sqlalchemy.engine.Engine [raw sql] ()\n",
      "2023-04-20 09:21:06,049 INFO sqlalchemy.engine.Engine PRAGMA main.table_xinfo(\"train\")\n",
      "2023-04-20 09:21:06,050 INFO sqlalchemy.engine.Engine [raw sql] ()\n",
      "2023-04-20 09:21:06,051 INFO sqlalchemy.engine.Engine SELECT sql FROM  (SELECT * FROM sqlite_master UNION ALL   SELECT * FROM sqlite_temp_master) WHERE name = ? AND type in ('table', 'view')\n",
      "2023-04-20 09:21:06,052 INFO sqlalchemy.engine.Engine [raw sql] ('train',)\n",
      "2023-04-20 09:21:06,053 INFO sqlalchemy.engine.Engine PRAGMA main.foreign_key_list(\"train\")\n",
      "2023-04-20 09:21:06,054 INFO sqlalchemy.engine.Engine [raw sql] ()\n",
      "2023-04-20 09:21:06,056 INFO sqlalchemy.engine.Engine PRAGMA temp.foreign_key_list(\"train\")\n",
      "2023-04-20 09:21:06,057 INFO sqlalchemy.engine.Engine [raw sql] ()\n",
      "2023-04-20 09:21:06,058 INFO sqlalchemy.engine.Engine SELECT sql FROM  (SELECT * FROM sqlite_master UNION ALL   SELECT * FROM sqlite_temp_master) WHERE name = ? AND type in ('table', 'view')\n",
      "2023-04-20 09:21:06,058 INFO sqlalchemy.engine.Engine [raw sql] ('train',)\n",
      "2023-04-20 09:21:06,062 INFO sqlalchemy.engine.Engine PRAGMA main.index_list(\"train\")\n",
      "2023-04-20 09:21:06,062 INFO sqlalchemy.engine.Engine [raw sql] ()\n",
      "2023-04-20 09:21:06,063 INFO sqlalchemy.engine.Engine PRAGMA temp.index_list(\"train\")\n",
      "2023-04-20 09:21:06,064 INFO sqlalchemy.engine.Engine [raw sql] ()\n",
      "2023-04-20 09:21:06,065 INFO sqlalchemy.engine.Engine PRAGMA main.table_info(\"train\")\n",
      "2023-04-20 09:21:06,066 INFO sqlalchemy.engine.Engine [raw sql] ()\n",
      "2023-04-20 09:21:06,067 INFO sqlalchemy.engine.Engine PRAGMA main.index_list(\"train\")\n",
      "2023-04-20 09:21:06,068 INFO sqlalchemy.engine.Engine [raw sql] ()\n",
      "2023-04-20 09:21:06,070 INFO sqlalchemy.engine.Engine PRAGMA temp.index_list(\"train\")\n",
      "2023-04-20 09:21:06,070 INFO sqlalchemy.engine.Engine [raw sql] ()\n",
      "2023-04-20 09:21:06,071 INFO sqlalchemy.engine.Engine PRAGMA main.table_info(\"train\")\n",
      "2023-04-20 09:21:06,071 INFO sqlalchemy.engine.Engine [raw sql] ()\n",
      "2023-04-20 09:21:06,073 INFO sqlalchemy.engine.Engine SELECT sql FROM  (SELECT * FROM sqlite_master UNION ALL   SELECT * FROM sqlite_temp_master) WHERE name = ? AND type in ('table', 'view')\n",
      "2023-04-20 09:21:06,073 INFO sqlalchemy.engine.Engine [raw sql] ('train',)\n",
      "2023-04-20 09:21:06,076 INFO sqlalchemy.engine.Engine ROLLBACK\n",
      "2023-04-20 09:21:06,077 INFO sqlalchemy.engine.Engine BEGIN (implicit)\n",
      "2023-04-20 09:21:06,078 INFO sqlalchemy.engine.Engine \n",
      "DROP TABLE train\n",
      "2023-04-20 09:21:06,078 INFO sqlalchemy.engine.Engine [no key 0.00058s] ()\n",
      "2023-04-20 09:21:06,274 INFO sqlalchemy.engine.Engine COMMIT\n",
      "2023-04-20 09:21:06,278 INFO sqlalchemy.engine.Engine BEGIN (implicit)\n",
      "2023-04-20 09:21:06,280 INFO sqlalchemy.engine.Engine \n",
      "CREATE TABLE train (\n",
      "\tx FLOAT, \n",
      "\ty1 FLOAT, \n",
      "\ty2 FLOAT, \n",
      "\ty3 FLOAT, \n",
      "\ty4 FLOAT\n",
      ")\n",
      "\n",
      "\n",
      "2023-04-20 09:21:06,282 INFO sqlalchemy.engine.Engine [no key 0.00194s] ()\n",
      "2023-04-20 09:21:06,426 INFO sqlalchemy.engine.Engine COMMIT\n",
      "2023-04-20 09:21:06,427 INFO sqlalchemy.engine.Engine BEGIN (implicit)\n",
      "2023-04-20 09:21:06,431 INFO sqlalchemy.engine.Engine INSERT INTO train (x, y1, y2, y3, y4) VALUES (?, ?, ?, ?, ?)\n",
      "2023-04-20 09:21:06,432 INFO sqlalchemy.engine.Engine [generated in 0.00201s] [(-20.0, -8000.405, 10648.215, -0.07436482, -16000.222), (-19.9, -7880.5566, 10503.581, 0.047023416, -15761.586), (-19.8, -7762.513, 10360.039, 0.15607175, -15524.712), (-19.7, -7645.6567, 10217.856, 0.59090126, -15290.346), (-19.6, -7529.4863, 10077.48, 0.52523214, -15058.604), (-19.5, -7415.344, 9938.282, 1.195719, -14829.303), (-19.4, -7301.1904, 9800.395, 1.092391, -14603.181), (-19.3, -7188.988, 9663.686, 1.0499092, -14378.3955)  ... displaying 10 of 400 total bound parameter sets ...  (19.8, 7761.9194, -5639.603, 0.39675143, 15524.904), (19.9, 7880.9478, -5735.1235, 0.65514016, 15761.235)]\n",
      "2023-04-20 09:21:06,437 INFO sqlalchemy.engine.Engine COMMIT\n"
     ]
    },
    {
     "data": {
      "text/plain": [
       "400"
      ]
     },
     "execution_count": 51,
     "metadata": {},
     "output_type": "execute_result"
    }
   ],
   "source": [
    "# Ingesting the train Dataframe into the train sql table.\n",
    "\n",
    "train.to_sql(\"train\", engine, if_exists=\"replace\", index=False)"
   ]
  },
  {
   "cell_type": "code",
   "execution_count": 52,
   "id": "aee7716e",
   "metadata": {},
   "outputs": [
    {
     "name": "stdout",
     "output_type": "stream",
     "text": [
      "2023-04-20 09:21:06,737 INFO sqlalchemy.engine.Engine BEGIN (implicit)\n",
      "2023-04-20 09:21:06,738 INFO sqlalchemy.engine.Engine SELECT * FROM train LIMIT 5\n",
      "2023-04-20 09:21:06,739 INFO sqlalchemy.engine.Engine [generated in 0.00154s] ()\n",
      "(-20.0, -8000.405, 10648.215, -0.07436482, -16000.222)\n",
      "(-19.9, -7880.5566, 10503.581, 0.047023416, -15761.586)\n",
      "(-19.8, -7762.513, 10360.039, 0.15607175, -15524.712)\n",
      "(-19.7, -7645.6567, 10217.856, 0.59090126, -15290.346)\n",
      "(-19.6, -7529.4863, 10077.48, 0.52523214, -15058.604)\n"
     ]
    }
   ],
   "source": [
    "# Querying the train table from the pwpDatasets database\n",
    "\n",
    "query7 = \"SELECT * FROM train LIMIT 5\"\n",
    "result7 = conn.execute(text(query7))\n",
    "for res7 in result7:\n",
    "    print(res7)"
   ]
  },
  {
   "cell_type": "code",
   "execution_count": 53,
   "id": "db9343ba",
   "metadata": {},
   "outputs": [
    {
     "name": "stdout",
     "output_type": "stream",
     "text": [
      "2023-04-20 09:21:19,649 INFO sqlalchemy.engine.Engine BEGIN (implicit)\n",
      "2023-04-20 09:21:19,650 INFO sqlalchemy.engine.Engine PRAGMA main.table_info(\"ideal\")\n",
      "2023-04-20 09:21:19,651 INFO sqlalchemy.engine.Engine [raw sql] ()\n",
      "2023-04-20 09:21:19,653 INFO sqlalchemy.engine.Engine ROLLBACK\n",
      "2023-04-20 09:21:19,654 INFO sqlalchemy.engine.Engine BEGIN (implicit)\n",
      "2023-04-20 09:21:19,655 INFO sqlalchemy.engine.Engine PRAGMA main.table_info(\"ideal\")\n",
      "2023-04-20 09:21:19,655 INFO sqlalchemy.engine.Engine [raw sql] ()\n",
      "2023-04-20 09:21:19,657 INFO sqlalchemy.engine.Engine ROLLBACK\n",
      "2023-04-20 09:21:19,658 INFO sqlalchemy.engine.Engine BEGIN (implicit)\n",
      "2023-04-20 09:21:19,659 INFO sqlalchemy.engine.Engine SELECT name FROM sqlite_master WHERE type='table' AND name NOT LIKE 'sqlite~_%' ESCAPE '~' ORDER BY name\n",
      "2023-04-20 09:21:19,660 INFO sqlalchemy.engine.Engine [raw sql] ()\n",
      "2023-04-20 09:21:19,662 INFO sqlalchemy.engine.Engine SELECT name FROM sqlite_temp_master WHERE type='table' AND name NOT LIKE 'sqlite~_%' ESCAPE '~' ORDER BY name\n",
      "2023-04-20 09:21:19,662 INFO sqlalchemy.engine.Engine [raw sql] ()\n",
      "2023-04-20 09:21:19,663 INFO sqlalchemy.engine.Engine PRAGMA main.table_xinfo(\"ideal\")\n",
      "2023-04-20 09:21:19,663 INFO sqlalchemy.engine.Engine [raw sql] ()\n",
      "2023-04-20 09:21:19,665 INFO sqlalchemy.engine.Engine SELECT sql FROM  (SELECT * FROM sqlite_master UNION ALL   SELECT * FROM sqlite_temp_master) WHERE name = ? AND type in ('table', 'view')\n",
      "2023-04-20 09:21:19,666 INFO sqlalchemy.engine.Engine [raw sql] ('ideal',)\n",
      "2023-04-20 09:21:19,667 INFO sqlalchemy.engine.Engine PRAGMA main.foreign_key_list(\"ideal\")\n",
      "2023-04-20 09:21:19,668 INFO sqlalchemy.engine.Engine [raw sql] ()\n",
      "2023-04-20 09:21:19,669 INFO sqlalchemy.engine.Engine PRAGMA temp.foreign_key_list(\"ideal\")\n",
      "2023-04-20 09:21:19,670 INFO sqlalchemy.engine.Engine [raw sql] ()\n",
      "2023-04-20 09:21:19,671 INFO sqlalchemy.engine.Engine SELECT sql FROM  (SELECT * FROM sqlite_master UNION ALL   SELECT * FROM sqlite_temp_master) WHERE name = ? AND type in ('table', 'view')\n",
      "2023-04-20 09:21:19,672 INFO sqlalchemy.engine.Engine [raw sql] ('ideal',)\n",
      "2023-04-20 09:21:19,673 INFO sqlalchemy.engine.Engine PRAGMA main.index_list(\"ideal\")\n",
      "2023-04-20 09:21:19,673 INFO sqlalchemy.engine.Engine [raw sql] ()\n",
      "2023-04-20 09:21:19,675 INFO sqlalchemy.engine.Engine PRAGMA temp.index_list(\"ideal\")\n",
      "2023-04-20 09:21:19,675 INFO sqlalchemy.engine.Engine [raw sql] ()\n",
      "2023-04-20 09:21:19,676 INFO sqlalchemy.engine.Engine PRAGMA main.table_info(\"ideal\")\n",
      "2023-04-20 09:21:19,677 INFO sqlalchemy.engine.Engine [raw sql] ()\n",
      "2023-04-20 09:21:19,678 INFO sqlalchemy.engine.Engine PRAGMA main.index_list(\"ideal\")\n",
      "2023-04-20 09:21:19,678 INFO sqlalchemy.engine.Engine [raw sql] ()\n",
      "2023-04-20 09:21:19,679 INFO sqlalchemy.engine.Engine PRAGMA temp.index_list(\"ideal\")\n",
      "2023-04-20 09:21:19,680 INFO sqlalchemy.engine.Engine [raw sql] ()\n",
      "2023-04-20 09:21:19,681 INFO sqlalchemy.engine.Engine PRAGMA main.table_info(\"ideal\")\n",
      "2023-04-20 09:21:19,681 INFO sqlalchemy.engine.Engine [raw sql] ()\n",
      "2023-04-20 09:21:19,683 INFO sqlalchemy.engine.Engine SELECT sql FROM  (SELECT * FROM sqlite_master UNION ALL   SELECT * FROM sqlite_temp_master) WHERE name = ? AND type in ('table', 'view')\n",
      "2023-04-20 09:21:19,683 INFO sqlalchemy.engine.Engine [raw sql] ('ideal',)\n",
      "2023-04-20 09:21:19,690 INFO sqlalchemy.engine.Engine ROLLBACK\n",
      "2023-04-20 09:21:19,691 INFO sqlalchemy.engine.Engine BEGIN (implicit)\n",
      "2023-04-20 09:21:19,692 INFO sqlalchemy.engine.Engine \n",
      "DROP TABLE ideal\n",
      "2023-04-20 09:21:19,693 INFO sqlalchemy.engine.Engine [no key 0.00066s] ()\n",
      "2023-04-20 09:21:19,778 INFO sqlalchemy.engine.Engine COMMIT\n",
      "2023-04-20 09:21:19,787 INFO sqlalchemy.engine.Engine BEGIN (implicit)\n",
      "2023-04-20 09:21:19,790 INFO sqlalchemy.engine.Engine \n",
      "CREATE TABLE ideal (\n",
      "\tx FLOAT, \n",
      "\ty1 FLOAT, \n",
      "\ty2 FLOAT, \n",
      "\ty3 FLOAT, \n",
      "\ty4 FLOAT, \n",
      "\ty5 FLOAT, \n",
      "\ty6 FLOAT, \n",
      "\ty7 FLOAT, \n",
      "\ty8 FLOAT, \n",
      "\ty9 FLOAT, \n",
      "\ty10 FLOAT, \n",
      "\ty11 FLOAT, \n",
      "\ty12 FLOAT, \n",
      "\ty13 FLOAT, \n",
      "\ty14 FLOAT, \n",
      "\ty15 FLOAT, \n",
      "\ty16 FLOAT, \n",
      "\ty17 FLOAT, \n",
      "\ty18 FLOAT, \n",
      "\ty19 FLOAT, \n",
      "\ty20 FLOAT, \n",
      "\ty21 FLOAT, \n",
      "\ty22 FLOAT, \n",
      "\ty23 FLOAT, \n",
      "\ty24 FLOAT, \n",
      "\ty25 FLOAT, \n",
      "\ty26 FLOAT, \n",
      "\ty27 FLOAT, \n",
      "\ty28 FLOAT, \n",
      "\ty29 FLOAT, \n",
      "\ty30 FLOAT, \n",
      "\ty31 FLOAT, \n",
      "\ty32 FLOAT, \n",
      "\ty33 FLOAT, \n",
      "\ty34 FLOAT, \n",
      "\ty35 FLOAT, \n",
      "\ty36 FLOAT, \n",
      "\ty37 FLOAT, \n",
      "\ty38 FLOAT, \n",
      "\ty39 FLOAT, \n",
      "\ty40 FLOAT, \n",
      "\ty41 FLOAT, \n",
      "\ty42 FLOAT, \n",
      "\ty43 FLOAT, \n",
      "\ty44 FLOAT, \n",
      "\ty45 FLOAT, \n",
      "\ty46 FLOAT, \n",
      "\ty47 FLOAT, \n",
      "\ty48 FLOAT, \n",
      "\ty49 FLOAT, \n",
      "\ty50 FLOAT\n",
      ")\n",
      "\n",
      "\n",
      "2023-04-20 09:21:19,792 INFO sqlalchemy.engine.Engine [no key 0.00200s] ()\n",
      "2023-04-20 09:21:19,874 INFO sqlalchemy.engine.Engine COMMIT\n",
      "2023-04-20 09:21:19,879 INFO sqlalchemy.engine.Engine BEGIN (implicit)\n",
      "2023-04-20 09:21:19,899 INFO sqlalchemy.engine.Engine INSERT INTO ideal (x, y1, y2, y3, y4, y5, y6, y7, y8, y9, y10, y11, y12, y13, y14, y15, y16, y17, y18, y19, y20, y21, y22, y23, y24, y25, y26, y27, y28, y29, y30, y31, y32, y33, y34, y35, y36, y37, y38, y39, y40, y41, y42, y43, y44, y45, y46, y47, y48, y49, y50) VALUES (?, ?, ?, ?, ?, ?, ?, ?, ?, ?, ?, ?, ?, ?, ?, ?, ?, ?, ?, ?, ?, ?, ?, ?, ?, ?, ?, ?, ?, ?, ?, ?, ?, ?, ?, ?, ?, ?, ?, ?, ?, ?, ?, ?, ?, ?, ?, ?, ?, ?, ?)\n",
      "2023-04-20 09:21:19,900 INFO sqlalchemy.engine.Engine [generated in 0.01072s] [(-20.0, -0.9129453, 0.40808207, 9.087055, 5.408082, -9.087055, 0.9129453, -0.8390715, -0.85091937, 0.81616414, 18.258905, -20.0, -58.0, -45.0, 20.0, 13.0, 400.0, -400.0, 800.0, 410.0, 289.0, -8000.0, 8000.0, 8000.0, -16000.0, -23995.0, -5832.0, 10648.0, -8020.0, -7600.0, -8795.0, 20.0, 4.472136, 20.12461, -0.7464143, 10.0, 100.0, -20.0, -1.3210273, 399.08707, 899.5919, -40.456474, 40.20404, 2.9957323, -0.008333334, 12.995732, 5.2983174, -5.2983174, -0.18627828, 0.9129453, 0.3968496), (-19.9, -0.8676441, 0.4971858, 9.132356, 5.4971857, -9.132356, 0.8676441, -0.8652126, 0.16851768, 0.9943716, 17.266117, -19.9, -57.7, -44.8, 19.9, 12.95, 396.01, -396.01, 792.02, 406.01, 285.61, -7880.599, 7880.599, 7880.599, -15761.198, -23636.797, -5735.339, 10503.459, -7900.499, -7484.589, -8667.619, 19.9, 4.460942, 20.025234, -0.6204504, 9.9, 99.5, -19.9, -1.3648299, 395.14236, 893.5128, -40.23382, 40.04859, 2.9907198, -0.008340283, 12.99072, 5.293305, -5.293305, -0.21569017, 0.8676441, 0.47695395), (-19.8, -0.81367373, 0.58132184, 9.186326, 5.5813217, -9.186326, 0.81367373, -0.88919115, 0.6123911, 1.1626437, 16.11074, -19.8, -57.4, -44.6, 19.8, 12.9, 392.04, -392.04, 784.08, 402.04, 282.24, -7762.392, 7762.392, 7762.392, -15524.784, -23282.176, -5639.752, 10360.232, -7782.192, -7370.352, -8541.472, 19.8, 4.449719, 19.925863, -0.47573867, 9.8, 99.0, -19.8, -1.3949956, 391.22632, 887.4587, -40.006836, 39.89066, 2.985682, -0.008347246, 12.985682, 5.288267, -5.288267, -0.23650314, 0.81367373, 0.5491291), (-19.7, -0.75157344, 0.65964943, 9.248426, 5.6596494, -9.248426, 0.75157344, -0.91094714, -0.99466854, 1.3192989, 14.805996, -19.7, -57.1, -44.4, 19.7, 12.85, 388.09, -388.09, 776.18, 398.09, 278.89, -7645.373, 7645.373, 7645.373, -15290.746, -22931.12, -5545.233, 10218.313, -7665.073, -7257.283, -8416.553, 19.7, 4.438468, 19.826498, -0.31643602, 9.7, 98.5, -19.7, -1.4112228, 387.33844, 881.43036, -39.775787, 39.729824, 2.9806187, -0.008354219, 12.9806185, 5.2832036, -5.2832036, -0.24788749, 0.75157344, 0.6128399), (-19.6, -0.6819636, 0.7313861, 9.318036, 5.731386, -9.318036, 0.6819636, -0.9304263, 0.7743557, 1.4627723, 13.366487, -19.6, -56.8, -44.2, 19.6, 12.8, 384.16, -384.16, 768.32, 394.16, 275.56, -7529.536, 7529.536, 7529.536, -15059.072, -22583.607, -5451.776, 10077.696, -7549.136, -7145.376, -8292.856, 19.6, 4.427189, 19.727139, -0.147038, 9.6, 98.0, -19.6, -1.4133497, 383.47803, 875.4286, -39.54098, 39.565693, 2.9755297, -0.008361204, 12.97553, 5.278115, -5.278115, -0.24938935, 0.6819636, 0.6679019), (-19.5, -0.60553986, 0.795815, 9.39446, 5.795815, -9.39446, 0.60553986, -0.9475798, -0.11702018, 1.59163, 11.808027, -19.5, -56.5, -44.0, 19.5, 12.75, 380.25, -380.25, 760.5, 390.25, 272.25, -7414.875, 7414.875, 7414.875, -14829.75, -22239.625, -5359.375, 9938.375, -7434.375, -7034.625, -8170.375, 19.5, 4.41588, 19.627787, 0.027781596, 9.5, 97.5, -19.5, -1.4013548, 379.64447, 869.45416, -39.30277, 39.397907, 2.9704144, -0.008368201, 12.970414, 5.273, -5.273, -0.24094884, 0.60553986, 0.7144341), (-19.4, -0.52306575, 0.8522923, 9.476934, 5.8522925, -9.476934, 0.52306575, -0.96236485, -0.59004813, 1.7045846, 10.147476, -19.4, -56.2, -43.8, 19.4, 12.7, 376.36, -376.36, 752.72, 386.36, 268.96, -7301.384, 7301.384, 7301.384, -14602.768, -21899.152, -5268.024, 9800.344, -7320.784, -6925.024, -8049.104, 19.4, 4.404543, 19.52844, 0.20333645, 9.4, 97.0, -19.4, -1.3753581, 375.83694, 863.5077, -39.06153, 39.226147, 2.9652731, -0.00837521, 12.965273, 5.267858, -5.267858, -0.22290246, 0.52306575, 0.75279135), (-19.3, -0.43536535, 0.90025383, 9.564634, 5.900254, -9.564634, 0.43536535, -0.97474456, 0.97776526, 1.8005077, 8.402552, -19.3, -55.9, -43.6, 19.3, 12.65, 372.49, -372.49, 744.98, 382.49, 265.69, -7189.057, 7189.057, 7189.057, -14378.114, -21562.172, -5177.717, 9663.597, -7208.357, -6816.567, -7929.037, 19.3, 4.3931766, 19.429102, 0.37509164, 9.3, 96.5, -19.3, -1.3356192, 372.05463, 857.5897, -38.817684, 39.050125, 2.9601052, -0.00838223, 12.960105, 5.26269, -5.26269, -0.19596967, 0.43536535, 0.7834847)  ... displaying 10 of 400 total bound parameter sets ...  (19.8, 0.81367373, 0.58132184, 10.813674, 5.5813217, -10.813674, -0.81367373, -0.88919115, 0.6123911, 1.1626437, 16.11074, 19.8, 61.4, 34.6, -19.8, -6.9, 392.04, -392.04, 784.08, 402.04, 519.84, 7762.392, 7762.392, -7762.392, 15524.784, 23292.176, 10360.232, -5639.752, 7782.192, 8154.432, 6983.312, 19.8, 4.449719, 19.925863, 1.1516088, 9.8, 99.0, -19.8, 0.23235193, 392.85367, 95.45868, 40.006836, -39.309338, 2.985682, -0.012468828, 12.985682, 5.288267, -5.288267, 0.23650314, 0.81367373, 0.5491291), (19.9, 0.8676441, 0.4971858, 10.867644, 5.4971857, -10.867644, -0.8676441, -0.8652126, 0.16851768, 0.9943716, 17.266117, 19.9, 61.7, 34.8, -19.9, -6.95, 396.01, -396.01, 792.02, 406.01, 524.41, 7880.599, 7880.599, -7880.599, 15761.198, 23646.797, 10503.459, -5735.339, 7900.499, 8276.609, 7093.579, 19.9, 4.460942, 20.025234, 1.1148378, 9.9, 99.5, -19.9, 0.3704583, 396.87766, 97.51282, 40.23382, -39.551407, 2.9907198, -0.012484395, 12.99072, 5.293305, -5.293305, 0.21569017, 0.8676441, 0.47695395)]\n"
     ]
    },
    {
     "name": "stdout",
     "output_type": "stream",
     "text": [
      "2023-04-20 09:21:19,912 INFO sqlalchemy.engine.Engine COMMIT\n"
     ]
    },
    {
     "data": {
      "text/plain": [
       "400"
      ]
     },
     "execution_count": 53,
     "metadata": {},
     "output_type": "execute_result"
    }
   ],
   "source": [
    "# Ingesting the ideal Dataframe into the train sql table.\n",
    "\n",
    "ideal.to_sql(\"ideal\", engine, if_exists=\"replace\", index=False)"
   ]
  },
  {
   "cell_type": "code",
   "execution_count": 54,
   "id": "58443e2f",
   "metadata": {},
   "outputs": [
    {
     "name": "stdout",
     "output_type": "stream",
     "text": [
      "2023-04-20 09:21:30,038 INFO sqlalchemy.engine.Engine SELECT * FROM ideal LIMIT 5\n",
      "2023-04-20 09:21:30,040 INFO sqlalchemy.engine.Engine [generated in 0.00167s] ()\n",
      "(-20.0, -0.9129453, 0.40808207, 9.087055, 5.408082, -9.087055, 0.9129453, -0.8390715, -0.85091937, 0.81616414, 18.258905, -20.0, -58.0, -45.0, 20.0, 13.0, 400.0, -400.0, 800.0, 410.0, 289.0, -8000.0, 8000.0, 8000.0, -16000.0, -23995.0, -5832.0, 10648.0, -8020.0, -7600.0, -8795.0, 20.0, 4.472136, 20.12461, -0.7464143, 10.0, 100.0, -20.0, -1.3210273, 399.08707, 899.5919, -40.456474, 40.20404, 2.9957323, -0.008333334, 12.995732, 5.2983174, -5.2983174, -0.18627828, 0.9129453, 0.3968496)\n",
      "(-19.9, -0.8676441, 0.4971858, 9.132356, 5.4971857, -9.132356, 0.8676441, -0.8652126, 0.16851768, 0.9943716, 17.266117, -19.9, -57.7, -44.8, 19.9, 12.95, 396.01, -396.01, 792.02, 406.01, 285.61, -7880.599, 7880.599, 7880.599, -15761.198, -23636.797, -5735.339, 10503.459, -7900.499, -7484.589, -8667.619, 19.9, 4.460942, 20.025234, -0.6204504, 9.9, 99.5, -19.9, -1.3648299, 395.14236, 893.5128, -40.23382, 40.04859, 2.9907198, -0.008340283, 12.99072, 5.293305, -5.293305, -0.21569017, 0.8676441, 0.47695395)\n",
      "(-19.8, -0.81367373, 0.58132184, 9.186326, 5.5813217, -9.186326, 0.81367373, -0.88919115, 0.6123911, 1.1626437, 16.11074, -19.8, -57.4, -44.6, 19.8, 12.9, 392.04, -392.04, 784.08, 402.04, 282.24, -7762.392, 7762.392, 7762.392, -15524.784, -23282.176, -5639.752, 10360.232, -7782.192, -7370.352, -8541.472, 19.8, 4.449719, 19.925863, -0.47573867, 9.8, 99.0, -19.8, -1.3949956, 391.22632, 887.4587, -40.006836, 39.89066, 2.985682, -0.008347246, 12.985682, 5.288267, -5.288267, -0.23650314, 0.81367373, 0.5491291)\n",
      "(-19.7, -0.75157344, 0.65964943, 9.248426, 5.6596494, -9.248426, 0.75157344, -0.91094714, -0.99466854, 1.3192989, 14.805996, -19.7, -57.1, -44.4, 19.7, 12.85, 388.09, -388.09, 776.18, 398.09, 278.89, -7645.373, 7645.373, 7645.373, -15290.746, -22931.12, -5545.233, 10218.313, -7665.073, -7257.283, -8416.553, 19.7, 4.438468, 19.826498, -0.31643602, 9.7, 98.5, -19.7, -1.4112228, 387.33844, 881.43036, -39.775787, 39.729824, 2.9806187, -0.008354219, 12.9806185, 5.2832036, -5.2832036, -0.24788749, 0.75157344, 0.6128399)\n",
      "(-19.6, -0.6819636, 0.7313861, 9.318036, 5.731386, -9.318036, 0.6819636, -0.9304263, 0.7743557, 1.4627723, 13.366487, -19.6, -56.8, -44.2, 19.6, 12.8, 384.16, -384.16, 768.32, 394.16, 275.56, -7529.536, 7529.536, 7529.536, -15059.072, -22583.607, -5451.776, 10077.696, -7549.136, -7145.376, -8292.856, 19.6, 4.427189, 19.727139, -0.147038, 9.6, 98.0, -19.6, -1.4133497, 383.47803, 875.4286, -39.54098, 39.565693, 2.9755297, -0.008361204, 12.97553, 5.278115, -5.278115, -0.24938935, 0.6819636, 0.6679019)\n"
     ]
    }
   ],
   "source": [
    "# Querying the ideal table from the database\n",
    "\n",
    "query8 = \"SELECT * FROM ideal LIMIT 5\"\n",
    "result8 = conn.execute(text(query8))\n",
    "for res8 in result8:\n",
    "    print(res8)"
   ]
  },
  {
   "cell_type": "code",
   "execution_count": 55,
   "id": "c8ce8015",
   "metadata": {},
   "outputs": [
    {
     "name": "stdout",
     "output_type": "stream",
     "text": [
      "2023-04-20 09:21:43,581 INFO sqlalchemy.engine.Engine BEGIN (implicit)\n",
      "2023-04-20 09:21:43,582 INFO sqlalchemy.engine.Engine PRAGMA main.table_info(\"test\")\n",
      "2023-04-20 09:21:43,584 INFO sqlalchemy.engine.Engine [raw sql] ()\n",
      "2023-04-20 09:21:43,585 INFO sqlalchemy.engine.Engine ROLLBACK\n",
      "2023-04-20 09:21:43,586 INFO sqlalchemy.engine.Engine BEGIN (implicit)\n",
      "2023-04-20 09:21:43,586 INFO sqlalchemy.engine.Engine PRAGMA main.table_info(\"test\")\n",
      "2023-04-20 09:21:43,587 INFO sqlalchemy.engine.Engine [raw sql] ()\n",
      "2023-04-20 09:21:43,588 INFO sqlalchemy.engine.Engine ROLLBACK\n",
      "2023-04-20 09:21:43,589 INFO sqlalchemy.engine.Engine BEGIN (implicit)\n",
      "2023-04-20 09:21:43,590 INFO sqlalchemy.engine.Engine SELECT name FROM sqlite_master WHERE type='table' AND name NOT LIKE 'sqlite~_%' ESCAPE '~' ORDER BY name\n",
      "2023-04-20 09:21:43,591 INFO sqlalchemy.engine.Engine [raw sql] ()\n",
      "2023-04-20 09:21:43,592 INFO sqlalchemy.engine.Engine SELECT name FROM sqlite_temp_master WHERE type='table' AND name NOT LIKE 'sqlite~_%' ESCAPE '~' ORDER BY name\n",
      "2023-04-20 09:21:43,592 INFO sqlalchemy.engine.Engine [raw sql] ()\n",
      "2023-04-20 09:21:43,594 INFO sqlalchemy.engine.Engine PRAGMA main.table_xinfo(\"test\")\n",
      "2023-04-20 09:21:43,594 INFO sqlalchemy.engine.Engine [raw sql] ()\n",
      "2023-04-20 09:21:43,596 INFO sqlalchemy.engine.Engine SELECT sql FROM  (SELECT * FROM sqlite_master UNION ALL   SELECT * FROM sqlite_temp_master) WHERE name = ? AND type in ('table', 'view')\n",
      "2023-04-20 09:21:43,596 INFO sqlalchemy.engine.Engine [raw sql] ('test',)\n",
      "2023-04-20 09:21:43,597 INFO sqlalchemy.engine.Engine PRAGMA main.foreign_key_list(\"test\")\n",
      "2023-04-20 09:21:43,598 INFO sqlalchemy.engine.Engine [raw sql] ()\n",
      "2023-04-20 09:21:43,598 INFO sqlalchemy.engine.Engine PRAGMA temp.foreign_key_list(\"test\")\n",
      "2023-04-20 09:21:43,600 INFO sqlalchemy.engine.Engine [raw sql] ()\n",
      "2023-04-20 09:21:43,600 INFO sqlalchemy.engine.Engine SELECT sql FROM  (SELECT * FROM sqlite_master UNION ALL   SELECT * FROM sqlite_temp_master) WHERE name = ? AND type in ('table', 'view')\n",
      "2023-04-20 09:21:43,601 INFO sqlalchemy.engine.Engine [raw sql] ('test',)\n",
      "2023-04-20 09:21:43,602 INFO sqlalchemy.engine.Engine PRAGMA main.index_list(\"test\")\n",
      "2023-04-20 09:21:43,603 INFO sqlalchemy.engine.Engine [raw sql] ()\n",
      "2023-04-20 09:21:43,604 INFO sqlalchemy.engine.Engine PRAGMA temp.index_list(\"test\")\n",
      "2023-04-20 09:21:43,605 INFO sqlalchemy.engine.Engine [raw sql] ()\n",
      "2023-04-20 09:21:43,606 INFO sqlalchemy.engine.Engine PRAGMA main.table_info(\"test\")\n",
      "2023-04-20 09:21:43,606 INFO sqlalchemy.engine.Engine [raw sql] ()\n",
      "2023-04-20 09:21:43,607 INFO sqlalchemy.engine.Engine PRAGMA main.index_list(\"test\")\n",
      "2023-04-20 09:21:43,608 INFO sqlalchemy.engine.Engine [raw sql] ()\n",
      "2023-04-20 09:21:43,609 INFO sqlalchemy.engine.Engine PRAGMA temp.index_list(\"test\")\n",
      "2023-04-20 09:21:43,610 INFO sqlalchemy.engine.Engine [raw sql] ()\n",
      "2023-04-20 09:21:43,611 INFO sqlalchemy.engine.Engine PRAGMA main.table_info(\"test\")\n",
      "2023-04-20 09:21:43,611 INFO sqlalchemy.engine.Engine [raw sql] ()\n",
      "2023-04-20 09:21:43,612 INFO sqlalchemy.engine.Engine SELECT sql FROM  (SELECT * FROM sqlite_master UNION ALL   SELECT * FROM sqlite_temp_master) WHERE name = ? AND type in ('table', 'view')\n",
      "2023-04-20 09:21:43,613 INFO sqlalchemy.engine.Engine [raw sql] ('test',)\n",
      "2023-04-20 09:21:43,615 INFO sqlalchemy.engine.Engine ROLLBACK\n",
      "2023-04-20 09:21:43,616 INFO sqlalchemy.engine.Engine BEGIN (implicit)\n",
      "2023-04-20 09:21:43,617 INFO sqlalchemy.engine.Engine \n",
      "DROP TABLE test\n",
      "2023-04-20 09:21:43,617 INFO sqlalchemy.engine.Engine [no key 0.00052s] ()\n",
      "2023-04-20 09:21:43,732 INFO sqlalchemy.engine.Engine COMMIT\n",
      "2023-04-20 09:21:43,734 INFO sqlalchemy.engine.Engine BEGIN (implicit)\n",
      "2023-04-20 09:21:43,735 INFO sqlalchemy.engine.Engine \n",
      "CREATE TABLE test (\n",
      "\tx FLOAT, \n",
      "\ty FLOAT\n",
      ")\n",
      "\n",
      "\n",
      "2023-04-20 09:21:43,736 INFO sqlalchemy.engine.Engine [no key 0.00078s] ()\n",
      "2023-04-20 09:21:43,817 INFO sqlalchemy.engine.Engine COMMIT\n",
      "2023-04-20 09:21:43,819 INFO sqlalchemy.engine.Engine BEGIN (implicit)\n",
      "2023-04-20 09:21:43,823 INFO sqlalchemy.engine.Engine INSERT INTO test (x, y) VALUES (?, ?)\n",
      "2023-04-20 09:21:43,824 INFO sqlalchemy.engine.Engine [generated in 0.00217s] [(-17.5, 14492.095), (19.0, 0.4807038), (6.5, 274.0855), (15.9, 8039.7925), (-14.3, -5848.08), (0.3, 4.4066796), (0.1, -1.2131777), (4.8, 109.81799)  ... displaying 10 of 100 total bound parameter sets ...  (6.7, 601.3089), (3.9, 60.296154)]\n",
      "2023-04-20 09:21:43,842 INFO sqlalchemy.engine.Engine COMMIT\n"
     ]
    },
    {
     "data": {
      "text/plain": [
       "100"
      ]
     },
     "execution_count": 55,
     "metadata": {},
     "output_type": "execute_result"
    }
   ],
   "source": [
    "# Ingesting the test Dataframe into the train sql table.\n",
    "\n",
    "test.to_sql(\"test\", engine, if_exists=\"replace\", index=False)"
   ]
  },
  {
   "cell_type": "code",
   "execution_count": 56,
   "id": "195f5388",
   "metadata": {},
   "outputs": [
    {
     "name": "stdout",
     "output_type": "stream",
     "text": [
      "2023-04-20 09:21:52,554 INFO sqlalchemy.engine.Engine SELECT * FROM test LIMIT 5\n",
      "2023-04-20 09:21:52,555 INFO sqlalchemy.engine.Engine [generated in 0.00183s] ()\n",
      "(-17.5, 14492.095)\n",
      "(19.0, 0.4807038)\n",
      "(6.5, 274.0855)\n",
      "(15.9, 8039.7925)\n",
      "(-14.3, -5848.08)\n"
     ]
    }
   ],
   "source": [
    "# Querying the test table from the database\n",
    "\n",
    "query9 = \"SELECT * FROM test LIMIT 5\"\n",
    "result9 = conn.execute(text(query9))\n",
    "for res9 in result9:\n",
    "    print(res9)"
   ]
  },
  {
   "cell_type": "code",
   "execution_count": 57,
   "id": "c84bd2bd",
   "metadata": {},
   "outputs": [
    {
     "name": "stdout",
     "output_type": "stream",
     "text": [
      "2023-04-20 09:22:01,108 INFO sqlalchemy.engine.Engine BEGIN (implicit)\n",
      "2023-04-20 09:22:01,110 INFO sqlalchemy.engine.Engine PRAGMA main.table_info(\"idealfour\")\n",
      "2023-04-20 09:22:01,110 INFO sqlalchemy.engine.Engine [raw sql] ()\n",
      "2023-04-20 09:22:01,112 INFO sqlalchemy.engine.Engine ROLLBACK\n",
      "2023-04-20 09:22:01,112 INFO sqlalchemy.engine.Engine BEGIN (implicit)\n",
      "2023-04-20 09:22:01,113 INFO sqlalchemy.engine.Engine PRAGMA main.table_info(\"idealfour\")\n",
      "2023-04-20 09:22:01,114 INFO sqlalchemy.engine.Engine [raw sql] ()\n",
      "2023-04-20 09:22:01,115 INFO sqlalchemy.engine.Engine ROLLBACK\n",
      "2023-04-20 09:22:01,116 INFO sqlalchemy.engine.Engine BEGIN (implicit)\n",
      "2023-04-20 09:22:01,117 INFO sqlalchemy.engine.Engine SELECT name FROM sqlite_master WHERE type='table' AND name NOT LIKE 'sqlite~_%' ESCAPE '~' ORDER BY name\n",
      "2023-04-20 09:22:01,117 INFO sqlalchemy.engine.Engine [raw sql] ()\n",
      "2023-04-20 09:22:01,119 INFO sqlalchemy.engine.Engine SELECT name FROM sqlite_temp_master WHERE type='table' AND name NOT LIKE 'sqlite~_%' ESCAPE '~' ORDER BY name\n",
      "2023-04-20 09:22:01,120 INFO sqlalchemy.engine.Engine [raw sql] ()\n",
      "2023-04-20 09:22:01,121 INFO sqlalchemy.engine.Engine PRAGMA main.table_xinfo(\"idealfour\")\n",
      "2023-04-20 09:22:01,121 INFO sqlalchemy.engine.Engine [raw sql] ()\n",
      "2023-04-20 09:22:01,123 INFO sqlalchemy.engine.Engine SELECT sql FROM  (SELECT * FROM sqlite_master UNION ALL   SELECT * FROM sqlite_temp_master) WHERE name = ? AND type in ('table', 'view')\n",
      "2023-04-20 09:22:01,123 INFO sqlalchemy.engine.Engine [raw sql] ('idealfour',)\n",
      "2023-04-20 09:22:01,124 INFO sqlalchemy.engine.Engine PRAGMA main.foreign_key_list(\"idealfour\")\n",
      "2023-04-20 09:22:01,125 INFO sqlalchemy.engine.Engine [raw sql] ()\n",
      "2023-04-20 09:22:01,125 INFO sqlalchemy.engine.Engine PRAGMA temp.foreign_key_list(\"idealfour\")\n",
      "2023-04-20 09:22:01,127 INFO sqlalchemy.engine.Engine [raw sql] ()\n",
      "2023-04-20 09:22:01,128 INFO sqlalchemy.engine.Engine SELECT sql FROM  (SELECT * FROM sqlite_master UNION ALL   SELECT * FROM sqlite_temp_master) WHERE name = ? AND type in ('table', 'view')\n",
      "2023-04-20 09:22:01,129 INFO sqlalchemy.engine.Engine [raw sql] ('idealfour',)\n",
      "2023-04-20 09:22:01,130 INFO sqlalchemy.engine.Engine PRAGMA main.index_list(\"idealfour\")\n",
      "2023-04-20 09:22:01,130 INFO sqlalchemy.engine.Engine [raw sql] ()\n",
      "2023-04-20 09:22:01,131 INFO sqlalchemy.engine.Engine PRAGMA temp.index_list(\"idealfour\")\n",
      "2023-04-20 09:22:01,132 INFO sqlalchemy.engine.Engine [raw sql] ()\n",
      "2023-04-20 09:22:01,133 INFO sqlalchemy.engine.Engine PRAGMA main.table_info(\"idealfour\")\n",
      "2023-04-20 09:22:01,133 INFO sqlalchemy.engine.Engine [raw sql] ()\n",
      "2023-04-20 09:22:01,135 INFO sqlalchemy.engine.Engine PRAGMA main.index_list(\"idealfour\")\n",
      "2023-04-20 09:22:01,135 INFO sqlalchemy.engine.Engine [raw sql] ()\n",
      "2023-04-20 09:22:01,136 INFO sqlalchemy.engine.Engine PRAGMA temp.index_list(\"idealfour\")\n",
      "2023-04-20 09:22:01,137 INFO sqlalchemy.engine.Engine [raw sql] ()\n",
      "2023-04-20 09:22:01,137 INFO sqlalchemy.engine.Engine PRAGMA main.table_info(\"idealfour\")\n",
      "2023-04-20 09:22:01,138 INFO sqlalchemy.engine.Engine [raw sql] ()\n",
      "2023-04-20 09:22:01,139 INFO sqlalchemy.engine.Engine SELECT sql FROM  (SELECT * FROM sqlite_master UNION ALL   SELECT * FROM sqlite_temp_master) WHERE name = ? AND type in ('table', 'view')\n",
      "2023-04-20 09:22:01,139 INFO sqlalchemy.engine.Engine [raw sql] ('idealfour',)\n",
      "2023-04-20 09:22:01,141 INFO sqlalchemy.engine.Engine ROLLBACK\n",
      "2023-04-20 09:22:01,142 INFO sqlalchemy.engine.Engine BEGIN (implicit)\n",
      "2023-04-20 09:22:01,143 INFO sqlalchemy.engine.Engine \n",
      "DROP TABLE idealfour\n",
      "2023-04-20 09:22:01,143 INFO sqlalchemy.engine.Engine [no key 0.00085s] ()\n",
      "2023-04-20 09:22:01,231 INFO sqlalchemy.engine.Engine COMMIT\n",
      "2023-04-20 09:22:01,233 INFO sqlalchemy.engine.Engine BEGIN (implicit)\n",
      "2023-04-20 09:22:01,236 INFO sqlalchemy.engine.Engine \n",
      "CREATE TABLE idealfour (\n",
      "\tx FLOAT, \n",
      "\ty21 FLOAT, \n",
      "\ty27 FLOAT, \n",
      "\ty2 FLOAT, \n",
      "\ty24 FLOAT\n",
      ")\n",
      "\n",
      "\n",
      "2023-04-20 09:22:01,238 INFO sqlalchemy.engine.Engine [no key 0.00180s] ()\n",
      "2023-04-20 09:22:01,341 INFO sqlalchemy.engine.Engine COMMIT\n",
      "2023-04-20 09:22:01,343 INFO sqlalchemy.engine.Engine BEGIN (implicit)\n",
      "2023-04-20 09:22:01,348 INFO sqlalchemy.engine.Engine INSERT INTO idealfour (x, y21, y27, y2, y24) VALUES (?, ?, ?, ?, ?)\n",
      "2023-04-20 09:22:01,349 INFO sqlalchemy.engine.Engine [generated in 0.00419s] [(-20.0, -8000.0, 10648.0, 0.40808207, -16000.0), (-19.9, -7880.599, 10503.459, 0.4971858, -15761.198), (-19.8, -7762.392, 10360.232, 0.58132184, -15524.784), (-19.7, -7645.373, 10218.313, 0.65964943, -15290.746), (-19.6, -7529.536, 10077.696, 0.7313861, -15059.072), (-19.5, -7414.875, 9938.375, 0.795815, -14829.75), (-19.4, -7301.384, 9800.344, 0.8522923, -14602.768), (-19.3, -7189.057, 9663.597, 0.90025383, -14378.114)  ... displaying 10 of 400 total bound parameter sets ...  (19.8, 7762.392, -5639.752, 0.58132184, 15524.784), (19.9, 7880.599, -5735.339, 0.4971858, 15761.198)]\n",
      "2023-04-20 09:22:01,354 INFO sqlalchemy.engine.Engine COMMIT\n"
     ]
    },
    {
     "data": {
      "text/plain": [
       "400"
      ]
     },
     "execution_count": 57,
     "metadata": {},
     "output_type": "execute_result"
    }
   ],
   "source": [
    "# Ingesting the idealfour Dataframe into the train sql table.\n",
    "\n",
    "idealfour.to_sql(\"idealfour\", engine, if_exists=\"replace\", index=False)"
   ]
  },
  {
   "cell_type": "code",
   "execution_count": 58,
   "id": "a38088d8",
   "metadata": {},
   "outputs": [
    {
     "name": "stdout",
     "output_type": "stream",
     "text": [
      "2023-04-20 09:22:15,400 INFO sqlalchemy.engine.Engine SELECT * FROM test LIMIT 5\n",
      "2023-04-20 09:22:15,401 INFO sqlalchemy.engine.Engine [cached since 22.85s ago] ()\n",
      "(-17.5, 14492.095)\n",
      "(19.0, 0.4807038)\n",
      "(6.5, 274.0855)\n",
      "(15.9, 8039.7925)\n",
      "(-14.3, -5848.08)\n"
     ]
    }
   ],
   "source": [
    "# Querying the idealfour table from the database\n",
    "\n",
    "query10 = \"SELECT * FROM test LIMIT 5\"\n",
    "result10 = conn.execute(text(query10))\n",
    "for res10 in result10:\n",
    "    print(res10)"
   ]
  },
  {
   "cell_type": "code",
   "execution_count": 59,
   "id": "f26dc111",
   "metadata": {},
   "outputs": [
    {
     "name": "stdout",
     "output_type": "stream",
     "text": [
      "2023-04-20 09:22:22,573 INFO sqlalchemy.engine.Engine BEGIN (implicit)\n",
      "2023-04-20 09:22:22,574 INFO sqlalchemy.engine.Engine PRAGMA main.table_info(\"fit\")\n",
      "2023-04-20 09:22:22,575 INFO sqlalchemy.engine.Engine [raw sql] ()\n",
      "2023-04-20 09:22:22,577 INFO sqlalchemy.engine.Engine ROLLBACK\n",
      "2023-04-20 09:22:22,578 INFO sqlalchemy.engine.Engine BEGIN (implicit)\n",
      "2023-04-20 09:22:22,579 INFO sqlalchemy.engine.Engine PRAGMA main.table_info(\"fit\")\n",
      "2023-04-20 09:22:22,580 INFO sqlalchemy.engine.Engine [raw sql] ()\n",
      "2023-04-20 09:22:22,581 INFO sqlalchemy.engine.Engine ROLLBACK\n",
      "2023-04-20 09:22:22,582 INFO sqlalchemy.engine.Engine BEGIN (implicit)\n",
      "2023-04-20 09:22:22,583 INFO sqlalchemy.engine.Engine SELECT name FROM sqlite_master WHERE type='table' AND name NOT LIKE 'sqlite~_%' ESCAPE '~' ORDER BY name\n",
      "2023-04-20 09:22:22,583 INFO sqlalchemy.engine.Engine [raw sql] ()\n",
      "2023-04-20 09:22:22,584 INFO sqlalchemy.engine.Engine SELECT name FROM sqlite_temp_master WHERE type='table' AND name NOT LIKE 'sqlite~_%' ESCAPE '~' ORDER BY name\n",
      "2023-04-20 09:22:22,585 INFO sqlalchemy.engine.Engine [raw sql] ()\n",
      "2023-04-20 09:22:22,587 INFO sqlalchemy.engine.Engine PRAGMA main.table_xinfo(\"fit\")\n",
      "2023-04-20 09:22:22,587 INFO sqlalchemy.engine.Engine [raw sql] ()\n",
      "2023-04-20 09:22:22,589 INFO sqlalchemy.engine.Engine SELECT sql FROM  (SELECT * FROM sqlite_master UNION ALL   SELECT * FROM sqlite_temp_master) WHERE name = ? AND type in ('table', 'view')\n",
      "2023-04-20 09:22:22,589 INFO sqlalchemy.engine.Engine [raw sql] ('fit',)\n",
      "2023-04-20 09:22:22,590 INFO sqlalchemy.engine.Engine PRAGMA main.foreign_key_list(\"fit\")\n",
      "2023-04-20 09:22:22,591 INFO sqlalchemy.engine.Engine [raw sql] ()\n",
      "2023-04-20 09:22:22,591 INFO sqlalchemy.engine.Engine PRAGMA temp.foreign_key_list(\"fit\")\n",
      "2023-04-20 09:22:22,592 INFO sqlalchemy.engine.Engine [raw sql] ()\n",
      "2023-04-20 09:22:22,593 INFO sqlalchemy.engine.Engine SELECT sql FROM  (SELECT * FROM sqlite_master UNION ALL   SELECT * FROM sqlite_temp_master) WHERE name = ? AND type in ('table', 'view')\n",
      "2023-04-20 09:22:22,593 INFO sqlalchemy.engine.Engine [raw sql] ('fit',)\n",
      "2023-04-20 09:22:22,595 INFO sqlalchemy.engine.Engine PRAGMA main.index_list(\"fit\")\n",
      "2023-04-20 09:22:22,596 INFO sqlalchemy.engine.Engine [raw sql] ()\n",
      "2023-04-20 09:22:22,598 INFO sqlalchemy.engine.Engine PRAGMA temp.index_list(\"fit\")\n",
      "2023-04-20 09:22:22,599 INFO sqlalchemy.engine.Engine [raw sql] ()\n",
      "2023-04-20 09:22:22,600 INFO sqlalchemy.engine.Engine PRAGMA main.table_info(\"fit\")\n",
      "2023-04-20 09:22:22,600 INFO sqlalchemy.engine.Engine [raw sql] ()\n",
      "2023-04-20 09:22:22,601 INFO sqlalchemy.engine.Engine PRAGMA main.index_list(\"fit\")\n",
      "2023-04-20 09:22:22,602 INFO sqlalchemy.engine.Engine [raw sql] ()\n",
      "2023-04-20 09:22:22,603 INFO sqlalchemy.engine.Engine PRAGMA temp.index_list(\"fit\")\n",
      "2023-04-20 09:22:22,603 INFO sqlalchemy.engine.Engine [raw sql] ()\n",
      "2023-04-20 09:22:22,604 INFO sqlalchemy.engine.Engine PRAGMA main.table_info(\"fit\")\n",
      "2023-04-20 09:22:22,605 INFO sqlalchemy.engine.Engine [raw sql] ()\n",
      "2023-04-20 09:22:22,605 INFO sqlalchemy.engine.Engine SELECT sql FROM  (SELECT * FROM sqlite_master UNION ALL   SELECT * FROM sqlite_temp_master) WHERE name = ? AND type in ('table', 'view')\n",
      "2023-04-20 09:22:22,606 INFO sqlalchemy.engine.Engine [raw sql] ('fit',)\n",
      "2023-04-20 09:22:22,607 INFO sqlalchemy.engine.Engine ROLLBACK\n",
      "2023-04-20 09:22:22,608 INFO sqlalchemy.engine.Engine BEGIN (implicit)\n",
      "2023-04-20 09:22:22,609 INFO sqlalchemy.engine.Engine \n",
      "DROP TABLE fit\n",
      "2023-04-20 09:22:22,609 INFO sqlalchemy.engine.Engine [no key 0.00084s] ()\n",
      "2023-04-20 09:22:22,708 INFO sqlalchemy.engine.Engine COMMIT\n",
      "2023-04-20 09:22:22,710 INFO sqlalchemy.engine.Engine BEGIN (implicit)\n",
      "2023-04-20 09:22:22,712 INFO sqlalchemy.engine.Engine \n",
      "CREATE TABLE fit (\n",
      "\tx FLOAT, \n",
      "\ty24 FLOAT\n",
      ")\n",
      "\n",
      "\n",
      "2023-04-20 09:22:22,713 INFO sqlalchemy.engine.Engine [no key 0.00134s] ()\n",
      "2023-04-20 09:22:22,793 INFO sqlalchemy.engine.Engine COMMIT\n",
      "2023-04-20 09:22:22,795 INFO sqlalchemy.engine.Engine BEGIN (implicit)\n",
      "2023-04-20 09:22:22,798 INFO sqlalchemy.engine.Engine INSERT INTO fit (x, y24) VALUES (?, ?)\n",
      "2023-04-20 09:22:22,800 INFO sqlalchemy.engine.Engine [generated in 0.00206s] [(-19.3, -14378.114), (-19.2, -14155.776), (-18.7, -13078.406), (-18.6, -12869.712), (-17.5, -10718.75), (-17.4, -10536.048), (-17.0, -9826.0), (-16.6, -9148.592)  ... displaying 10 of 92 total bound parameter sets ...  (19.4, 14602.768), (19.6, 15059.072)]\n",
      "2023-04-20 09:22:22,803 INFO sqlalchemy.engine.Engine COMMIT\n"
     ]
    },
    {
     "data": {
      "text/plain": [
       "92"
      ]
     },
     "execution_count": 59,
     "metadata": {},
     "output_type": "execute_result"
    }
   ],
   "source": [
    "# Ingesting the fit Dataframe into the train sql table.\n",
    "\n",
    "fit.to_sql(\"fit\", engine, if_exists=\"replace\", index=False)"
   ]
  },
  {
   "cell_type": "code",
   "execution_count": 60,
   "id": "1f733dac",
   "metadata": {},
   "outputs": [
    {
     "name": "stdout",
     "output_type": "stream",
     "text": [
      "2023-04-20 09:22:36,262 INFO sqlalchemy.engine.Engine SELECT * FROM test LIMIT 5\n",
      "2023-04-20 09:22:36,263 INFO sqlalchemy.engine.Engine [cached since 43.71s ago] ()\n",
      "(-17.5, 14492.095)\n",
      "(19.0, 0.4807038)\n",
      "(6.5, 274.0855)\n",
      "(15.9, 8039.7925)\n",
      "(-14.3, -5848.08)\n"
     ]
    }
   ],
   "source": [
    "# Querying the idealfour table from the database\n",
    "\n",
    "query11 = \"SELECT * FROM test LIMIT 5\"\n",
    "result11 = conn.execute(text(query11))\n",
    "for res11 in result11:\n",
    "    print(res11)"
   ]
  },
  {
   "cell_type": "code",
   "execution_count": null,
   "id": "da04c7c2",
   "metadata": {},
   "outputs": [],
   "source": []
  }
 ],
 "metadata": {
  "kernelspec": {
   "display_name": "Python 3 (ipykernel)",
   "language": "python",
   "name": "python3"
  },
  "language_info": {
   "codemirror_mode": {
    "name": "ipython",
    "version": 3
   },
   "file_extension": ".py",
   "mimetype": "text/x-python",
   "name": "python",
   "nbconvert_exporter": "python",
   "pygments_lexer": "ipython3",
   "version": "3.9.13"
  }
 },
 "nbformat": 4,
 "nbformat_minor": 5
}
