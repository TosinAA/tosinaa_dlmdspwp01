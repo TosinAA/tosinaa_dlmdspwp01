{
 "cells": [
  {
   "cell_type": "code",
   "execution_count": 1,
   "id": "f341d970",
   "metadata": {},
   "outputs": [
    {
     "data": {
      "text/html": [
       "<div class=\"bk-root\">\n",
       "        <a href=\"https://bokeh.org\" target=\"_blank\" class=\"bk-logo bk-logo-small bk-logo-notebook\"></a>\n",
       "        <span id=\"1002\">Loading BokehJS ...</span>\n",
       "    </div>\n"
      ]
     },
     "metadata": {},
     "output_type": "display_data"
    },
    {
     "data": {
      "application/javascript": [
       "(function(root) {\n",
       "  function now() {\n",
       "    return new Date();\n",
       "  }\n",
       "\n",
       "  const force = true;\n",
       "\n",
       "  if (typeof root._bokeh_onload_callbacks === \"undefined\" || force === true) {\n",
       "    root._bokeh_onload_callbacks = [];\n",
       "    root._bokeh_is_loading = undefined;\n",
       "  }\n",
       "\n",
       "const JS_MIME_TYPE = 'application/javascript';\n",
       "  const HTML_MIME_TYPE = 'text/html';\n",
       "  const EXEC_MIME_TYPE = 'application/vnd.bokehjs_exec.v0+json';\n",
       "  const CLASS_NAME = 'output_bokeh rendered_html';\n",
       "\n",
       "  /**\n",
       "   * Render data to the DOM node\n",
       "   */\n",
       "  function render(props, node) {\n",
       "    const script = document.createElement(\"script\");\n",
       "    node.appendChild(script);\n",
       "  }\n",
       "\n",
       "  /**\n",
       "   * Handle when an output is cleared or removed\n",
       "   */\n",
       "  function handleClearOutput(event, handle) {\n",
       "    const cell = handle.cell;\n",
       "\n",
       "    const id = cell.output_area._bokeh_element_id;\n",
       "    const server_id = cell.output_area._bokeh_server_id;\n",
       "    // Clean up Bokeh references\n",
       "    if (id != null && id in Bokeh.index) {\n",
       "      Bokeh.index[id].model.document.clear();\n",
       "      delete Bokeh.index[id];\n",
       "    }\n",
       "\n",
       "    if (server_id !== undefined) {\n",
       "      // Clean up Bokeh references\n",
       "      const cmd_clean = \"from bokeh.io.state import curstate; print(curstate().uuid_to_server['\" + server_id + \"'].get_sessions()[0].document.roots[0]._id)\";\n",
       "      cell.notebook.kernel.execute(cmd_clean, {\n",
       "        iopub: {\n",
       "          output: function(msg) {\n",
       "            const id = msg.content.text.trim();\n",
       "            if (id in Bokeh.index) {\n",
       "              Bokeh.index[id].model.document.clear();\n",
       "              delete Bokeh.index[id];\n",
       "            }\n",
       "          }\n",
       "        }\n",
       "      });\n",
       "      // Destroy server and session\n",
       "      const cmd_destroy = \"import bokeh.io.notebook as ion; ion.destroy_server('\" + server_id + \"')\";\n",
       "      cell.notebook.kernel.execute(cmd_destroy);\n",
       "    }\n",
       "  }\n",
       "\n",
       "  /**\n",
       "   * Handle when a new output is added\n",
       "   */\n",
       "  function handleAddOutput(event, handle) {\n",
       "    const output_area = handle.output_area;\n",
       "    const output = handle.output;\n",
       "\n",
       "    // limit handleAddOutput to display_data with EXEC_MIME_TYPE content only\n",
       "    if ((output.output_type != \"display_data\") || (!Object.prototype.hasOwnProperty.call(output.data, EXEC_MIME_TYPE))) {\n",
       "      return\n",
       "    }\n",
       "\n",
       "    const toinsert = output_area.element.find(\".\" + CLASS_NAME.split(' ')[0]);\n",
       "\n",
       "    if (output.metadata[EXEC_MIME_TYPE][\"id\"] !== undefined) {\n",
       "      toinsert[toinsert.length - 1].firstChild.textContent = output.data[JS_MIME_TYPE];\n",
       "      // store reference to embed id on output_area\n",
       "      output_area._bokeh_element_id = output.metadata[EXEC_MIME_TYPE][\"id\"];\n",
       "    }\n",
       "    if (output.metadata[EXEC_MIME_TYPE][\"server_id\"] !== undefined) {\n",
       "      const bk_div = document.createElement(\"div\");\n",
       "      bk_div.innerHTML = output.data[HTML_MIME_TYPE];\n",
       "      const script_attrs = bk_div.children[0].attributes;\n",
       "      for (let i = 0; i < script_attrs.length; i++) {\n",
       "        toinsert[toinsert.length - 1].firstChild.setAttribute(script_attrs[i].name, script_attrs[i].value);\n",
       "        toinsert[toinsert.length - 1].firstChild.textContent = bk_div.children[0].textContent\n",
       "      }\n",
       "      // store reference to server id on output_area\n",
       "      output_area._bokeh_server_id = output.metadata[EXEC_MIME_TYPE][\"server_id\"];\n",
       "    }\n",
       "  }\n",
       "\n",
       "  function register_renderer(events, OutputArea) {\n",
       "\n",
       "    function append_mime(data, metadata, element) {\n",
       "      // create a DOM node to render to\n",
       "      const toinsert = this.create_output_subarea(\n",
       "        metadata,\n",
       "        CLASS_NAME,\n",
       "        EXEC_MIME_TYPE\n",
       "      );\n",
       "      this.keyboard_manager.register_events(toinsert);\n",
       "      // Render to node\n",
       "      const props = {data: data, metadata: metadata[EXEC_MIME_TYPE]};\n",
       "      render(props, toinsert[toinsert.length - 1]);\n",
       "      element.append(toinsert);\n",
       "      return toinsert\n",
       "    }\n",
       "\n",
       "    /* Handle when an output is cleared or removed */\n",
       "    events.on('clear_output.CodeCell', handleClearOutput);\n",
       "    events.on('delete.Cell', handleClearOutput);\n",
       "\n",
       "    /* Handle when a new output is added */\n",
       "    events.on('output_added.OutputArea', handleAddOutput);\n",
       "\n",
       "    /**\n",
       "     * Register the mime type and append_mime function with output_area\n",
       "     */\n",
       "    OutputArea.prototype.register_mime_type(EXEC_MIME_TYPE, append_mime, {\n",
       "      /* Is output safe? */\n",
       "      safe: true,\n",
       "      /* Index of renderer in `output_area.display_order` */\n",
       "      index: 0\n",
       "    });\n",
       "  }\n",
       "\n",
       "  // register the mime type if in Jupyter Notebook environment and previously unregistered\n",
       "  if (root.Jupyter !== undefined) {\n",
       "    const events = require('base/js/events');\n",
       "    const OutputArea = require('notebook/js/outputarea').OutputArea;\n",
       "\n",
       "    if (OutputArea.prototype.mime_types().indexOf(EXEC_MIME_TYPE) == -1) {\n",
       "      register_renderer(events, OutputArea);\n",
       "    }\n",
       "  }\n",
       "  if (typeof (root._bokeh_timeout) === \"undefined\" || force === true) {\n",
       "    root._bokeh_timeout = Date.now() + 5000;\n",
       "    root._bokeh_failed_load = false;\n",
       "  }\n",
       "\n",
       "  const NB_LOAD_WARNING = {'data': {'text/html':\n",
       "     \"<div style='background-color: #fdd'>\\n\"+\n",
       "     \"<p>\\n\"+\n",
       "     \"BokehJS does not appear to have successfully loaded. If loading BokehJS from CDN, this \\n\"+\n",
       "     \"may be due to a slow or bad network connection. Possible fixes:\\n\"+\n",
       "     \"</p>\\n\"+\n",
       "     \"<ul>\\n\"+\n",
       "     \"<li>re-rerun `output_notebook()` to attempt to load from CDN again, or</li>\\n\"+\n",
       "     \"<li>use INLINE resources instead, as so:</li>\\n\"+\n",
       "     \"</ul>\\n\"+\n",
       "     \"<code>\\n\"+\n",
       "     \"from bokeh.resources import INLINE\\n\"+\n",
       "     \"output_notebook(resources=INLINE)\\n\"+\n",
       "     \"</code>\\n\"+\n",
       "     \"</div>\"}};\n",
       "\n",
       "  function display_loaded() {\n",
       "    const el = document.getElementById(\"1002\");\n",
       "    if (el != null) {\n",
       "      el.textContent = \"BokehJS is loading...\";\n",
       "    }\n",
       "    if (root.Bokeh !== undefined) {\n",
       "      if (el != null) {\n",
       "        el.textContent = \"BokehJS \" + root.Bokeh.version + \" successfully loaded.\";\n",
       "      }\n",
       "    } else if (Date.now() < root._bokeh_timeout) {\n",
       "      setTimeout(display_loaded, 100)\n",
       "    }\n",
       "  }\n",
       "\n",
       "  function run_callbacks() {\n",
       "    try {\n",
       "      root._bokeh_onload_callbacks.forEach(function(callback) {\n",
       "        if (callback != null)\n",
       "          callback();\n",
       "      });\n",
       "    } finally {\n",
       "      delete root._bokeh_onload_callbacks\n",
       "    }\n",
       "    console.debug(\"Bokeh: all callbacks have finished\");\n",
       "  }\n",
       "\n",
       "  function load_libs(css_urls, js_urls, callback) {\n",
       "    if (css_urls == null) css_urls = [];\n",
       "    if (js_urls == null) js_urls = [];\n",
       "\n",
       "    root._bokeh_onload_callbacks.push(callback);\n",
       "    if (root._bokeh_is_loading > 0) {\n",
       "      console.debug(\"Bokeh: BokehJS is being loaded, scheduling callback at\", now());\n",
       "      return null;\n",
       "    }\n",
       "    if (js_urls == null || js_urls.length === 0) {\n",
       "      run_callbacks();\n",
       "      return null;\n",
       "    }\n",
       "    console.debug(\"Bokeh: BokehJS not loaded, scheduling load and callback at\", now());\n",
       "    root._bokeh_is_loading = css_urls.length + js_urls.length;\n",
       "\n",
       "    function on_load() {\n",
       "      root._bokeh_is_loading--;\n",
       "      if (root._bokeh_is_loading === 0) {\n",
       "        console.debug(\"Bokeh: all BokehJS libraries/stylesheets loaded\");\n",
       "        run_callbacks()\n",
       "      }\n",
       "    }\n",
       "\n",
       "    function on_error(url) {\n",
       "      console.error(\"failed to load \" + url);\n",
       "    }\n",
       "\n",
       "    for (let i = 0; i < css_urls.length; i++) {\n",
       "      const url = css_urls[i];\n",
       "      const element = document.createElement(\"link\");\n",
       "      element.onload = on_load;\n",
       "      element.onerror = on_error.bind(null, url);\n",
       "      element.rel = \"stylesheet\";\n",
       "      element.type = \"text/css\";\n",
       "      element.href = url;\n",
       "      console.debug(\"Bokeh: injecting link tag for BokehJS stylesheet: \", url);\n",
       "      document.body.appendChild(element);\n",
       "    }\n",
       "\n",
       "    for (let i = 0; i < js_urls.length; i++) {\n",
       "      const url = js_urls[i];\n",
       "      const element = document.createElement('script');\n",
       "      element.onload = on_load;\n",
       "      element.onerror = on_error.bind(null, url);\n",
       "      element.async = false;\n",
       "      element.src = url;\n",
       "      console.debug(\"Bokeh: injecting script tag for BokehJS library: \", url);\n",
       "      document.head.appendChild(element);\n",
       "    }\n",
       "  };\n",
       "\n",
       "  function inject_raw_css(css) {\n",
       "    const element = document.createElement(\"style\");\n",
       "    element.appendChild(document.createTextNode(css));\n",
       "    document.body.appendChild(element);\n",
       "  }\n",
       "\n",
       "  const js_urls = [\"https://cdn.bokeh.org/bokeh/release/bokeh-2.4.3.min.js\", \"https://cdn.bokeh.org/bokeh/release/bokeh-gl-2.4.3.min.js\", \"https://cdn.bokeh.org/bokeh/release/bokeh-widgets-2.4.3.min.js\", \"https://cdn.bokeh.org/bokeh/release/bokeh-tables-2.4.3.min.js\", \"https://cdn.bokeh.org/bokeh/release/bokeh-mathjax-2.4.3.min.js\"];\n",
       "  const css_urls = [];\n",
       "\n",
       "  const inline_js = [    function(Bokeh) {\n",
       "      Bokeh.set_log_level(\"info\");\n",
       "    },\n",
       "function(Bokeh) {\n",
       "    }\n",
       "  ];\n",
       "\n",
       "  function run_inline_js() {\n",
       "    if (root.Bokeh !== undefined || force === true) {\n",
       "          for (let i = 0; i < inline_js.length; i++) {\n",
       "      inline_js[i].call(root, root.Bokeh);\n",
       "    }\n",
       "if (force === true) {\n",
       "        display_loaded();\n",
       "      }} else if (Date.now() < root._bokeh_timeout) {\n",
       "      setTimeout(run_inline_js, 100);\n",
       "    } else if (!root._bokeh_failed_load) {\n",
       "      console.log(\"Bokeh: BokehJS failed to load within specified timeout.\");\n",
       "      root._bokeh_failed_load = true;\n",
       "    } else if (force !== true) {\n",
       "      const cell = $(document.getElementById(\"1002\")).parents('.cell').data().cell;\n",
       "      cell.output_area.append_execute_result(NB_LOAD_WARNING)\n",
       "    }\n",
       "  }\n",
       "\n",
       "  if (root._bokeh_is_loading === 0) {\n",
       "    console.debug(\"Bokeh: BokehJS loaded, going straight to plotting\");\n",
       "    run_inline_js();\n",
       "  } else {\n",
       "    load_libs(css_urls, js_urls, function() {\n",
       "      console.debug(\"Bokeh: BokehJS plotting callback run at\", now());\n",
       "      run_inline_js();\n",
       "    });\n",
       "  }\n",
       "}(window));"
      ],
      "application/vnd.bokehjs_load.v0+json": "(function(root) {\n  function now() {\n    return new Date();\n  }\n\n  const force = true;\n\n  if (typeof root._bokeh_onload_callbacks === \"undefined\" || force === true) {\n    root._bokeh_onload_callbacks = [];\n    root._bokeh_is_loading = undefined;\n  }\n\n\n  if (typeof (root._bokeh_timeout) === \"undefined\" || force === true) {\n    root._bokeh_timeout = Date.now() + 5000;\n    root._bokeh_failed_load = false;\n  }\n\n  const NB_LOAD_WARNING = {'data': {'text/html':\n     \"<div style='background-color: #fdd'>\\n\"+\n     \"<p>\\n\"+\n     \"BokehJS does not appear to have successfully loaded. If loading BokehJS from CDN, this \\n\"+\n     \"may be due to a slow or bad network connection. Possible fixes:\\n\"+\n     \"</p>\\n\"+\n     \"<ul>\\n\"+\n     \"<li>re-rerun `output_notebook()` to attempt to load from CDN again, or</li>\\n\"+\n     \"<li>use INLINE resources instead, as so:</li>\\n\"+\n     \"</ul>\\n\"+\n     \"<code>\\n\"+\n     \"from bokeh.resources import INLINE\\n\"+\n     \"output_notebook(resources=INLINE)\\n\"+\n     \"</code>\\n\"+\n     \"</div>\"}};\n\n  function display_loaded() {\n    const el = document.getElementById(\"1002\");\n    if (el != null) {\n      el.textContent = \"BokehJS is loading...\";\n    }\n    if (root.Bokeh !== undefined) {\n      if (el != null) {\n        el.textContent = \"BokehJS \" + root.Bokeh.version + \" successfully loaded.\";\n      }\n    } else if (Date.now() < root._bokeh_timeout) {\n      setTimeout(display_loaded, 100)\n    }\n  }\n\n  function run_callbacks() {\n    try {\n      root._bokeh_onload_callbacks.forEach(function(callback) {\n        if (callback != null)\n          callback();\n      });\n    } finally {\n      delete root._bokeh_onload_callbacks\n    }\n    console.debug(\"Bokeh: all callbacks have finished\");\n  }\n\n  function load_libs(css_urls, js_urls, callback) {\n    if (css_urls == null) css_urls = [];\n    if (js_urls == null) js_urls = [];\n\n    root._bokeh_onload_callbacks.push(callback);\n    if (root._bokeh_is_loading > 0) {\n      console.debug(\"Bokeh: BokehJS is being loaded, scheduling callback at\", now());\n      return null;\n    }\n    if (js_urls == null || js_urls.length === 0) {\n      run_callbacks();\n      return null;\n    }\n    console.debug(\"Bokeh: BokehJS not loaded, scheduling load and callback at\", now());\n    root._bokeh_is_loading = css_urls.length + js_urls.length;\n\n    function on_load() {\n      root._bokeh_is_loading--;\n      if (root._bokeh_is_loading === 0) {\n        console.debug(\"Bokeh: all BokehJS libraries/stylesheets loaded\");\n        run_callbacks()\n      }\n    }\n\n    function on_error(url) {\n      console.error(\"failed to load \" + url);\n    }\n\n    for (let i = 0; i < css_urls.length; i++) {\n      const url = css_urls[i];\n      const element = document.createElement(\"link\");\n      element.onload = on_load;\n      element.onerror = on_error.bind(null, url);\n      element.rel = \"stylesheet\";\n      element.type = \"text/css\";\n      element.href = url;\n      console.debug(\"Bokeh: injecting link tag for BokehJS stylesheet: \", url);\n      document.body.appendChild(element);\n    }\n\n    for (let i = 0; i < js_urls.length; i++) {\n      const url = js_urls[i];\n      const element = document.createElement('script');\n      element.onload = on_load;\n      element.onerror = on_error.bind(null, url);\n      element.async = false;\n      element.src = url;\n      console.debug(\"Bokeh: injecting script tag for BokehJS library: \", url);\n      document.head.appendChild(element);\n    }\n  };\n\n  function inject_raw_css(css) {\n    const element = document.createElement(\"style\");\n    element.appendChild(document.createTextNode(css));\n    document.body.appendChild(element);\n  }\n\n  const js_urls = [\"https://cdn.bokeh.org/bokeh/release/bokeh-2.4.3.min.js\", \"https://cdn.bokeh.org/bokeh/release/bokeh-gl-2.4.3.min.js\", \"https://cdn.bokeh.org/bokeh/release/bokeh-widgets-2.4.3.min.js\", \"https://cdn.bokeh.org/bokeh/release/bokeh-tables-2.4.3.min.js\", \"https://cdn.bokeh.org/bokeh/release/bokeh-mathjax-2.4.3.min.js\"];\n  const css_urls = [];\n\n  const inline_js = [    function(Bokeh) {\n      Bokeh.set_log_level(\"info\");\n    },\nfunction(Bokeh) {\n    }\n  ];\n\n  function run_inline_js() {\n    if (root.Bokeh !== undefined || force === true) {\n          for (let i = 0; i < inline_js.length; i++) {\n      inline_js[i].call(root, root.Bokeh);\n    }\nif (force === true) {\n        display_loaded();\n      }} else if (Date.now() < root._bokeh_timeout) {\n      setTimeout(run_inline_js, 100);\n    } else if (!root._bokeh_failed_load) {\n      console.log(\"Bokeh: BokehJS failed to load within specified timeout.\");\n      root._bokeh_failed_load = true;\n    } else if (force !== true) {\n      const cell = $(document.getElementById(\"1002\")).parents('.cell').data().cell;\n      cell.output_area.append_execute_result(NB_LOAD_WARNING)\n    }\n  }\n\n  if (root._bokeh_is_loading === 0) {\n    console.debug(\"Bokeh: BokehJS loaded, going straight to plotting\");\n    run_inline_js();\n  } else {\n    load_libs(css_urls, js_urls, function() {\n      console.debug(\"Bokeh: BokehJS plotting callback run at\", now());\n      run_inline_js();\n    });\n  }\n}(window));"
     },
     "metadata": {},
     "output_type": "display_data"
    }
   ],
   "source": [
    "#Importing the relevant python libraries and the ols_pwp program\n",
    "\n",
    "import numpy as np\n",
    "import pandas as pd\n",
    "import matplotlib.pyplot as plt\n",
    "import ols_pwp\n",
    "from bokeh.io import output_notebook, show\n",
    "from bokeh.models import ColumnDataSource, Whisker\n",
    "from bokeh.plotting import figure\n",
    "import seaborn as sns\n",
    "output_notebook()"
   ]
  },
  {
   "cell_type": "markdown",
   "id": "06c01067",
   "metadata": {},
   "source": [
    "### Importing the datasets: train, ideal and test.\n",
    "\n",
    "The next cell shows how the datasets (train, ideal and test) are imported into this notebook to begin the regression analysis using the ordinary least squares method."
   ]
  },
  {
   "cell_type": "code",
   "execution_count": 2,
   "id": "09d02931",
   "metadata": {},
   "outputs": [],
   "source": [
    "df_load = ols_pwp.pwpTasks()\n",
    "\n",
    "filepath_train = r\"C:\\Users\\tosin\\GIT_clones\\tosinaa_dlmdspwp01\\implement\\train.csv\"\n",
    "filepath_ideal = r\"C:\\Users\\tosin\\GIT_clones\\tosinaa_dlmdspwp01\\implement\\ideal.csv\"\n",
    "filepath_test = r\"C:\\Users\\tosin\\GIT_clones\\tosinaa_dlmdspwp01\\implement\\test.csv\"\n",
    "\n",
    "train = df_load.df_loader(filepath_train)\n",
    "ideal = df_load.df_loader(filepath_ideal)\n",
    "test = df_load.df_loader(filepath_test)"
   ]
  },
  {
   "cell_type": "code",
   "execution_count": 3,
   "id": "53dca78e",
   "metadata": {},
   "outputs": [
    {
     "name": "stdout",
     "output_type": "stream",
     "text": [
      "      x         y1         y2        y3         y4\n",
      "0 -20.0 -8000.4050  10648.215 -0.074365 -16000.222\n",
      "1 -19.9 -7880.5566  10503.581  0.047023 -15761.586\n",
      "2 -19.8 -7762.5130  10360.039  0.156072 -15524.712\n",
      "3 -19.7 -7645.6567  10217.856  0.590901 -15290.346\n",
      "4 -19.6 -7529.4863  10077.480  0.525232 -15058.604\n"
     ]
    }
   ],
   "source": [
    "#Printing the top 5 rows of the train dataset\n",
    "\n",
    "print(train.head())"
   ]
  },
  {
   "cell_type": "code",
   "execution_count": 4,
   "id": "701bc0c3",
   "metadata": {},
   "outputs": [
    {
     "name": "stdout",
     "output_type": "stream",
     "text": [
      "      x        y1        y2        y3        y4        y5        y6        y7  \\\n",
      "0 -20.0 -0.912945  0.408082  9.087055  5.408082 -9.087055  0.912945 -0.839071   \n",
      "1 -19.9 -0.867644  0.497186  9.132356  5.497186 -9.132356  0.867644 -0.865213   \n",
      "2 -19.8 -0.813674  0.581322  9.186326  5.581322 -9.186326  0.813674 -0.889191   \n",
      "3 -19.7 -0.751573  0.659649  9.248426  5.659649 -9.248426  0.751573 -0.910947   \n",
      "4 -19.6 -0.681964  0.731386  9.318036  5.731386 -9.318036  0.681964 -0.930426   \n",
      "\n",
      "         y8        y9  ...        y41        y42       y43       y44  \\\n",
      "0 -0.850919  0.816164  ... -40.456474  40.204040  2.995732 -0.008333   \n",
      "1  0.168518  0.994372  ... -40.233820  40.048590  2.990720 -0.008340   \n",
      "2  0.612391  1.162644  ... -40.006836  39.890660  2.985682 -0.008347   \n",
      "3 -0.994669  1.319299  ... -39.775787  39.729824  2.980619 -0.008354   \n",
      "4  0.774356  1.462772  ... -39.540980  39.565693  2.975530 -0.008361   \n",
      "\n",
      "         y45       y46       y47       y48       y49       y50  \n",
      "0  12.995732  5.298317 -5.298317 -0.186278  0.912945  0.396850  \n",
      "1  12.990720  5.293305 -5.293305 -0.215690  0.867644  0.476954  \n",
      "2  12.985682  5.288267 -5.288267 -0.236503  0.813674  0.549129  \n",
      "3  12.980619  5.283204 -5.283204 -0.247887  0.751573  0.612840  \n",
      "4  12.975530  5.278115 -5.278115 -0.249389  0.681964  0.667902  \n",
      "\n",
      "[5 rows x 51 columns]\n"
     ]
    }
   ],
   "source": [
    "#Printing the top 5 rows of the ideal dataset\n",
    "\n",
    "print(ideal.head())"
   ]
  },
  {
   "cell_type": "code",
   "execution_count": 5,
   "id": "37dcb24b",
   "metadata": {},
   "outputs": [
    {
     "name": "stdout",
     "output_type": "stream",
     "text": [
      "      x             y\n",
      "0 -17.5  14492.095000\n",
      "1  19.0      0.480704\n",
      "2   6.5    274.085500\n",
      "3  15.9   8039.792500\n",
      "4 -14.3  -5848.080000\n"
     ]
    }
   ],
   "source": [
    "#Printing the top 5 rows of the test dataset\n",
    "\n",
    "print(test.head())"
   ]
  },
  {
   "cell_type": "markdown",
   "id": "35cc54b7",
   "metadata": {},
   "source": [
    "### Computing the four best ideal functions using the train - ideal datasets pair\n",
    "\n",
    "In doing this, we shall create an instance of the ols_pwp.pwpOLS() object from the ols_pwp program module.\n",
    "This will grant us access to the following methods:\n",
    "\n",
    "1.     squared_dev(): This method is used for computing the four best functions and returns the output as a list of dictionaries containing the (y-train : y-ideal, min_ssd).\n",
    "2.     idealfour_builder(): This method is used for building the dataset of the four best ideal functions."
   ]
  },
  {
   "cell_type": "code",
   "execution_count": 6,
   "id": "683e9789",
   "metadata": {},
   "outputs": [
    {
     "name": "stdout",
     "output_type": "stream",
     "text": [
      "Below are the yi-train and the corresponding yi-ideal functions columns (four best) and their minimum SSD values...:\n",
      "{'y1': ['y21', 34.565889914719286]}\n",
      "{'y2': ['y27', 32.360254907816085]}\n",
      "{'y3': ['y2', 35.14535429428959]}\n",
      "{'y4': ['y24', 32.54067830439015]}\n"
     ]
    }
   ],
   "source": [
    "# Computing the ideal functions\n",
    "\n",
    "# Creating the instance of the ols_pwp.pwpOLS object below\n",
    "SSD = ols_pwp.pwpOLS(train, ideal)\n",
    "\n",
    "# Computing the ideal4_lst of four functions\n",
    "ideal4_lst = SSD.squared_dev()\n",
    "print(\"Below are the yi-train and the corresponding yi-ideal functions columns (four best) and their minimum SSD values...:\")\n",
    "for idf in ideal4_lst:\n",
    "    print(idf)"
   ]
  },
  {
   "cell_type": "markdown",
   "id": "2208e735",
   "metadata": {},
   "source": [
    "### Validating The Results\n",
    "\n",
    "To validate the results of the four best ideal functions, other model evaluation metrics shall be used.\n",
    "The metrics are listed below:\n",
    "1.     Mean square error (MSE)\n",
    "2.     Root mean square error (RMSE)\n",
    "3.     Mean absolute error (MAD)\n",
    "4.     LogCosh Loss\n"
   ]
  },
  {
   "cell_type": "code",
   "execution_count": 7,
   "id": "b100c776",
   "metadata": {},
   "outputs": [
    {
     "name": "stdout",
     "output_type": "stream",
     "text": [
      "['y21', 0.29]\n",
      "['y27', 0.28]\n",
      "['y2', 0.3]\n",
      "['y24', 0.29]\n"
     ]
    }
   ],
   "source": [
    "# Building a function to compute the root mean square error\n",
    "\n",
    "def build_rmse(df1, df2):\n",
    "    pe = ols_pwp.pwpEvaluate()\n",
    "    mse_train = list()\n",
    "    for col in df2.columns[1:]:\n",
    "        mse_train.append(pe.rmse(df1, df2[col]))\n",
    "    result = (['y' + str(mse_train.index(np.min(mse_train))+1), np.min(mse_train)])\n",
    "    return result\n",
    "\n",
    "# Implementing the rmse calculations\n",
    "\n",
    "print(build_rmse(train.y1, ideal))\n",
    "print(build_rmse(train.y2, ideal))\n",
    "print(build_rmse(train.y3, ideal))\n",
    "print(build_rmse(train.y4, ideal))"
   ]
  },
  {
   "cell_type": "code",
   "execution_count": 8,
   "id": "a341c20d",
   "metadata": {},
   "outputs": [
    {
     "name": "stdout",
     "output_type": "stream",
     "text": [
      "['y21', 0.09]\n",
      "['y27', 0.08]\n",
      "['y2', 0.09]\n",
      "['y24', 0.08]\n"
     ]
    }
   ],
   "source": [
    "# Building a function to compute the mean square error\n",
    "\n",
    "def build_mse(df1, df2):\n",
    "    pe = ols_pwp.pwpEvaluate()\n",
    "    mse_train = list()\n",
    "    for col in df2.columns[1:]:\n",
    "        mse_train.append(pe.mse(df1, df2[col]))\n",
    "    result = (['y' + str(mse_train.index(np.min(mse_train))+1), np.min(mse_train)])\n",
    "    return result\n",
    "\n",
    "# Implementing the mse calculations\n",
    "\n",
    "print(build_mse(train.y1, ideal))\n",
    "print(build_mse(train.y2, ideal))\n",
    "print(build_mse(train.y3, ideal))\n",
    "print(build_mse(train.y4, ideal))"
   ]
  },
  {
   "cell_type": "code",
   "execution_count": 9,
   "id": "d2a7b43c",
   "metadata": {},
   "outputs": [
    {
     "name": "stdout",
     "output_type": "stream",
     "text": [
      "['y21', 0.26]\n",
      "['y27', 0.24]\n",
      "['y2', 0.26]\n",
      "['y24', 0.25]\n"
     ]
    }
   ],
   "source": [
    "# Building a function to compute the mean absolute error\n",
    "\n",
    "def build_mae(df1, df2):\n",
    "    pe = ols_pwp.pwpEvaluate()\n",
    "    mse_train = list()\n",
    "    for col in df2.columns[1:]:\n",
    "        mse_train.append(pe.mae(df1, df2[col]))\n",
    "    result = (['y' + str(mse_train.index(np.min(mse_train))+1), np.min(mse_train)])\n",
    "    return result\n",
    "\n",
    "# Implementing the mae calculations\n",
    "\n",
    "print(build_mae(train.y1, ideal))\n",
    "print(build_mae(train.y2, ideal))\n",
    "print(build_mae(train.y3, ideal))\n",
    "print(build_mae(train.y4, ideal))"
   ]
  },
  {
   "cell_type": "code",
   "execution_count": 10,
   "id": "203bc9eb",
   "metadata": {},
   "outputs": [
    {
     "name": "stdout",
     "output_type": "stream",
     "text": [
      "['y21', 16.859829934852186]\n",
      "['y27', 15.788740848849287]\n",
      "['y2', 17.154052011870483]\n",
      "['y24', 15.885944561044262]\n"
     ]
    },
    {
     "name": "stderr",
     "output_type": "stream",
     "text": [
      "C:\\Users\\tosin\\anaconda3\\lib\\site-packages\\pandas\\core\\arraylike.py:397: RuntimeWarning: overflow encountered in cosh\n",
      "  result = getattr(ufunc, method)(*inputs, **kwargs)\n"
     ]
    }
   ],
   "source": [
    "# Building a function to compute the logcosh loss\n",
    "\n",
    "def build_lgcosh(df1, df2):\n",
    "    pe = ols_pwp.pwpEvaluate()\n",
    "    mse_train = list()\n",
    "    for col in df2.columns[1:]:\n",
    "        mse_train.append(pe.logcosh(df1, df2[col]))\n",
    "    result = (['y' + str(mse_train.index(np.min(mse_train))+1), np.min(mse_train)])\n",
    "    return result\n",
    "\n",
    "# Implementing the logcosh calculations\n",
    "\n",
    "print(build_lgcosh(train.y1, ideal))\n",
    "print(build_lgcosh(train.y2, ideal))\n",
    "print(build_lgcosh(train.y3, ideal))\n",
    "print(build_lgcosh(train.y4, ideal))"
   ]
  },
  {
   "cell_type": "markdown",
   "id": "23cffbd6",
   "metadata": {},
   "source": [
    "### Interpreting the Result\n",
    "\n",
    "The results from the other model evaluation metrics show that the four ideal functions\n",
    "obtained from the sum of square errors is proven to be correct.\n",
    "\n",
    "In summary, the ideal function pairs are provided below.\n",
    "\n",
    "1.     y1-train, y21-idealfour\n",
    "2.     y2-train, y27-idealfour\n",
    "3.     y3-train, y2-idealfour\n",
    "4.     y4-train, y24-idealfour"
   ]
  },
  {
   "cell_type": "code",
   "execution_count": 11,
   "id": "d14308d0",
   "metadata": {},
   "outputs": [
    {
     "name": "stdout",
     "output_type": "stream",
     "text": [
      "      x       y21        y27        y2        y24\n",
      "0 -20.0 -8000.000  10648.000  0.408082 -16000.000\n",
      "1 -19.9 -7880.599  10503.459  0.497186 -15761.198\n",
      "2 -19.8 -7762.392  10360.232  0.581322 -15524.784\n",
      "3 -19.7 -7645.373  10218.313  0.659649 -15290.746\n",
      "4 -19.6 -7529.536  10077.696  0.731386 -15059.072\n"
     ]
    }
   ],
   "source": [
    "### Building the idealfour dataset\n",
    "\n",
    "idealfour = SSD.idealfour_builder()\n",
    "print(idealfour.head())"
   ]
  },
  {
   "cell_type": "markdown",
   "id": "9084f01c",
   "metadata": {},
   "source": [
    "### Visualizing The Results\n",
    "\n",
    "Visualizing the results involves plotting the scatter plots of the dataset pairs to analyze and making inferences based on the findings.\n",
    "\n",
    "The matches or pairs are summerized below:\n",
    "    \n",
    "1.     y1-train, y21-idealfour\n",
    "2.     y2-train, y27-idealfour\n",
    "3.     y3-train, y2-idealfour\n",
    "4.     y4-train, y24-idealfour\n",
    "\n",
    "The Bokeh visualization library will be used to make the plots to understand the curve fitting patterns of the paired datasets."
   ]
  },
  {
   "cell_type": "code",
   "execution_count": 12,
   "id": "1d86f34b",
   "metadata": {},
   "outputs": [
    {
     "data": {
      "text/html": [
       "\n",
       "  <div class=\"bk-root\" id=\"417d88dc-2319-4c8f-bfa5-d876e8b1ff3f\" data-root-id=\"1003\"></div>\n"
      ]
     },
     "metadata": {},
     "output_type": "display_data"
    },
    {
     "data": {
      "application/javascript": [
       "(function(root) {\n",
       "  function embed_document(root) {\n",
       "  const docs_json = {\"382e3faf-1bc9-4166-9571-60d3f4abfe3d\":{\"defs\":[],\"roots\":{\"references\":[{\"attributes\":{\"below\":[{\"id\":\"1014\"}],\"center\":[{\"id\":\"1017\"},{\"id\":\"1021\"},{\"id\":\"1052\"}],\"height\":300,\"left\":[{\"id\":\"1018\"}],\"renderers\":[{\"id\":\"1040\"},{\"id\":\"1058\"}],\"title\":{\"id\":\"1004\"},\"toolbar\":{\"id\":\"1029\"},\"width\":650,\"x_range\":{\"id\":\"1006\"},\"x_scale\":{\"id\":\"1010\"},\"y_range\":{\"id\":\"1008\"},\"y_scale\":{\"id\":\"1012\"}},\"id\":\"1003\",\"subtype\":\"Figure\",\"type\":\"Plot\"},{\"attributes\":{\"axis\":{\"id\":\"1014\"},\"coordinates\":null,\"group\":null,\"ticker\":null},\"id\":\"1017\",\"type\":\"Grid\"},{\"attributes\":{},\"id\":\"1049\",\"type\":\"UnionRenderers\"},{\"attributes\":{\"fill_color\":{\"value\":\"black\"},\"size\":{\"value\":12},\"x\":{\"field\":\"x\"},\"y\":{\"field\":\"y\"}},\"id\":\"1037\",\"type\":\"Circle\"},{\"attributes\":{\"source\":{\"id\":\"1036\"}},\"id\":\"1041\",\"type\":\"CDSView\"},{\"attributes\":{},\"id\":\"1050\",\"type\":\"Selection\"},{\"attributes\":{\"axis\":{\"id\":\"1018\"},\"coordinates\":null,\"dimension\":1,\"group\":null,\"ticker\":null},\"id\":\"1021\",\"type\":\"Grid\"},{\"attributes\":{},\"id\":\"1025\",\"type\":\"SaveTool\"},{\"attributes\":{\"fill_alpha\":{\"value\":0.1},\"fill_color\":{\"value\":\"black\"},\"hatch_alpha\":{\"value\":0.1},\"line_alpha\":{\"value\":0.1},\"size\":{\"value\":12},\"x\":{\"field\":\"x\"},\"y\":{\"field\":\"y\"}},\"id\":\"1038\",\"type\":\"Circle\"},{\"attributes\":{\"label\":{\"value\":\"y1 - train\"},\"renderers\":[{\"id\":\"1040\"}]},\"id\":\"1053\",\"type\":\"LegendItem\"},{\"attributes\":{},\"id\":\"1026\",\"type\":\"ResetTool\"},{\"attributes\":{},\"id\":\"1010\",\"type\":\"LinearScale\"},{\"attributes\":{},\"id\":\"1027\",\"type\":\"HelpTool\"},{\"attributes\":{\"coordinates\":null,\"group\":null,\"text\":\"Fitting y21-idealfour on y1-train\"},\"id\":\"1004\",\"type\":\"Title\"},{\"attributes\":{\"coordinates\":null,\"formatter\":{\"id\":\"1047\"},\"group\":null,\"major_label_policy\":{\"id\":\"1048\"},\"ticker\":{\"id\":\"1015\"}},\"id\":\"1014\",\"type\":\"LinearAxis\"},{\"attributes\":{\"coordinates\":null,\"group\":null,\"items\":[{\"id\":\"1053\"},{\"id\":\"1072\"}],\"location\":\"bottom_right\",\"title\":\"Legend.\"},\"id\":\"1052\",\"type\":\"Legend\"},{\"attributes\":{\"fill_alpha\":{\"value\":0.2},\"fill_color\":{\"value\":\"black\"},\"hatch_alpha\":{\"value\":0.2},\"line_alpha\":{\"value\":0.2},\"size\":{\"value\":12},\"x\":{\"field\":\"x\"},\"y\":{\"field\":\"y\"}},\"id\":\"1039\",\"type\":\"Circle\"},{\"attributes\":{\"bottom_units\":\"screen\",\"coordinates\":null,\"fill_alpha\":0.5,\"fill_color\":\"lightgrey\",\"group\":null,\"left_units\":\"screen\",\"level\":\"overlay\",\"line_alpha\":1.0,\"line_color\":\"black\",\"line_dash\":[4,4],\"line_width\":2,\"right_units\":\"screen\",\"syncable\":false,\"top_units\":\"screen\"},\"id\":\"1028\",\"type\":\"BoxAnnotation\"},{\"attributes\":{\"fill_color\":{\"value\":\"red\"},\"hatch_color\":{\"value\":\"red\"},\"line_color\":{\"value\":\"red\"},\"marker\":{\"value\":\"square\"},\"size\":{\"value\":5},\"x\":{\"field\":\"x\"},\"y\":{\"field\":\"y\"}},\"id\":\"1055\",\"type\":\"Scatter\"},{\"attributes\":{\"coordinates\":null,\"formatter\":{\"id\":\"1044\"},\"group\":null,\"major_label_policy\":{\"id\":\"1045\"},\"ticker\":{\"id\":\"1019\"}},\"id\":\"1018\",\"type\":\"LinearAxis\"},{\"attributes\":{\"tools\":[{\"id\":\"1022\"},{\"id\":\"1023\"},{\"id\":\"1024\"},{\"id\":\"1025\"},{\"id\":\"1026\"},{\"id\":\"1027\"}]},\"id\":\"1029\",\"type\":\"Toolbar\"},{\"attributes\":{\"data\":{\"x\":{\"__ndarray__\":\"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\",\"dtype\":\"float64\",\"order\":\"little\",\"shape\":[400]},\"y\":{\"__ndarray__\":\"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\",\"dtype\":\"float64\",\"order\":\"little\",\"shape\":[400]}},\"selected\":{\"id\":\"1070\"},\"selection_policy\":{\"id\":\"1069\"}},\"id\":\"1054\",\"type\":\"ColumnDataSource\"},{\"attributes\":{},\"id\":\"1044\",\"type\":\"BasicTickFormatter\"},{\"attributes\":{},\"id\":\"1015\",\"type\":\"BasicTicker\"},{\"attributes\":{\"label\":{\"value\":\"y21 - idealfour\"},\"renderers\":[{\"id\":\"1058\"}]},\"id\":\"1072\",\"type\":\"LegendItem\"},{\"attributes\":{},\"id\":\"1012\",\"type\":\"LinearScale\"},{\"attributes\":{},\"id\":\"1023\",\"type\":\"WheelZoomTool\"},{\"attributes\":{\"overlay\":{\"id\":\"1028\"}},\"id\":\"1024\",\"type\":\"BoxZoomTool\"},{\"attributes\":{\"coordinates\":null,\"data_source\":{\"id\":\"1036\"},\"glyph\":{\"id\":\"1037\"},\"group\":null,\"hover_glyph\":null,\"muted_glyph\":{\"id\":\"1039\"},\"nonselection_glyph\":{\"id\":\"1038\"},\"view\":{\"id\":\"1041\"}},\"id\":\"1040\",\"type\":\"GlyphRenderer\"},{\"attributes\":{\"data\":{\"x\":{\"__ndarray__\":\"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\",\"dtype\":\"float64\",\"order\":\"little\",\"shape\":[400]},\"y\":{\"__ndarray__\":\"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\",\"dtype\":\"float64\",\"order\":\"little\",\"shape\":[400]}},\"selected\":{\"id\":\"1050\"},\"selection_policy\":{\"id\":\"1049\"}},\"id\":\"1036\",\"type\":\"ColumnDataSource\"},{\"attributes\":{},\"id\":\"1045\",\"type\":\"AllLabels\"},{\"attributes\":{},\"id\":\"1006\",\"type\":\"DataRange1d\"},{\"attributes\":{\"fill_alpha\":{\"value\":0.2},\"fill_color\":{\"value\":\"red\"},\"hatch_alpha\":{\"value\":0.2},\"hatch_color\":{\"value\":\"red\"},\"line_alpha\":{\"value\":0.2},\"line_color\":{\"value\":\"red\"},\"marker\":{\"value\":\"square\"},\"size\":{\"value\":5},\"x\":{\"field\":\"x\"},\"y\":{\"field\":\"y\"}},\"id\":\"1057\",\"type\":\"Scatter\"},{\"attributes\":{},\"id\":\"1008\",\"type\":\"DataRange1d\"},{\"attributes\":{\"coordinates\":null,\"data_source\":{\"id\":\"1054\"},\"glyph\":{\"id\":\"1055\"},\"group\":null,\"hover_glyph\":null,\"muted_glyph\":{\"id\":\"1057\"},\"nonselection_glyph\":{\"id\":\"1056\"},\"view\":{\"id\":\"1059\"}},\"id\":\"1058\",\"type\":\"GlyphRenderer\"},{\"attributes\":{},\"id\":\"1047\",\"type\":\"BasicTickFormatter\"},{\"attributes\":{\"fill_alpha\":{\"value\":0.1},\"fill_color\":{\"value\":\"red\"},\"hatch_alpha\":{\"value\":0.1},\"hatch_color\":{\"value\":\"red\"},\"line_alpha\":{\"value\":0.1},\"line_color\":{\"value\":\"red\"},\"marker\":{\"value\":\"square\"},\"size\":{\"value\":5},\"x\":{\"field\":\"x\"},\"y\":{\"field\":\"y\"}},\"id\":\"1056\",\"type\":\"Scatter\"},{\"attributes\":{},\"id\":\"1019\",\"type\":\"BasicTicker\"},{\"attributes\":{\"source\":{\"id\":\"1054\"}},\"id\":\"1059\",\"type\":\"CDSView\"},{\"attributes\":{},\"id\":\"1048\",\"type\":\"AllLabels\"},{\"attributes\":{},\"id\":\"1022\",\"type\":\"PanTool\"},{\"attributes\":{},\"id\":\"1070\",\"type\":\"Selection\"},{\"attributes\":{},\"id\":\"1069\",\"type\":\"UnionRenderers\"}],\"root_ids\":[\"1003\"]},\"title\":\"Bokeh Application\",\"version\":\"2.4.3\"}};\n",
       "  const render_items = [{\"docid\":\"382e3faf-1bc9-4166-9571-60d3f4abfe3d\",\"root_ids\":[\"1003\"],\"roots\":{\"1003\":\"417d88dc-2319-4c8f-bfa5-d876e8b1ff3f\"}}];\n",
       "  root.Bokeh.embed.embed_items_notebook(docs_json, render_items);\n",
       "  }\n",
       "  if (root.Bokeh !== undefined) {\n",
       "    embed_document(root);\n",
       "  } else {\n",
       "    let attempts = 0;\n",
       "    const timer = setInterval(function(root) {\n",
       "      if (root.Bokeh !== undefined) {\n",
       "        clearInterval(timer);\n",
       "        embed_document(root);\n",
       "      } else {\n",
       "        attempts++;\n",
       "        if (attempts > 100) {\n",
       "          clearInterval(timer);\n",
       "          console.log(\"Bokeh: ERROR: Unable to run BokehJS code because BokehJS library is missing\");\n",
       "        }\n",
       "      }\n",
       "    }, 10, root)\n",
       "  }\n",
       "})(window);"
      ],
      "application/vnd.bokehjs_exec.v0+json": ""
     },
     "metadata": {
      "application/vnd.bokehjs_exec.v0+json": {
       "id": "1003"
      }
     },
     "output_type": "display_data"
    }
   ],
   "source": [
    "# Plot of y1-train, y21-idealfour\n",
    "\n",
    "a = figure(plot_width=650, plot_height=300, title= \"Fitting y21-idealfour on y1-train\")\n",
    "\n",
    "a.circle(train.x, train.y1, size=12, color='black', legend_label=\"y1 - train\")\n",
    "a.square(idealfour.x, idealfour.y21, size=5,color='red', legend_label=\"y21 - idealfour\")\n",
    "\n",
    "a.legend.title = \"Legend.\"\n",
    "a.legend.location = \"bottom_right\"\n",
    "\n",
    "show(a)"
   ]
  },
  {
   "cell_type": "code",
   "execution_count": 13,
   "id": "d269bd73",
   "metadata": {},
   "outputs": [
    {
     "name": "stdout",
     "output_type": "stream",
     "text": [
      "1.0\n"
     ]
    }
   ],
   "source": [
    "### Computing the r-squared for this result\n",
    "\n",
    "pe = ols_pwp.pwpEvaluate()\n",
    "rs_1 = pe.r_sqr(train['y1'], idealfour['y21'])\n",
    "\n",
    "print(rs_1)"
   ]
  },
  {
   "cell_type": "code",
   "execution_count": 14,
   "id": "4fd8f443",
   "metadata": {},
   "outputs": [
    {
     "data": {
      "text/html": [
       "\n",
       "  <div class=\"bk-root\" id=\"733966fc-fbe5-438b-989e-39b5d49474eb\" data-root-id=\"1145\"></div>\n"
      ]
     },
     "metadata": {},
     "output_type": "display_data"
    },
    {
     "data": {
      "application/javascript": [
       "(function(root) {\n",
       "  function embed_document(root) {\n",
       "  const docs_json = {\"94f62d4f-f530-4156-bc6c-e24329aefe2f\":{\"defs\":[],\"roots\":{\"references\":[{\"attributes\":{\"below\":[{\"id\":\"1156\"}],\"center\":[{\"id\":\"1159\"},{\"id\":\"1163\"},{\"id\":\"1194\"}],\"height\":350,\"left\":[{\"id\":\"1160\"}],\"renderers\":[{\"id\":\"1182\"},{\"id\":\"1200\"}],\"title\":{\"id\":\"1146\"},\"toolbar\":{\"id\":\"1171\"},\"width\":650,\"x_range\":{\"id\":\"1148\"},\"x_scale\":{\"id\":\"1152\"},\"y_range\":{\"id\":\"1150\"},\"y_scale\":{\"id\":\"1154\"}},\"id\":\"1145\",\"subtype\":\"Figure\",\"type\":\"Plot\"},{\"attributes\":{\"axis\":{\"id\":\"1160\"},\"coordinates\":null,\"dimension\":1,\"group\":null,\"ticker\":null},\"id\":\"1163\",\"type\":\"Grid\"},{\"attributes\":{},\"id\":\"1211\",\"type\":\"UnionRenderers\"},{\"attributes\":{},\"id\":\"1192\",\"type\":\"Selection\"},{\"attributes\":{},\"id\":\"1167\",\"type\":\"SaveTool\"},{\"attributes\":{\"coordinates\":null,\"data_source\":{\"id\":\"1178\"},\"glyph\":{\"id\":\"1179\"},\"group\":null,\"hover_glyph\":null,\"muted_glyph\":{\"id\":\"1181\"},\"nonselection_glyph\":{\"id\":\"1180\"},\"view\":{\"id\":\"1183\"}},\"id\":\"1182\",\"type\":\"GlyphRenderer\"},{\"attributes\":{\"label\":{\"value\":\"y2 - train\"},\"renderers\":[{\"id\":\"1182\"}]},\"id\":\"1195\",\"type\":\"LegendItem\"},{\"attributes\":{\"coordinates\":null,\"formatter\":{\"id\":\"1189\"},\"group\":null,\"major_label_policy\":{\"id\":\"1190\"},\"ticker\":{\"id\":\"1157\"}},\"id\":\"1156\",\"type\":\"LinearAxis\"},{\"attributes\":{},\"id\":\"1152\",\"type\":\"LinearScale\"},{\"attributes\":{},\"id\":\"1164\",\"type\":\"PanTool\"},{\"attributes\":{},\"id\":\"1161\",\"type\":\"BasicTicker\"},{\"attributes\":{\"axis\":{\"id\":\"1156\"},\"coordinates\":null,\"group\":null,\"ticker\":null},\"id\":\"1159\",\"type\":\"Grid\"},{\"attributes\":{},\"id\":\"1150\",\"type\":\"DataRange1d\"},{\"attributes\":{\"tools\":[{\"id\":\"1164\"},{\"id\":\"1165\"},{\"id\":\"1166\"},{\"id\":\"1167\"},{\"id\":\"1168\"},{\"id\":\"1169\"}]},\"id\":\"1171\",\"type\":\"Toolbar\"},{\"attributes\":{\"fill_alpha\":{\"value\":0.1},\"fill_color\":{\"value\":\"black\"},\"hatch_alpha\":{\"value\":0.1},\"line_alpha\":{\"value\":0.1},\"size\":{\"value\":12},\"x\":{\"field\":\"x\"},\"y\":{\"field\":\"y\"}},\"id\":\"1180\",\"type\":\"Circle\"},{\"attributes\":{},\"id\":\"1148\",\"type\":\"DataRange1d\"},{\"attributes\":{\"bottom_units\":\"screen\",\"coordinates\":null,\"fill_alpha\":0.5,\"fill_color\":\"lightgrey\",\"group\":null,\"left_units\":\"screen\",\"level\":\"overlay\",\"line_alpha\":1.0,\"line_color\":\"black\",\"line_dash\":[4,4],\"line_width\":2,\"right_units\":\"screen\",\"syncable\":false,\"top_units\":\"screen\"},\"id\":\"1170\",\"type\":\"BoxAnnotation\"},{\"attributes\":{},\"id\":\"1168\",\"type\":\"ResetTool\"},{\"attributes\":{\"data\":{\"x\":{\"__ndarray__\":\"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\",\"dtype\":\"float64\",\"order\":\"little\",\"shape\":[400]},\"y\":{\"__ndarray__\":\"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\",\"dtype\":\"float64\",\"order\":\"little\",\"shape\":[400]}},\"selected\":{\"id\":\"1192\"},\"selection_policy\":{\"id\":\"1191\"}},\"id\":\"1178\",\"type\":\"ColumnDataSource\"},{\"attributes\":{\"overlay\":{\"id\":\"1170\"}},\"id\":\"1166\",\"type\":\"BoxZoomTool\"},{\"attributes\":{\"fill_color\":{\"value\":\"black\"},\"size\":{\"value\":12},\"x\":{\"field\":\"x\"},\"y\":{\"field\":\"y\"}},\"id\":\"1179\",\"type\":\"Circle\"},{\"attributes\":{},\"id\":\"1169\",\"type\":\"HelpTool\"},{\"attributes\":{\"coordinates\":null,\"group\":null,\"items\":[{\"id\":\"1195\"},{\"id\":\"1214\"}],\"title\":\"Legend.\"},\"id\":\"1194\",\"type\":\"Legend\"},{\"attributes\":{\"data\":{\"x\":{\"__ndarray__\":\"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\",\"dtype\":\"float64\",\"order\":\"little\",\"shape\":[400]},\"y\":{\"__ndarray__\":\"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\",\"dtype\":\"float64\",\"order\":\"little\",\"shape\":[400]}},\"selected\":{\"id\":\"1212\"},\"selection_policy\":{\"id\":\"1211\"}},\"id\":\"1196\",\"type\":\"ColumnDataSource\"},{\"attributes\":{},\"id\":\"1212\",\"type\":\"Selection\"},{\"attributes\":{\"fill_color\":{\"value\":\"blue\"},\"hatch_color\":{\"value\":\"blue\"},\"line_color\":{\"value\":\"blue\"},\"marker\":{\"value\":\"square\"},\"size\":{\"value\":5},\"x\":{\"field\":\"x\"},\"y\":{\"field\":\"y\"}},\"id\":\"1197\",\"type\":\"Scatter\"},{\"attributes\":{},\"id\":\"1189\",\"type\":\"BasicTickFormatter\"},{\"attributes\":{},\"id\":\"1191\",\"type\":\"UnionRenderers\"},{\"attributes\":{},\"id\":\"1187\",\"type\":\"AllLabels\"},{\"attributes\":{},\"id\":\"1190\",\"type\":\"AllLabels\"},{\"attributes\":{},\"id\":\"1154\",\"type\":\"LinearScale\"},{\"attributes\":{},\"id\":\"1157\",\"type\":\"BasicTicker\"},{\"attributes\":{\"coordinates\":null,\"group\":null,\"text\":\"Fitting y27-idealfour on y2-train\"},\"id\":\"1146\",\"type\":\"Title\"},{\"attributes\":{\"label\":{\"value\":\"y27 - idealfour\"},\"renderers\":[{\"id\":\"1200\"}]},\"id\":\"1214\",\"type\":\"LegendItem\"},{\"attributes\":{\"coordinates\":null,\"data_source\":{\"id\":\"1196\"},\"glyph\":{\"id\":\"1197\"},\"group\":null,\"hover_glyph\":null,\"muted_glyph\":{\"id\":\"1199\"},\"nonselection_glyph\":{\"id\":\"1198\"},\"view\":{\"id\":\"1201\"}},\"id\":\"1200\",\"type\":\"GlyphRenderer\"},{\"attributes\":{\"source\":{\"id\":\"1178\"}},\"id\":\"1183\",\"type\":\"CDSView\"},{\"attributes\":{},\"id\":\"1186\",\"type\":\"BasicTickFormatter\"},{\"attributes\":{\"source\":{\"id\":\"1196\"}},\"id\":\"1201\",\"type\":\"CDSView\"},{\"attributes\":{\"fill_alpha\":{\"value\":0.2},\"fill_color\":{\"value\":\"blue\"},\"hatch_alpha\":{\"value\":0.2},\"hatch_color\":{\"value\":\"blue\"},\"line_alpha\":{\"value\":0.2},\"line_color\":{\"value\":\"blue\"},\"marker\":{\"value\":\"square\"},\"size\":{\"value\":5},\"x\":{\"field\":\"x\"},\"y\":{\"field\":\"y\"}},\"id\":\"1199\",\"type\":\"Scatter\"},{\"attributes\":{\"fill_alpha\":{\"value\":0.1},\"fill_color\":{\"value\":\"blue\"},\"hatch_alpha\":{\"value\":0.1},\"hatch_color\":{\"value\":\"blue\"},\"line_alpha\":{\"value\":0.1},\"line_color\":{\"value\":\"blue\"},\"marker\":{\"value\":\"square\"},\"size\":{\"value\":5},\"x\":{\"field\":\"x\"},\"y\":{\"field\":\"y\"}},\"id\":\"1198\",\"type\":\"Scatter\"},{\"attributes\":{\"fill_alpha\":{\"value\":0.2},\"fill_color\":{\"value\":\"black\"},\"hatch_alpha\":{\"value\":0.2},\"line_alpha\":{\"value\":0.2},\"size\":{\"value\":12},\"x\":{\"field\":\"x\"},\"y\":{\"field\":\"y\"}},\"id\":\"1181\",\"type\":\"Circle\"},{\"attributes\":{\"coordinates\":null,\"formatter\":{\"id\":\"1186\"},\"group\":null,\"major_label_policy\":{\"id\":\"1187\"},\"ticker\":{\"id\":\"1161\"}},\"id\":\"1160\",\"type\":\"LinearAxis\"},{\"attributes\":{},\"id\":\"1165\",\"type\":\"WheelZoomTool\"}],\"root_ids\":[\"1145\"]},\"title\":\"Bokeh Application\",\"version\":\"2.4.3\"}};\n",
       "  const render_items = [{\"docid\":\"94f62d4f-f530-4156-bc6c-e24329aefe2f\",\"root_ids\":[\"1145\"],\"roots\":{\"1145\":\"733966fc-fbe5-438b-989e-39b5d49474eb\"}}];\n",
       "  root.Bokeh.embed.embed_items_notebook(docs_json, render_items);\n",
       "  }\n",
       "  if (root.Bokeh !== undefined) {\n",
       "    embed_document(root);\n",
       "  } else {\n",
       "    let attempts = 0;\n",
       "    const timer = setInterval(function(root) {\n",
       "      if (root.Bokeh !== undefined) {\n",
       "        clearInterval(timer);\n",
       "        embed_document(root);\n",
       "      } else {\n",
       "        attempts++;\n",
       "        if (attempts > 100) {\n",
       "          clearInterval(timer);\n",
       "          console.log(\"Bokeh: ERROR: Unable to run BokehJS code because BokehJS library is missing\");\n",
       "        }\n",
       "      }\n",
       "    }, 10, root)\n",
       "  }\n",
       "})(window);"
      ],
      "application/vnd.bokehjs_exec.v0+json": ""
     },
     "metadata": {
      "application/vnd.bokehjs_exec.v0+json": {
       "id": "1145"
      }
     },
     "output_type": "display_data"
    }
   ],
   "source": [
    "# Plot of y2-train, y27-idealfour\n",
    "\n",
    "b = figure(plot_width=650, plot_height=350, title= \"Fitting y27-idealfour on y2-train\")\n",
    "\n",
    "b.circle(train.x, train.y2, size=12, color='black', legend_label=\"y2 - train\")\n",
    "b.square(idealfour.x, idealfour.y27, size=5,color='blue', legend_label=\"y27 - idealfour\")\n",
    "\n",
    "b.legend.title = \"Legend.\"\n",
    "b.legend.location = \"top_right\"\n",
    "\n",
    "show(b)"
   ]
  },
  {
   "cell_type": "code",
   "execution_count": 15,
   "id": "7a90238a",
   "metadata": {},
   "outputs": [
    {
     "name": "stdout",
     "output_type": "stream",
     "text": [
      "1.0\n"
     ]
    }
   ],
   "source": [
    "### Computing the r-squared for this result\n",
    "\n",
    "pe = ols_pwp.pwpEvaluate()\n",
    "rs_2 = pe.r_sqr(train['y2'], idealfour['y27'])\n",
    "\n",
    "print(rs_2)"
   ]
  },
  {
   "cell_type": "code",
   "execution_count": 16,
   "id": "4a874128",
   "metadata": {},
   "outputs": [
    {
     "data": {
      "text/html": [
       "\n",
       "  <div class=\"bk-root\" id=\"966476f1-1186-4e8c-9476-72663af95830\" data-root-id=\"1299\"></div>\n"
      ]
     },
     "metadata": {},
     "output_type": "display_data"
    },
    {
     "data": {
      "application/javascript": [
       "(function(root) {\n",
       "  function embed_document(root) {\n",
       "  const docs_json = {\"d0e3501b-d612-49b4-bc9f-a0500b73863c\":{\"defs\":[],\"roots\":{\"references\":[{\"attributes\":{\"below\":[{\"id\":\"1310\"}],\"center\":[{\"id\":\"1313\"},{\"id\":\"1317\"},{\"id\":\"1348\"}],\"left\":[{\"id\":\"1314\"}],\"renderers\":[{\"id\":\"1336\"},{\"id\":\"1354\"}],\"title\":{\"id\":\"1300\"},\"toolbar\":{\"id\":\"1325\"},\"x_range\":{\"id\":\"1302\"},\"x_scale\":{\"id\":\"1306\"},\"y_range\":{\"id\":\"1304\"},\"y_scale\":{\"id\":\"1308\"}},\"id\":\"1299\",\"subtype\":\"Figure\",\"type\":\"Plot\"},{\"attributes\":{},\"id\":\"1322\",\"type\":\"ResetTool\"},{\"attributes\":{\"overlay\":{\"id\":\"1324\"}},\"id\":\"1320\",\"type\":\"BoxZoomTool\"},{\"attributes\":{\"coordinates\":null,\"formatter\":{\"id\":\"1343\"},\"group\":null,\"major_label_policy\":{\"id\":\"1344\"},\"ticker\":{\"id\":\"1311\"}},\"id\":\"1310\",\"type\":\"LinearAxis\"},{\"attributes\":{},\"id\":\"1318\",\"type\":\"PanTool\"},{\"attributes\":{},\"id\":\"1306\",\"type\":\"LinearScale\"},{\"attributes\":{},\"id\":\"1319\",\"type\":\"WheelZoomTool\"},{\"attributes\":{\"data\":{\"x\":{\"__ndarray__\":\"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\",\"dtype\":\"float64\",\"order\":\"little\",\"shape\":[400]},\"y\":{\"__ndarray__\":\"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\",\"dtype\":\"float64\",\"order\":\"little\",\"shape\":[400]}},\"selected\":{\"id\":\"1366\"},\"selection_policy\":{\"id\":\"1365\"}},\"id\":\"1350\",\"type\":\"ColumnDataSource\"},{\"attributes\":{\"fill_color\":{\"value\":\"yellow\"},\"hatch_color\":{\"value\":\"yellow\"},\"line_color\":{\"value\":\"yellow\"},\"marker\":{\"value\":\"square\"},\"size\":{\"value\":5},\"x\":{\"field\":\"x\"},\"y\":{\"field\":\"y\"}},\"id\":\"1351\",\"type\":\"Scatter\"},{\"attributes\":{\"coordinates\":null,\"data_source\":{\"id\":\"1332\"},\"glyph\":{\"id\":\"1333\"},\"group\":null,\"hover_glyph\":null,\"muted_glyph\":{\"id\":\"1335\"},\"nonselection_glyph\":{\"id\":\"1334\"},\"view\":{\"id\":\"1337\"}},\"id\":\"1336\",\"type\":\"GlyphRenderer\"},{\"attributes\":{\"label\":{\"value\":\"y2 - idealfour\"},\"renderers\":[{\"id\":\"1354\"}]},\"id\":\"1368\",\"type\":\"LegendItem\"},{\"attributes\":{\"coordinates\":null,\"data_source\":{\"id\":\"1350\"},\"glyph\":{\"id\":\"1351\"},\"group\":null,\"hover_glyph\":null,\"muted_glyph\":{\"id\":\"1353\"},\"nonselection_glyph\":{\"id\":\"1352\"},\"view\":{\"id\":\"1355\"}},\"id\":\"1354\",\"type\":\"GlyphRenderer\"},{\"attributes\":{},\"id\":\"1340\",\"type\":\"BasicTickFormatter\"},{\"attributes\":{\"bottom_units\":\"screen\",\"coordinates\":null,\"fill_alpha\":0.5,\"fill_color\":\"lightgrey\",\"group\":null,\"left_units\":\"screen\",\"level\":\"overlay\",\"line_alpha\":1.0,\"line_color\":\"black\",\"line_dash\":[4,4],\"line_width\":2,\"right_units\":\"screen\",\"syncable\":false,\"top_units\":\"screen\"},\"id\":\"1324\",\"type\":\"BoxAnnotation\"},{\"attributes\":{\"source\":{\"id\":\"1350\"}},\"id\":\"1355\",\"type\":\"CDSView\"},{\"attributes\":{\"fill_alpha\":{\"value\":0.2},\"fill_color\":{\"value\":\"black\"},\"hatch_alpha\":{\"value\":0.2},\"line_alpha\":{\"value\":0.2},\"size\":{\"value\":12},\"x\":{\"field\":\"x\"},\"y\":{\"field\":\"y\"}},\"id\":\"1335\",\"type\":\"Circle\"},{\"attributes\":{\"fill_alpha\":{\"value\":0.2},\"fill_color\":{\"value\":\"yellow\"},\"hatch_alpha\":{\"value\":0.2},\"hatch_color\":{\"value\":\"yellow\"},\"line_alpha\":{\"value\":0.2},\"line_color\":{\"value\":\"yellow\"},\"marker\":{\"value\":\"square\"},\"size\":{\"value\":5},\"x\":{\"field\":\"x\"},\"y\":{\"field\":\"y\"}},\"id\":\"1353\",\"type\":\"Scatter\"},{\"attributes\":{\"fill_alpha\":{\"value\":0.1},\"fill_color\":{\"value\":\"yellow\"},\"hatch_alpha\":{\"value\":0.1},\"hatch_color\":{\"value\":\"yellow\"},\"line_alpha\":{\"value\":0.1},\"line_color\":{\"value\":\"yellow\"},\"marker\":{\"value\":\"square\"},\"size\":{\"value\":5},\"x\":{\"field\":\"x\"},\"y\":{\"field\":\"y\"}},\"id\":\"1352\",\"type\":\"Scatter\"},{\"attributes\":{},\"id\":\"1341\",\"type\":\"AllLabels\"},{\"attributes\":{\"data\":{\"x\":{\"__ndarray__\":\"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\",\"dtype\":\"float64\",\"order\":\"little\",\"shape\":[400]},\"y\":{\"__ndarray__\":\"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\",\"dtype\":\"float64\",\"order\":\"little\",\"shape\":[400]}},\"selected\":{\"id\":\"1346\"},\"selection_policy\":{\"id\":\"1345\"}},\"id\":\"1332\",\"type\":\"ColumnDataSource\"},{\"attributes\":{},\"id\":\"1343\",\"type\":\"BasicTickFormatter\"},{\"attributes\":{},\"id\":\"1302\",\"type\":\"DataRange1d\"},{\"attributes\":{},\"id\":\"1366\",\"type\":\"Selection\"},{\"attributes\":{},\"id\":\"1344\",\"type\":\"AllLabels\"},{\"attributes\":{\"fill_alpha\":{\"value\":0.1},\"fill_color\":{\"value\":\"black\"},\"hatch_alpha\":{\"value\":0.1},\"line_alpha\":{\"value\":0.1},\"size\":{\"value\":12},\"x\":{\"field\":\"x\"},\"y\":{\"field\":\"y\"}},\"id\":\"1334\",\"type\":\"Circle\"},{\"attributes\":{\"fill_color\":{\"value\":\"black\"},\"size\":{\"value\":12},\"x\":{\"field\":\"x\"},\"y\":{\"field\":\"y\"}},\"id\":\"1333\",\"type\":\"Circle\"},{\"attributes\":{},\"id\":\"1365\",\"type\":\"UnionRenderers\"},{\"attributes\":{\"source\":{\"id\":\"1332\"}},\"id\":\"1337\",\"type\":\"CDSView\"},{\"attributes\":{\"label\":{\"value\":\"y3 - train\"},\"renderers\":[{\"id\":\"1336\"}]},\"id\":\"1349\",\"type\":\"LegendItem\"},{\"attributes\":{},\"id\":\"1304\",\"type\":\"DataRange1d\"},{\"attributes\":{\"tools\":[{\"id\":\"1318\"},{\"id\":\"1319\"},{\"id\":\"1320\"},{\"id\":\"1321\"},{\"id\":\"1322\"},{\"id\":\"1323\"}]},\"id\":\"1325\",\"type\":\"Toolbar\"},{\"attributes\":{},\"id\":\"1308\",\"type\":\"LinearScale\"},{\"attributes\":{\"coordinates\":null,\"group\":null,\"items\":[{\"id\":\"1349\"},{\"id\":\"1368\"}],\"location\":\"bottom_left\",\"title\":\"Legend.\"},\"id\":\"1348\",\"type\":\"Legend\"},{\"attributes\":{},\"id\":\"1323\",\"type\":\"HelpTool\"},{\"attributes\":{\"coordinates\":null,\"group\":null,\"text\":\"Fitting y2-idealfour on y3-train\"},\"id\":\"1300\",\"type\":\"Title\"},{\"attributes\":{},\"id\":\"1345\",\"type\":\"UnionRenderers\"},{\"attributes\":{},\"id\":\"1315\",\"type\":\"BasicTicker\"},{\"attributes\":{\"coordinates\":null,\"formatter\":{\"id\":\"1340\"},\"group\":null,\"major_label_policy\":{\"id\":\"1341\"},\"ticker\":{\"id\":\"1315\"}},\"id\":\"1314\",\"type\":\"LinearAxis\"},{\"attributes\":{\"axis\":{\"id\":\"1314\"},\"coordinates\":null,\"dimension\":1,\"group\":null,\"ticker\":null},\"id\":\"1317\",\"type\":\"Grid\"},{\"attributes\":{},\"id\":\"1321\",\"type\":\"SaveTool\"},{\"attributes\":{},\"id\":\"1346\",\"type\":\"Selection\"},{\"attributes\":{},\"id\":\"1311\",\"type\":\"BasicTicker\"},{\"attributes\":{\"axis\":{\"id\":\"1310\"},\"coordinates\":null,\"group\":null,\"ticker\":null},\"id\":\"1313\",\"type\":\"Grid\"}],\"root_ids\":[\"1299\"]},\"title\":\"Bokeh Application\",\"version\":\"2.4.3\"}};\n",
       "  const render_items = [{\"docid\":\"d0e3501b-d612-49b4-bc9f-a0500b73863c\",\"root_ids\":[\"1299\"],\"roots\":{\"1299\":\"966476f1-1186-4e8c-9476-72663af95830\"}}];\n",
       "  root.Bokeh.embed.embed_items_notebook(docs_json, render_items);\n",
       "  }\n",
       "  if (root.Bokeh !== undefined) {\n",
       "    embed_document(root);\n",
       "  } else {\n",
       "    let attempts = 0;\n",
       "    const timer = setInterval(function(root) {\n",
       "      if (root.Bokeh !== undefined) {\n",
       "        clearInterval(timer);\n",
       "        embed_document(root);\n",
       "      } else {\n",
       "        attempts++;\n",
       "        if (attempts > 100) {\n",
       "          clearInterval(timer);\n",
       "          console.log(\"Bokeh: ERROR: Unable to run BokehJS code because BokehJS library is missing\");\n",
       "        }\n",
       "      }\n",
       "    }, 10, root)\n",
       "  }\n",
       "})(window);"
      ],
      "application/vnd.bokehjs_exec.v0+json": ""
     },
     "metadata": {
      "application/vnd.bokehjs_exec.v0+json": {
       "id": "1299"
      }
     },
     "output_type": "display_data"
    }
   ],
   "source": [
    "# Plot of y3-train, y2-idealfour\n",
    "\n",
    "c = figure(title= \"Fitting y2-idealfour on y3-train\")\n",
    "\n",
    "c.circle(train.x, train.y3, size=12, color='black', legend_label=\"y3 - train\")\n",
    "c.square(idealfour.x, idealfour.y2, size=5,color='yellow', legend_label=\"y2 - idealfour\")\n",
    "\n",
    "c.legend.title = \"Legend.\"\n",
    "c.legend.location = \"bottom_left\"\n",
    "\n",
    "show(c)"
   ]
  },
  {
   "cell_type": "code",
   "execution_count": 17,
   "id": "5e960762",
   "metadata": {},
   "outputs": [
    {
     "name": "stdout",
     "output_type": "stream",
     "text": [
      "0.91\n"
     ]
    }
   ],
   "source": [
    "### Computing the r-squared for this result\n",
    "\n",
    "pe = ols_pwp.pwpEvaluate()\n",
    "rs_3 = pe.r_sqr(train['y3'], idealfour['y2'])\n",
    "\n",
    "print(rs_3)"
   ]
  },
  {
   "cell_type": "code",
   "execution_count": 18,
   "id": "0afa165d",
   "metadata": {},
   "outputs": [
    {
     "data": {
      "text/html": [
       "\n",
       "  <div class=\"bk-root\" id=\"c327306a-a7be-4084-ad1b-2b7add89582e\" data-root-id=\"1465\"></div>\n"
      ]
     },
     "metadata": {},
     "output_type": "display_data"
    },
    {
     "data": {
      "application/javascript": [
       "(function(root) {\n",
       "  function embed_document(root) {\n",
       "  const docs_json = {\"a0196a2b-08b7-405d-a4ac-e50439597f09\":{\"defs\":[],\"roots\":{\"references\":[{\"attributes\":{\"below\":[{\"id\":\"1476\"}],\"center\":[{\"id\":\"1479\"},{\"id\":\"1483\"},{\"id\":\"1514\"}],\"height\":350,\"left\":[{\"id\":\"1480\"}],\"renderers\":[{\"id\":\"1502\"},{\"id\":\"1520\"}],\"title\":{\"id\":\"1466\"},\"toolbar\":{\"id\":\"1491\"},\"width\":650,\"x_range\":{\"id\":\"1468\"},\"x_scale\":{\"id\":\"1472\"},\"y_range\":{\"id\":\"1470\"},\"y_scale\":{\"id\":\"1474\"}},\"id\":\"1465\",\"subtype\":\"Figure\",\"type\":\"Plot\"},{\"attributes\":{},\"id\":\"1484\",\"type\":\"PanTool\"},{\"attributes\":{},\"id\":\"1481\",\"type\":\"BasicTicker\"},{\"attributes\":{\"axis\":{\"id\":\"1480\"},\"coordinates\":null,\"dimension\":1,\"group\":null,\"ticker\":null},\"id\":\"1483\",\"type\":\"Grid\"},{\"attributes\":{\"label\":{\"value\":\"y24-idealfour\"},\"renderers\":[{\"id\":\"1520\"}]},\"id\":\"1534\",\"type\":\"LegendItem\"},{\"attributes\":{\"coordinates\":null,\"data_source\":{\"id\":\"1516\"},\"glyph\":{\"id\":\"1517\"},\"group\":null,\"hover_glyph\":null,\"muted_glyph\":{\"id\":\"1519\"},\"nonselection_glyph\":{\"id\":\"1518\"},\"view\":{\"id\":\"1521\"}},\"id\":\"1520\",\"type\":\"GlyphRenderer\"},{\"attributes\":{\"coordinates\":null,\"formatter\":{\"id\":\"1506\"},\"group\":null,\"major_label_policy\":{\"id\":\"1507\"},\"ticker\":{\"id\":\"1481\"}},\"id\":\"1480\",\"type\":\"LinearAxis\"},{\"attributes\":{\"source\":{\"id\":\"1516\"}},\"id\":\"1521\",\"type\":\"CDSView\"},{\"attributes\":{\"coordinates\":null,\"group\":null,\"items\":[{\"id\":\"1515\"},{\"id\":\"1534\"}],\"location\":\"bottom_right\",\"title\":\"Legend.\"},\"id\":\"1514\",\"type\":\"Legend\"},{\"attributes\":{\"fill_alpha\":{\"value\":0.2},\"fill_color\":{\"value\":\"green\"},\"hatch_alpha\":{\"value\":0.2},\"hatch_color\":{\"value\":\"green\"},\"line_alpha\":{\"value\":0.2},\"line_color\":{\"value\":\"green\"},\"marker\":{\"value\":\"square\"},\"size\":{\"value\":5},\"x\":{\"field\":\"x\"},\"y\":{\"field\":\"y\"}},\"id\":\"1519\",\"type\":\"Scatter\"},{\"attributes\":{\"fill_alpha\":{\"value\":0.1},\"fill_color\":{\"value\":\"green\"},\"hatch_alpha\":{\"value\":0.1},\"hatch_color\":{\"value\":\"green\"},\"line_alpha\":{\"value\":0.1},\"line_color\":{\"value\":\"green\"},\"marker\":{\"value\":\"square\"},\"size\":{\"value\":5},\"x\":{\"field\":\"x\"},\"y\":{\"field\":\"y\"}},\"id\":\"1518\",\"type\":\"Scatter\"},{\"attributes\":{\"coordinates\":null,\"formatter\":{\"id\":\"1509\"},\"group\":null,\"major_label_policy\":{\"id\":\"1510\"},\"ticker\":{\"id\":\"1477\"}},\"id\":\"1476\",\"type\":\"LinearAxis\"},{\"attributes\":{\"fill_alpha\":{\"value\":0.2},\"fill_color\":{\"value\":\"black\"},\"hatch_alpha\":{\"value\":0.2},\"line_alpha\":{\"value\":0.2},\"size\":{\"value\":12},\"x\":{\"field\":\"x\"},\"y\":{\"field\":\"y\"}},\"id\":\"1501\",\"type\":\"Circle\"},{\"attributes\":{},\"id\":\"1472\",\"type\":\"LinearScale\"},{\"attributes\":{},\"id\":\"1507\",\"type\":\"AllLabels\"},{\"attributes\":{},\"id\":\"1509\",\"type\":\"BasicTickFormatter\"},{\"attributes\":{},\"id\":\"1506\",\"type\":\"BasicTickFormatter\"},{\"attributes\":{},\"id\":\"1474\",\"type\":\"LinearScale\"},{\"attributes\":{},\"id\":\"1477\",\"type\":\"BasicTicker\"},{\"attributes\":{},\"id\":\"1532\",\"type\":\"Selection\"},{\"attributes\":{\"coordinates\":null,\"group\":null,\"text\":\"Fitting y24-idealfour on y4-train\"},\"id\":\"1466\",\"type\":\"Title\"},{\"attributes\":{\"coordinates\":null,\"data_source\":{\"id\":\"1498\"},\"glyph\":{\"id\":\"1499\"},\"group\":null,\"hover_glyph\":null,\"muted_glyph\":{\"id\":\"1501\"},\"nonselection_glyph\":{\"id\":\"1500\"},\"view\":{\"id\":\"1503\"}},\"id\":\"1502\",\"type\":\"GlyphRenderer\"},{\"attributes\":{},\"id\":\"1510\",\"type\":\"AllLabels\"},{\"attributes\":{},\"id\":\"1531\",\"type\":\"UnionRenderers\"},{\"attributes\":{},\"id\":\"1488\",\"type\":\"ResetTool\"},{\"attributes\":{\"fill_color\":{\"value\":\"black\"},\"size\":{\"value\":12},\"x\":{\"field\":\"x\"},\"y\":{\"field\":\"y\"}},\"id\":\"1499\",\"type\":\"Circle\"},{\"attributes\":{\"source\":{\"id\":\"1498\"}},\"id\":\"1503\",\"type\":\"CDSView\"},{\"attributes\":{\"data\":{\"x\":{\"__ndarray__\":\"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\",\"dtype\":\"float64\",\"order\":\"little\",\"shape\":[400]},\"y\":{\"__ndarray__\":\"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\",\"dtype\":\"float64\",\"order\":\"little\",\"shape\":[400]}},\"selected\":{\"id\":\"1512\"},\"selection_policy\":{\"id\":\"1511\"}},\"id\":\"1498\",\"type\":\"ColumnDataSource\"},{\"attributes\":{},\"id\":\"1468\",\"type\":\"DataRange1d\"},{\"attributes\":{\"fill_alpha\":{\"value\":0.1},\"fill_color\":{\"value\":\"black\"},\"hatch_alpha\":{\"value\":0.1},\"line_alpha\":{\"value\":0.1},\"size\":{\"value\":12},\"x\":{\"field\":\"x\"},\"y\":{\"field\":\"y\"}},\"id\":\"1500\",\"type\":\"Circle\"},{\"attributes\":{},\"id\":\"1470\",\"type\":\"DataRange1d\"},{\"attributes\":{},\"id\":\"1511\",\"type\":\"UnionRenderers\"},{\"attributes\":{\"axis\":{\"id\":\"1476\"},\"coordinates\":null,\"group\":null,\"ticker\":null},\"id\":\"1479\",\"type\":\"Grid\"},{\"attributes\":{\"overlay\":{\"id\":\"1490\"}},\"id\":\"1486\",\"type\":\"BoxZoomTool\"},{\"attributes\":{},\"id\":\"1512\",\"type\":\"Selection\"},{\"attributes\":{},\"id\":\"1487\",\"type\":\"SaveTool\"},{\"attributes\":{},\"id\":\"1485\",\"type\":\"WheelZoomTool\"},{\"attributes\":{\"label\":{\"value\":\"y4-train\"},\"renderers\":[{\"id\":\"1502\"}]},\"id\":\"1515\",\"type\":\"LegendItem\"},{\"attributes\":{\"data\":{\"x\":{\"__ndarray__\":\"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\",\"dtype\":\"float64\",\"order\":\"little\",\"shape\":[400]},\"y\":{\"__ndarray__\":\"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\",\"dtype\":\"float64\",\"order\":\"little\",\"shape\":[400]}},\"selected\":{\"id\":\"1532\"},\"selection_policy\":{\"id\":\"1531\"}},\"id\":\"1516\",\"type\":\"ColumnDataSource\"},{\"attributes\":{\"fill_color\":{\"value\":\"green\"},\"hatch_color\":{\"value\":\"green\"},\"line_color\":{\"value\":\"green\"},\"marker\":{\"value\":\"square\"},\"size\":{\"value\":5},\"x\":{\"field\":\"x\"},\"y\":{\"field\":\"y\"}},\"id\":\"1517\",\"type\":\"Scatter\"},{\"attributes\":{},\"id\":\"1489\",\"type\":\"HelpTool\"},{\"attributes\":{\"tools\":[{\"id\":\"1484\"},{\"id\":\"1485\"},{\"id\":\"1486\"},{\"id\":\"1487\"},{\"id\":\"1488\"},{\"id\":\"1489\"}]},\"id\":\"1491\",\"type\":\"Toolbar\"},{\"attributes\":{\"bottom_units\":\"screen\",\"coordinates\":null,\"fill_alpha\":0.5,\"fill_color\":\"lightgrey\",\"group\":null,\"left_units\":\"screen\",\"level\":\"overlay\",\"line_alpha\":1.0,\"line_color\":\"black\",\"line_dash\":[4,4],\"line_width\":2,\"right_units\":\"screen\",\"syncable\":false,\"top_units\":\"screen\"},\"id\":\"1490\",\"type\":\"BoxAnnotation\"}],\"root_ids\":[\"1465\"]},\"title\":\"Bokeh Application\",\"version\":\"2.4.3\"}};\n",
       "  const render_items = [{\"docid\":\"a0196a2b-08b7-405d-a4ac-e50439597f09\",\"root_ids\":[\"1465\"],\"roots\":{\"1465\":\"c327306a-a7be-4084-ad1b-2b7add89582e\"}}];\n",
       "  root.Bokeh.embed.embed_items_notebook(docs_json, render_items);\n",
       "  }\n",
       "  if (root.Bokeh !== undefined) {\n",
       "    embed_document(root);\n",
       "  } else {\n",
       "    let attempts = 0;\n",
       "    const timer = setInterval(function(root) {\n",
       "      if (root.Bokeh !== undefined) {\n",
       "        clearInterval(timer);\n",
       "        embed_document(root);\n",
       "      } else {\n",
       "        attempts++;\n",
       "        if (attempts > 100) {\n",
       "          clearInterval(timer);\n",
       "          console.log(\"Bokeh: ERROR: Unable to run BokehJS code because BokehJS library is missing\");\n",
       "        }\n",
       "      }\n",
       "    }, 10, root)\n",
       "  }\n",
       "})(window);"
      ],
      "application/vnd.bokehjs_exec.v0+json": ""
     },
     "metadata": {
      "application/vnd.bokehjs_exec.v0+json": {
       "id": "1465"
      }
     },
     "output_type": "display_data"
    }
   ],
   "source": [
    "# Plot of y4-train, y24-idealfour\n",
    "\n",
    "d = figure(plot_width=650, plot_height=350, title= \"Fitting y24-idealfour on y4-train\")\n",
    "\n",
    "d.circle(train.x, train.y4, size=12, color='black', legend_label=\"y4-train\")\n",
    "d.square(idealfour.x, idealfour.y24, size=5,color='green', legend_label=\"y24-idealfour\")\n",
    "\n",
    "d.legend.title = \"Legend.\"\n",
    "d.legend.location = \"bottom_right\"\n",
    "\n",
    "show(d)"
   ]
  },
  {
   "cell_type": "code",
   "execution_count": 19,
   "id": "a843db6a",
   "metadata": {},
   "outputs": [
    {
     "name": "stdout",
     "output_type": "stream",
     "text": [
      "1.0\n"
     ]
    }
   ],
   "source": [
    "### Computing the r-squared for this result\n",
    "\n",
    "pe = ols_pwp.pwpEvaluate()\n",
    "rs_4 = pe.r_sqr(train['y4'], idealfour['y24'])\n",
    "\n",
    "print(rs_4)"
   ]
  },
  {
   "cell_type": "markdown",
   "id": "3105de71",
   "metadata": {},
   "source": [
    "### Finding the Best Fit From the Test and IdealFour Datasets\n",
    "\n",
    "The second task required to find the final fitting function on the test dataset is as follows."
   ]
  },
  {
   "cell_type": "code",
   "execution_count": 20,
   "id": "2cecb14d",
   "metadata": {},
   "outputs": [
    {
     "name": "stdout",
     "output_type": "stream",
     "text": [
      "(92, 5)\n"
     ]
    }
   ],
   "source": [
    "# Subsetting the idealfour dataset using the test['x'] to obtain the final idf_in_test dataset.\n",
    "\n",
    "idf_in_test = idealfour[idealfour['x'].isin(test['x'])]\n",
    "print(idf_in_test.shape)"
   ]
  },
  {
   "cell_type": "code",
   "execution_count": 21,
   "id": "0452c528",
   "metadata": {},
   "outputs": [
    {
     "name": "stdout",
     "output_type": "stream",
     "text": [
      "[['y24', 20451.356]]\n"
     ]
    }
   ],
   "source": [
    "# Computing the test and idf_in_test datasets pair maximum deviation and determining which column has the maximum deviation\n",
    "\n",
    "dev = ols_pwp.pwpDeviation(test,idf_in_test)\n",
    "\n",
    "test_and_idf = dev.max_dev()\n",
    "print(test_and_idf)"
   ]
  },
  {
   "cell_type": "code",
   "execution_count": 22,
   "id": "27ef463c",
   "metadata": {},
   "outputs": [
    {
     "name": "stdout",
     "output_type": "stream",
     "text": [
      "[['y27', 18648.405], ['y25', 34643.215], ['y25', 23994.92563518], ['y27', 26648.222]]\n"
     ]
    }
   ],
   "source": [
    "# Computing the train and ideal datasets pair maximum deviation\n",
    "\n",
    "dev = ols_pwp.pwpDeviation(train, ideal)\n",
    "train_ideal = dev.max_dev()\n",
    "print(train_ideal)"
   ]
  },
  {
   "cell_type": "code",
   "execution_count": 23,
   "id": "dac88dab",
   "metadata": {},
   "outputs": [
    {
     "name": "stdout",
     "output_type": "stream",
     "text": [
      "True\n"
     ]
    }
   ],
   "source": [
    "# Performing the check for the conditions \n",
    "# maximum deviation of the test-idealfour datasets pair is less than\n",
    "# the product of the maximum deviation of the train-ideal datasets pair and the square root of 2.\n",
    "\n",
    "print(test_and_idf[0][1] < (train_ideal[1][1] * np.sqrt(2)))"
   ]
  },
  {
   "cell_type": "code",
   "execution_count": 24,
   "id": "6e1f8e08",
   "metadata": {},
   "outputs": [
    {
     "name": "stdout",
     "output_type": "stream",
     "text": [
      "       x        y24\n",
      "7  -19.3 -14378.114\n",
      "8  -19.2 -14155.776\n",
      "13 -18.7 -13078.406\n",
      "14 -18.6 -12869.712\n",
      "25 -17.5 -10718.750\n"
     ]
    }
   ],
   "source": [
    "# Building the fit dataset derived from the max deviation calculation \n",
    "# using the test and idealfour datasets pair\n",
    "\n",
    "fit = idf_in_test[[\"x\", \"y24\"]]\n",
    "print(fit.head())"
   ]
  },
  {
   "cell_type": "code",
   "execution_count": 25,
   "id": "5ad0a125",
   "metadata": {},
   "outputs": [
    {
     "data": {
      "text/html": [
       "\n",
       "  <div class=\"bk-root\" id=\"6a1a8ea7-e6bd-4262-aee1-b6151bc60f71\" data-root-id=\"1643\"></div>\n"
      ]
     },
     "metadata": {},
     "output_type": "display_data"
    },
    {
     "data": {
      "application/javascript": [
       "(function(root) {\n",
       "  function embed_document(root) {\n",
       "  const docs_json = {\"ad6d922a-36a4-47f0-a178-f1ab3c4a8425\":{\"defs\":[],\"roots\":{\"references\":[{\"attributes\":{\"below\":[{\"id\":\"1654\"}],\"center\":[{\"id\":\"1657\"},{\"id\":\"1661\"},{\"id\":\"1692\"}],\"height\":350,\"left\":[{\"id\":\"1658\"}],\"renderers\":[{\"id\":\"1680\"},{\"id\":\"1698\"}],\"title\":{\"id\":\"1644\"},\"toolbar\":{\"id\":\"1669\"},\"width\":650,\"x_range\":{\"id\":\"1646\"},\"x_scale\":{\"id\":\"1650\"},\"y_range\":{\"id\":\"1648\"},\"y_scale\":{\"id\":\"1652\"}},\"id\":\"1643\",\"subtype\":\"Figure\",\"type\":\"Plot\"},{\"attributes\":{},\"id\":\"1665\",\"type\":\"SaveTool\"},{\"attributes\":{},\"id\":\"1646\",\"type\":\"DataRange1d\"},{\"attributes\":{\"fill_color\":{\"value\":\"green\"},\"hatch_color\":{\"value\":\"green\"},\"line_color\":{\"value\":\"green\"},\"marker\":{\"value\":\"square\"},\"size\":{\"value\":7},\"x\":{\"field\":\"x\"},\"y\":{\"field\":\"y\"}},\"id\":\"1695\",\"type\":\"Scatter\"},{\"attributes\":{},\"id\":\"1666\",\"type\":\"ResetTool\"},{\"attributes\":{},\"id\":\"1648\",\"type\":\"DataRange1d\"},{\"attributes\":{\"fill_alpha\":{\"value\":0.2},\"fill_color\":{\"value\":\"black\"},\"hatch_alpha\":{\"value\":0.2},\"line_alpha\":{\"value\":0.2},\"size\":{\"value\":12},\"x\":{\"field\":\"x\"},\"y\":{\"field\":\"y\"}},\"id\":\"1679\",\"type\":\"Circle\"},{\"attributes\":{\"axis\":{\"id\":\"1658\"},\"coordinates\":null,\"dimension\":1,\"group\":null,\"ticker\":null},\"id\":\"1661\",\"type\":\"Grid\"},{\"attributes\":{\"coordinates\":null,\"group\":null,\"items\":[{\"id\":\"1693\"},{\"id\":\"1712\"}],\"location\":\"bottom_right\",\"title\":\"Legend.\"},\"id\":\"1692\",\"type\":\"Legend\"},{\"attributes\":{\"data\":{\"x\":{\"__ndarray__\":\"zczMzMxMM8AzMzMzMzMzwDMzMzMzszLAmpmZmZmZMsAAAAAAAIAxwGZmZmZmZjHAAAAAAAAAMcCamZmZmZkwwM3MzMzMTDDAzczMzMzML8DNzMzMzMwuwGZmZmZmZi7AAAAAAAAALsDNzMzMzMwtwJqZmZmZmSzAAAAAAAAALMCamZmZmZkqwM3MzMzMzCnAmpmZmZmZKcBmZmZmZmYpwM3MzMzMzCfAAAAAAAAAJ8CamZmZmZkmwM3MzMzMzCXAmpmZmZmZJMCamZmZmZkiwDMzMzMzMyHAAAAAAAAAIMCamZmZmZkfwM3MzMzMzB7AMzMzMzMzHcBmZmZmZmYawAAAAAAAABrAzczMzMzMGMDNzMzMzMwWwJqZmZmZmRXAMzMzMzMzFcBmZmZmZmYUwGZmZmZmZg7AzczMzMzMDMCamZmZmZkJwDMzMzMzMwfAZmZmZmZm/r9mZmZmZmb2v5qZmZmZmbk/MzMzMzMz0z+amZmZmZnZPzMzMzMzMwtAZmZmZmZmDkAzMzMzMzMPQAAAAAAAABBAZmZmZmZmEEDNzMzMzMwQQGZmZmZmZhJAMzMzMzMzE0CamZmZmZkTQAAAAAAAABZAzczMzMzMGECamZmZmZkZQAAAAAAAABpAZmZmZmZmGkDNzMzMzMwaQDMzMzMzMxtAmpmZmZmZG0AAAAAAAAAcQM3MzMzMzB5AmpmZmZmZH0AzMzMzMzMgQGZmZmZmZiFAAAAAAAAAIkBmZmZmZmYiQDMzMzMzMyNAzczMzMzMJECamZmZmZklQAAAAAAAACdAzczMzMzMJ0AzMzMzMzMoQJqZmZmZmSlAzczMzMzMKUBmZmZmZmYqQM3MzMzMzCpAzczMzMzMLEAAAAAAAAAtQM3MzMzMzC5AzczMzMzML0BmZmZmZmYyQJqZmZmZmTJAZmZmZmbmMkAAAAAAAAAzQDMzMzMzMzNAZmZmZmZmM0CamZmZmZkzQA==\",\"dtype\":\"float64\",\"order\":\"little\",\"shape\":[92]},\"y\":{\"__ndarray__\":\"30+Nlw4VzMDZzvdT46XLwBfZzvczi8nAYOXQItsiycAAAAAAYO/EwBsv3SQGlMTAAAAAAAAxw8Ce76fGS97BwB1aZDu/6sDA+FPjpVtnv8BKDAIrh4i8wFYOLbKdb7vAAAAAAABeusDP91Pj5de5wIts5/tp2LbAAAAAAABwtcAbL90kRmGywOOlm8RgxbDA/Knx0k1isMC8dJMYxACwwEJg5dCiVKrAAAAAAIDDp8AMAiuHloumwFYOLbIdPKTAxSCwcugSocBg5dAi2yKZwJzEILBy4JPAAAAAAAAAkMC0yHa+n9COwEoMAiuHiIzAg8DKoUVQiMAOLbKd7/eBwAAAAAAAKoHA0SLb+X7KfcAZBFYOLSZ3wAIrhxbZrnPA8tJNYhCccsBGtvP91JRwwFYOLbKdb1vAhxbZzvdTV8D8qfHSTWJQwN0kBoGVY0jAVg4tsp1vK8DByqFFtvMVwPyp8dJNYmA/2c73U+Olqz/8qfHSTWLAP/T91HjpplNAVg4tsp1vW0BGtvP91KhdQAAAAAAAAGBAbef7qfE6YUASg8DKoYViQC/dJAaBVWhA2c73U+Ola0Coxks3iWltQAAAAAAAzHRA0SLb+X7KfUD8qfHSTWKAQAAAAAAAKoFADi2yne/3gUCR7Xw/NcyCQPT91HjppoNAoBov3SSIhEAAAAAAAHCFQEoMAiuHiIxAtMh2vp/QjkBKDAIrh5uQQBsv3SQGlJRAAAAAAADIlkAv3SQGgVWYQNnO91PjpZtA+n5qvHSToUACK4cW2a6jQAAAAACAw6dAQmDl0KJUqkA5tMh2Pq6rQPyp8dJNYrBA46WbxGDFsEAOLbKd7/exQJHtfD81zLJAhxbZzvdTt0AAAAAAQNG3QEoMAiuHiLxA+FPjpVtnv0Av3SQGgVXIQGDl0CLbIslAoBov3URfykAAAAAAAMvKQNnO91PjpctAqvHSTWKFzECoxks3iWnNQA==\",\"dtype\":\"float64\",\"order\":\"little\",\"shape\":[92]}},\"selected\":{\"id\":\"1710\"},\"selection_policy\":{\"id\":\"1709\"}},\"id\":\"1694\",\"type\":\"ColumnDataSource\"},{\"attributes\":{\"axis\":{\"id\":\"1654\"},\"coordinates\":null,\"group\":null,\"ticker\":null},\"id\":\"1657\",\"type\":\"Grid\"},{\"attributes\":{\"data\":{\"x\":{\"__ndarray__\":\"AAAAAACAMcAAAAAAAAAzQAAAAAAAABpAzczMzMzML0CamZmZmZkswDMzMzMzM9M/mpmZmZmZuT8zMzMzMzMTQAAAAAAAAC7AAAAAAAAALUAzMzMzMzMzQM3MzMzMzCpAMzMzMzMzKEDNzMzMzEwwwM3MzMzMzBjAZmZmZmZmDsDNzMzMzMwuQGZmZmZmZhJAAAAAAAAAMcBmZmZmZmYQQM3MzMzMzCXAZmZmZmZmIUAAAAAAAAAswAAAAAAAACdAAAAAAAAAIkCamZmZmZkJwGZmZmZmZva/AAAAAAAAHEBmZmZmZmYOQM3MzMzMzClAZmZmZmZmFMDNzMzMzMwnwJqZmZmZmSVAmpmZmZmZE0DNzMzMzMwvQJqZmZmZmRXAZmZmZmZmMkCamZmZmZkpwDMzMzMzMzPAzczMzMxMM8CamZmZmZkpQDMzMzMzM9M/zczMzMzMLEAzMzMzMzMLQDMzMzMzMwfAAAAAAAAAJ8CamZmZmZkqwM3MzMzMzBbAmpmZmZmZKsDNzMzMzMwaQJqZmZmZmSTAmpmZmZmZMMDNzMzMzMwtwAAAAAAAABBAAAAAAAAAGsCamZmZmZnZP5qZmZmZmRtAZmZmZmZmM0CamZmZmZkfQM3MzMzMzCRAZmZmZmZmGsBmZmZmZmYuwDMzMzMzMyBAzczMzMzMGMBmZmZmZuYyQM3MzMzMzBBAzczMzMzMDMDNzMzMzMwuwAAAAAAAABxAMzMzMzMzFcAzMzMzM7MywJqZmZmZmTJAMzMzMzMzI0CamZmZmZkywGZmZmZmZipAzczMzMzMHsAzMzMzMzMdwGZmZmZmZinAMzMzMzMzIcDNzMzMzMweQJqZmZmZmSLAzczMzMzMHsDNzMzMzMwvwJqZmZmZmTNAZmZmZmZm/r9mZmZmZmYiQAAAAAAAABZAZmZmZmZmMcCamZmZmZkmwJqZmZmZmR/AmpmZmZmZ2T8AAAAAAAAgwM3MzMzMzCnAzczMzMzMGECamZmZmZkZQGZmZmZmZhpAzczMzMzMJ0AzMzMzMzMbQM3MzMzMzBpAMzMzMzMzD0A=\",\"dtype\":\"float64\",\"order\":\"little\",\"shape\":[100]},\"y\":{\"__ndarray__\":\"j8L1KAxOzED2BgTf2cPeP+58PzVeIXFAFK5H4cpnv0CuR+F6FNi2wCzN951woBFAs8gbBS1p878fnbryWXRbQIzbaADvXrrAfPKwUGvjg0BYObTIRqbLQCuHFtmOI5fACRueXmmtq0Awbv66Llfmv05/9iNF2G3APzVeusl+xUBD9/b4zjn/v3Qkl/8w4rNAEoPAyhExw8D3rkFfeislwB6n6EjuPZTAVisTfqmZhEBSSZ2AJm+lwIvt8ALl6aI/rvVFQlvOhkA8iJ0pdIthQHnnUIaq6AvAeR7cnfVshUBgWz/9Zx1LQC7/If32xqBAHcnlP8ReoEBb07zjFFeqwEOtad5xtJNANsgkI2cjXUB8SilDsKUCwFgczvzqZHlASL99HQg6scBQF87aEl7XPwrXo3ANpsvAqaROQBOVq0AtIR/0bKuTwOoj8IeffxBA2/l+ajwfzkBDkrR2Nl/2v+kWsqE4U+O/wFsgQREgrcCeKXReY5cAQAAAAABAg7lA6+I2GmD8q0CyM31dIxXkP8l2vp9KG8nA7j4qckactL/TTWIQmNi5wGFUUiegS5pAd4TTghc94z9ughThy+n4P9PZyeCoioRAarx0k3iFzEBd3EYD+L1+QD2bVZ9rjYLAg1FJnYDng0ArUfaWch7wvxKDwMpBTbTA1M8fw/gjzT/n+6nxYl/KQNhucUNCyt6/b4EExY/vZUB3vp8aT5S0QAdX5ecrrew/tOVciqurYsCPwvUovIq5wJp3nKLzIrlAy6FFtmODy8Dn+6nxMhPBQNobfGFy95XAXwzlRDt/fMBzY3rCklp4wDeJQWCVPcHABEXi1L2E/b8ibHh6pYGMQFXBqKROIJnAHVpkO1+QfMC6SQwCS6zBQPCnxktH68TA1JrmHZehu8B5WKg1zUp3wBK3r6gtWuU/EaG2sult9j9VcNP6tjvEP+RO6WA9T45AXdxGA3i7E0DXUdUEUfx/wA/hDLxiH9C/ks8rnnqEUsCLVBhbCGZwQD0K16NgNMlAPL1SliFVmkAnMQisDOHKwOAtkKB4yoJAMErQX+glTkA=\",\"dtype\":\"float64\",\"order\":\"little\",\"shape\":[100]}},\"selected\":{\"id\":\"1690\"},\"selection_policy\":{\"id\":\"1689\"}},\"id\":\"1676\",\"type\":\"ColumnDataSource\"},{\"attributes\":{\"overlay\":{\"id\":\"1668\"}},\"id\":\"1664\",\"type\":\"BoxZoomTool\"},{\"attributes\":{},\"id\":\"1652\",\"type\":\"LinearScale\"},{\"attributes\":{\"fill_color\":{\"value\":\"black\"},\"size\":{\"value\":12},\"x\":{\"field\":\"x\"},\"y\":{\"field\":\"y\"}},\"id\":\"1677\",\"type\":\"Circle\"},{\"attributes\":{},\"id\":\"1684\",\"type\":\"BasicTickFormatter\"},{\"attributes\":{\"coordinates\":null,\"data_source\":{\"id\":\"1694\"},\"glyph\":{\"id\":\"1695\"},\"group\":null,\"hover_glyph\":null,\"muted_glyph\":{\"id\":\"1697\"},\"nonselection_glyph\":{\"id\":\"1696\"},\"view\":{\"id\":\"1699\"}},\"id\":\"1698\",\"type\":\"GlyphRenderer\"},{\"attributes\":{},\"id\":\"1685\",\"type\":\"AllLabels\"},{\"attributes\":{},\"id\":\"1655\",\"type\":\"BasicTicker\"},{\"attributes\":{},\"id\":\"1710\",\"type\":\"Selection\"},{\"attributes\":{\"label\":{\"value\":\"y24 - fit\"},\"renderers\":[{\"id\":\"1698\"}]},\"id\":\"1712\",\"type\":\"LegendItem\"},{\"attributes\":{},\"id\":\"1687\",\"type\":\"BasicTickFormatter\"},{\"attributes\":{},\"id\":\"1662\",\"type\":\"PanTool\"},{\"attributes\":{\"tools\":[{\"id\":\"1662\"},{\"id\":\"1663\"},{\"id\":\"1664\"},{\"id\":\"1665\"},{\"id\":\"1666\"},{\"id\":\"1667\"}]},\"id\":\"1669\",\"type\":\"Toolbar\"},{\"attributes\":{},\"id\":\"1688\",\"type\":\"AllLabels\"},{\"attributes\":{\"coordinates\":null,\"formatter\":{\"id\":\"1684\"},\"group\":null,\"major_label_policy\":{\"id\":\"1685\"},\"ticker\":{\"id\":\"1659\"}},\"id\":\"1658\",\"type\":\"LinearAxis\"},{\"attributes\":{},\"id\":\"1663\",\"type\":\"WheelZoomTool\"},{\"attributes\":{\"bottom_units\":\"screen\",\"coordinates\":null,\"fill_alpha\":0.5,\"fill_color\":\"lightgrey\",\"group\":null,\"left_units\":\"screen\",\"level\":\"overlay\",\"line_alpha\":1.0,\"line_color\":\"black\",\"line_dash\":[4,4],\"line_width\":2,\"right_units\":\"screen\",\"syncable\":false,\"top_units\":\"screen\"},\"id\":\"1668\",\"type\":\"BoxAnnotation\"},{\"attributes\":{},\"id\":\"1709\",\"type\":\"UnionRenderers\"},{\"attributes\":{\"source\":{\"id\":\"1676\"}},\"id\":\"1681\",\"type\":\"CDSView\"},{\"attributes\":{\"label\":{\"value\":\"y - test\"},\"renderers\":[{\"id\":\"1680\"}]},\"id\":\"1693\",\"type\":\"LegendItem\"},{\"attributes\":{\"fill_alpha\":{\"value\":0.1},\"fill_color\":{\"value\":\"green\"},\"hatch_alpha\":{\"value\":0.1},\"hatch_color\":{\"value\":\"green\"},\"line_alpha\":{\"value\":0.1},\"line_color\":{\"value\":\"green\"},\"marker\":{\"value\":\"square\"},\"size\":{\"value\":7},\"x\":{\"field\":\"x\"},\"y\":{\"field\":\"y\"}},\"id\":\"1696\",\"type\":\"Scatter\"},{\"attributes\":{},\"id\":\"1667\",\"type\":\"HelpTool\"},{\"attributes\":{},\"id\":\"1659\",\"type\":\"BasicTicker\"},{\"attributes\":{\"coordinates\":null,\"group\":null,\"text\":\"Fitting y24-fit on y-test\"},\"id\":\"1644\",\"type\":\"Title\"},{\"attributes\":{},\"id\":\"1689\",\"type\":\"UnionRenderers\"},{\"attributes\":{\"fill_alpha\":{\"value\":0.2},\"fill_color\":{\"value\":\"green\"},\"hatch_alpha\":{\"value\":0.2},\"hatch_color\":{\"value\":\"green\"},\"line_alpha\":{\"value\":0.2},\"line_color\":{\"value\":\"green\"},\"marker\":{\"value\":\"square\"},\"size\":{\"value\":7},\"x\":{\"field\":\"x\"},\"y\":{\"field\":\"y\"}},\"id\":\"1697\",\"type\":\"Scatter\"},{\"attributes\":{},\"id\":\"1650\",\"type\":\"LinearScale\"},{\"attributes\":{},\"id\":\"1690\",\"type\":\"Selection\"},{\"attributes\":{\"coordinates\":null,\"formatter\":{\"id\":\"1687\"},\"group\":null,\"major_label_policy\":{\"id\":\"1688\"},\"ticker\":{\"id\":\"1655\"}},\"id\":\"1654\",\"type\":\"LinearAxis\"},{\"attributes\":{\"coordinates\":null,\"data_source\":{\"id\":\"1676\"},\"glyph\":{\"id\":\"1677\"},\"group\":null,\"hover_glyph\":null,\"muted_glyph\":{\"id\":\"1679\"},\"nonselection_glyph\":{\"id\":\"1678\"},\"view\":{\"id\":\"1681\"}},\"id\":\"1680\",\"type\":\"GlyphRenderer\"},{\"attributes\":{\"source\":{\"id\":\"1694\"}},\"id\":\"1699\",\"type\":\"CDSView\"},{\"attributes\":{\"fill_alpha\":{\"value\":0.1},\"fill_color\":{\"value\":\"black\"},\"hatch_alpha\":{\"value\":0.1},\"line_alpha\":{\"value\":0.1},\"size\":{\"value\":12},\"x\":{\"field\":\"x\"},\"y\":{\"field\":\"y\"}},\"id\":\"1678\",\"type\":\"Circle\"}],\"root_ids\":[\"1643\"]},\"title\":\"Bokeh Application\",\"version\":\"2.4.3\"}};\n",
       "  const render_items = [{\"docid\":\"ad6d922a-36a4-47f0-a178-f1ab3c4a8425\",\"root_ids\":[\"1643\"],\"roots\":{\"1643\":\"6a1a8ea7-e6bd-4262-aee1-b6151bc60f71\"}}];\n",
       "  root.Bokeh.embed.embed_items_notebook(docs_json, render_items);\n",
       "  }\n",
       "  if (root.Bokeh !== undefined) {\n",
       "    embed_document(root);\n",
       "  } else {\n",
       "    let attempts = 0;\n",
       "    const timer = setInterval(function(root) {\n",
       "      if (root.Bokeh !== undefined) {\n",
       "        clearInterval(timer);\n",
       "        embed_document(root);\n",
       "      } else {\n",
       "        attempts++;\n",
       "        if (attempts > 100) {\n",
       "          clearInterval(timer);\n",
       "          console.log(\"Bokeh: ERROR: Unable to run BokehJS code because BokehJS library is missing\");\n",
       "        }\n",
       "      }\n",
       "    }, 10, root)\n",
       "  }\n",
       "})(window);"
      ],
      "application/vnd.bokehjs_exec.v0+json": ""
     },
     "metadata": {
      "application/vnd.bokehjs_exec.v0+json": {
       "id": "1643"
      }
     },
     "output_type": "display_data"
    }
   ],
   "source": [
    "# Conclusively, we can plot the fit dataset (idf_in_test[[x, y24]]) on the test dataset to study the curve fit. \n",
    "\n",
    "e = figure(plot_width=650, plot_height=350, title= \"Fitting y24-fit on y-test\")\n",
    "\n",
    "e.circle(test.x, test.y, size=12, color='black', legend_label=\"y - test\")\n",
    "e.square(fit.x, fit.y24, size=7,color='green', legend_label=\"y24 - fit\")\n",
    "\n",
    "e.legend.title = \"Legend.\"\n",
    "e.legend.location = \"bottom_right\"\n",
    "\n",
    "show(e)"
   ]
  },
  {
   "cell_type": "code",
   "execution_count": 26,
   "id": "6864dd69",
   "metadata": {},
   "outputs": [
    {
     "name": "stdout",
     "output_type": "stream",
     "text": [
      "1.08\n"
     ]
    }
   ],
   "source": [
    "### Computing the r-squared for this result\n",
    "\n",
    "pe = ols_pwp.pwpEvaluate()\n",
    "rs_5 = pe.r_sqr(test['y'], idf_in_test['y24'])\n",
    "\n",
    "print(rs_5)"
   ]
  },
  {
   "cell_type": "markdown",
   "id": "2b0b7588",
   "metadata": {},
   "source": [
    "### Conclusion\n",
    "\n",
    "Therefore, the fitting function is that contained in the fit dataset."
   ]
  },
  {
   "cell_type": "markdown",
   "id": "ec5a104e",
   "metadata": {},
   "source": [
    "### Creating the Database and Writing the Datasets into Database Tables\n",
    "\n",
    "At this stage, it is necessary to write all the DataFrame datasets into an sql database. So this will involve the 3 datasets\n",
    "provided for the project and the additional two datasets created while working on the project.\n",
    "\n",
    "To begin this next step, importing the important libraries is very important."
   ]
  },
  {
   "cell_type": "code",
   "execution_count": 27,
   "id": "7ba35659",
   "metadata": {},
   "outputs": [],
   "source": [
    "# Importing the libraries and creating the connection object\n",
    "\n",
    "import sqlite3\n",
    "from sqlalchemy import create_engine, text\n",
    "engine = create_engine('sqlite:///pwpDatasets', echo=True, future=True)\n",
    "conn = engine.connect()"
   ]
  },
  {
   "cell_type": "code",
   "execution_count": 28,
   "id": "c20bc81b",
   "metadata": {},
   "outputs": [
    {
     "name": "stdout",
     "output_type": "stream",
     "text": [
      "2023-04-20 09:27:05,954 INFO sqlalchemy.engine.Engine BEGIN (implicit)\n",
      "2023-04-20 09:27:05,955 INFO sqlalchemy.engine.Engine CREATE DATABASE pwpDatasets;\n",
      "2023-04-20 09:27:05,956 INFO sqlalchemy.engine.Engine [generated in 0.00164s] ()\n"
     ]
    },
    {
     "ename": "OperationalError",
     "evalue": "(sqlite3.OperationalError) near \"DATABASE\": syntax error\n[SQL: CREATE DATABASE pwpDatasets;]\n(Background on this error at: https://sqlalche.me/e/20/e3q8)",
     "output_type": "error",
     "traceback": [
      "\u001b[1;31m---------------------------------------------------------------------------\u001b[0m",
      "\u001b[1;31mOperationalError\u001b[0m                          Traceback (most recent call last)",
      "\u001b[1;32m~\\anaconda3\\lib\\site-packages\\sqlalchemy\\engine\\base.py\u001b[0m in \u001b[0;36m_exec_single_context\u001b[1;34m(self, dialect, context, statement, parameters)\u001b[0m\n\u001b[0;32m   1963\u001b[0m                 \u001b[1;32mif\u001b[0m \u001b[1;32mnot\u001b[0m \u001b[0mevt_handled\u001b[0m\u001b[1;33m:\u001b[0m\u001b[1;33m\u001b[0m\u001b[1;33m\u001b[0m\u001b[0m\n\u001b[1;32m-> 1964\u001b[1;33m                     self.dialect.do_execute(\n\u001b[0m\u001b[0;32m   1965\u001b[0m                         \u001b[0mcursor\u001b[0m\u001b[1;33m,\u001b[0m \u001b[0mstr_statement\u001b[0m\u001b[1;33m,\u001b[0m \u001b[0meffective_parameters\u001b[0m\u001b[1;33m,\u001b[0m \u001b[0mcontext\u001b[0m\u001b[1;33m\u001b[0m\u001b[1;33m\u001b[0m\u001b[0m\n",
      "\u001b[1;32m~\\anaconda3\\lib\\site-packages\\sqlalchemy\\engine\\default.py\u001b[0m in \u001b[0;36mdo_execute\u001b[1;34m(self, cursor, statement, parameters, context)\u001b[0m\n\u001b[0;32m    747\u001b[0m     \u001b[1;32mdef\u001b[0m \u001b[0mdo_execute\u001b[0m\u001b[1;33m(\u001b[0m\u001b[0mself\u001b[0m\u001b[1;33m,\u001b[0m \u001b[0mcursor\u001b[0m\u001b[1;33m,\u001b[0m \u001b[0mstatement\u001b[0m\u001b[1;33m,\u001b[0m \u001b[0mparameters\u001b[0m\u001b[1;33m,\u001b[0m \u001b[0mcontext\u001b[0m\u001b[1;33m=\u001b[0m\u001b[1;32mNone\u001b[0m\u001b[1;33m)\u001b[0m\u001b[1;33m:\u001b[0m\u001b[1;33m\u001b[0m\u001b[1;33m\u001b[0m\u001b[0m\n\u001b[1;32m--> 748\u001b[1;33m         \u001b[0mcursor\u001b[0m\u001b[1;33m.\u001b[0m\u001b[0mexecute\u001b[0m\u001b[1;33m(\u001b[0m\u001b[0mstatement\u001b[0m\u001b[1;33m,\u001b[0m \u001b[0mparameters\u001b[0m\u001b[1;33m)\u001b[0m\u001b[1;33m\u001b[0m\u001b[1;33m\u001b[0m\u001b[0m\n\u001b[0m\u001b[0;32m    749\u001b[0m \u001b[1;33m\u001b[0m\u001b[0m\n",
      "\u001b[1;31mOperationalError\u001b[0m: near \"DATABASE\": syntax error",
      "\nThe above exception was the direct cause of the following exception:\n",
      "\u001b[1;31mOperationalError\u001b[0m                          Traceback (most recent call last)",
      "\u001b[1;32m~\\AppData\\Local\\Temp\\ipykernel_12508\\451958736.py\u001b[0m in \u001b[0;36m<module>\u001b[1;34m\u001b[0m\n\u001b[0;32m      2\u001b[0m \u001b[1;33m\u001b[0m\u001b[0m\n\u001b[0;32m      3\u001b[0m \u001b[0mquery1\u001b[0m \u001b[1;33m=\u001b[0m \u001b[1;34m\"CREATE DATABASE pwpDatasets;\"\u001b[0m\u001b[1;33m\u001b[0m\u001b[1;33m\u001b[0m\u001b[0m\n\u001b[1;32m----> 4\u001b[1;33m \u001b[0mresult1\u001b[0m \u001b[1;33m=\u001b[0m \u001b[0mconn\u001b[0m\u001b[1;33m.\u001b[0m\u001b[0mexecute\u001b[0m\u001b[1;33m(\u001b[0m\u001b[0mtext\u001b[0m\u001b[1;33m(\u001b[0m\u001b[0mquery1\u001b[0m\u001b[1;33m)\u001b[0m\u001b[1;33m)\u001b[0m\u001b[1;33m\u001b[0m\u001b[1;33m\u001b[0m\u001b[0m\n\u001b[0m\u001b[0;32m      5\u001b[0m \u001b[0mconn\u001b[0m\u001b[1;33m.\u001b[0m\u001b[0mcommit\u001b[0m\u001b[1;33m(\u001b[0m\u001b[1;33m)\u001b[0m\u001b[1;33m\u001b[0m\u001b[1;33m\u001b[0m\u001b[0m\n",
      "\u001b[1;32m~\\anaconda3\\lib\\site-packages\\sqlalchemy\\engine\\base.py\u001b[0m in \u001b[0;36mexecute\u001b[1;34m(self, statement, parameters, execution_options)\u001b[0m\n\u001b[0;32m   1412\u001b[0m             \u001b[1;32mraise\u001b[0m \u001b[0mexc\u001b[0m\u001b[1;33m.\u001b[0m\u001b[0mObjectNotExecutableError\u001b[0m\u001b[1;33m(\u001b[0m\u001b[0mstatement\u001b[0m\u001b[1;33m)\u001b[0m \u001b[1;32mfrom\u001b[0m \u001b[0merr\u001b[0m\u001b[1;33m\u001b[0m\u001b[1;33m\u001b[0m\u001b[0m\n\u001b[0;32m   1413\u001b[0m         \u001b[1;32melse\u001b[0m\u001b[1;33m:\u001b[0m\u001b[1;33m\u001b[0m\u001b[1;33m\u001b[0m\u001b[0m\n\u001b[1;32m-> 1414\u001b[1;33m             return meth(\n\u001b[0m\u001b[0;32m   1415\u001b[0m                 \u001b[0mself\u001b[0m\u001b[1;33m,\u001b[0m\u001b[1;33m\u001b[0m\u001b[1;33m\u001b[0m\u001b[0m\n\u001b[0;32m   1416\u001b[0m                 \u001b[0mdistilled_parameters\u001b[0m\u001b[1;33m,\u001b[0m\u001b[1;33m\u001b[0m\u001b[1;33m\u001b[0m\u001b[0m\n",
      "\u001b[1;32m~\\anaconda3\\lib\\site-packages\\sqlalchemy\\sql\\elements.py\u001b[0m in \u001b[0;36m_execute_on_connection\u001b[1;34m(self, connection, distilled_params, execution_options)\u001b[0m\n\u001b[0;32m    484\u001b[0m             \u001b[1;32mif\u001b[0m \u001b[0mTYPE_CHECKING\u001b[0m\u001b[1;33m:\u001b[0m\u001b[1;33m\u001b[0m\u001b[1;33m\u001b[0m\u001b[0m\n\u001b[0;32m    485\u001b[0m                 \u001b[1;32massert\u001b[0m \u001b[0misinstance\u001b[0m\u001b[1;33m(\u001b[0m\u001b[0mself\u001b[0m\u001b[1;33m,\u001b[0m \u001b[0mExecutable\u001b[0m\u001b[1;33m)\u001b[0m\u001b[1;33m\u001b[0m\u001b[1;33m\u001b[0m\u001b[0m\n\u001b[1;32m--> 486\u001b[1;33m             return connection._execute_clauseelement(\n\u001b[0m\u001b[0;32m    487\u001b[0m                 \u001b[0mself\u001b[0m\u001b[1;33m,\u001b[0m \u001b[0mdistilled_params\u001b[0m\u001b[1;33m,\u001b[0m \u001b[0mexecution_options\u001b[0m\u001b[1;33m\u001b[0m\u001b[1;33m\u001b[0m\u001b[0m\n\u001b[0;32m    488\u001b[0m             )\n",
      "\u001b[1;32m~\\anaconda3\\lib\\site-packages\\sqlalchemy\\engine\\base.py\u001b[0m in \u001b[0;36m_execute_clauseelement\u001b[1;34m(self, elem, distilled_parameters, execution_options)\u001b[0m\n\u001b[0;32m   1636\u001b[0m             \u001b[0mlinting\u001b[0m\u001b[1;33m=\u001b[0m\u001b[0mself\u001b[0m\u001b[1;33m.\u001b[0m\u001b[0mdialect\u001b[0m\u001b[1;33m.\u001b[0m\u001b[0mcompiler_linting\u001b[0m \u001b[1;33m|\u001b[0m \u001b[0mcompiler\u001b[0m\u001b[1;33m.\u001b[0m\u001b[0mWARN_LINTING\u001b[0m\u001b[1;33m,\u001b[0m\u001b[1;33m\u001b[0m\u001b[1;33m\u001b[0m\u001b[0m\n\u001b[0;32m   1637\u001b[0m         )\n\u001b[1;32m-> 1638\u001b[1;33m         ret = self._execute_context(\n\u001b[0m\u001b[0;32m   1639\u001b[0m             \u001b[0mdialect\u001b[0m\u001b[1;33m,\u001b[0m\u001b[1;33m\u001b[0m\u001b[1;33m\u001b[0m\u001b[0m\n\u001b[0;32m   1640\u001b[0m             \u001b[0mdialect\u001b[0m\u001b[1;33m.\u001b[0m\u001b[0mexecution_ctx_cls\u001b[0m\u001b[1;33m.\u001b[0m\u001b[0m_init_compiled\u001b[0m\u001b[1;33m,\u001b[0m\u001b[1;33m\u001b[0m\u001b[1;33m\u001b[0m\u001b[0m\n",
      "\u001b[1;32m~\\anaconda3\\lib\\site-packages\\sqlalchemy\\engine\\base.py\u001b[0m in \u001b[0;36m_execute_context\u001b[1;34m(self, dialect, constructor, statement, parameters, execution_options, *args, **kw)\u001b[0m\n\u001b[0;32m   1840\u001b[0m             )\n\u001b[0;32m   1841\u001b[0m         \u001b[1;32melse\u001b[0m\u001b[1;33m:\u001b[0m\u001b[1;33m\u001b[0m\u001b[1;33m\u001b[0m\u001b[0m\n\u001b[1;32m-> 1842\u001b[1;33m             return self._exec_single_context(\n\u001b[0m\u001b[0;32m   1843\u001b[0m                 \u001b[0mdialect\u001b[0m\u001b[1;33m,\u001b[0m \u001b[0mcontext\u001b[0m\u001b[1;33m,\u001b[0m \u001b[0mstatement\u001b[0m\u001b[1;33m,\u001b[0m \u001b[0mparameters\u001b[0m\u001b[1;33m\u001b[0m\u001b[1;33m\u001b[0m\u001b[0m\n\u001b[0;32m   1844\u001b[0m             )\n",
      "\u001b[1;32m~\\anaconda3\\lib\\site-packages\\sqlalchemy\\engine\\base.py\u001b[0m in \u001b[0;36m_exec_single_context\u001b[1;34m(self, dialect, context, statement, parameters)\u001b[0m\n\u001b[0;32m   1981\u001b[0m \u001b[1;33m\u001b[0m\u001b[0m\n\u001b[0;32m   1982\u001b[0m         \u001b[1;32mexcept\u001b[0m \u001b[0mBaseException\u001b[0m \u001b[1;32mas\u001b[0m \u001b[0me\u001b[0m\u001b[1;33m:\u001b[0m\u001b[1;33m\u001b[0m\u001b[1;33m\u001b[0m\u001b[0m\n\u001b[1;32m-> 1983\u001b[1;33m             self._handle_dbapi_exception(\n\u001b[0m\u001b[0;32m   1984\u001b[0m                 \u001b[0me\u001b[0m\u001b[1;33m,\u001b[0m \u001b[0mstr_statement\u001b[0m\u001b[1;33m,\u001b[0m \u001b[0meffective_parameters\u001b[0m\u001b[1;33m,\u001b[0m \u001b[0mcursor\u001b[0m\u001b[1;33m,\u001b[0m \u001b[0mcontext\u001b[0m\u001b[1;33m\u001b[0m\u001b[1;33m\u001b[0m\u001b[0m\n\u001b[0;32m   1985\u001b[0m             )\n",
      "\u001b[1;32m~\\anaconda3\\lib\\site-packages\\sqlalchemy\\engine\\base.py\u001b[0m in \u001b[0;36m_handle_dbapi_exception\u001b[1;34m(self, e, statement, parameters, cursor, context, is_sub_exec)\u001b[0m\n\u001b[0;32m   2324\u001b[0m             \u001b[1;32melif\u001b[0m \u001b[0mshould_wrap\u001b[0m\u001b[1;33m:\u001b[0m\u001b[1;33m\u001b[0m\u001b[1;33m\u001b[0m\u001b[0m\n\u001b[0;32m   2325\u001b[0m                 \u001b[1;32massert\u001b[0m \u001b[0msqlalchemy_exception\u001b[0m \u001b[1;32mis\u001b[0m \u001b[1;32mnot\u001b[0m \u001b[1;32mNone\u001b[0m\u001b[1;33m\u001b[0m\u001b[1;33m\u001b[0m\u001b[0m\n\u001b[1;32m-> 2326\u001b[1;33m                 \u001b[1;32mraise\u001b[0m \u001b[0msqlalchemy_exception\u001b[0m\u001b[1;33m.\u001b[0m\u001b[0mwith_traceback\u001b[0m\u001b[1;33m(\u001b[0m\u001b[0mexc_info\u001b[0m\u001b[1;33m[\u001b[0m\u001b[1;36m2\u001b[0m\u001b[1;33m]\u001b[0m\u001b[1;33m)\u001b[0m \u001b[1;32mfrom\u001b[0m \u001b[0me\u001b[0m\u001b[1;33m\u001b[0m\u001b[1;33m\u001b[0m\u001b[0m\n\u001b[0m\u001b[0;32m   2327\u001b[0m             \u001b[1;32melse\u001b[0m\u001b[1;33m:\u001b[0m\u001b[1;33m\u001b[0m\u001b[1;33m\u001b[0m\u001b[0m\n\u001b[0;32m   2328\u001b[0m                 \u001b[1;32massert\u001b[0m \u001b[0mexc_info\u001b[0m\u001b[1;33m[\u001b[0m\u001b[1;36m1\u001b[0m\u001b[1;33m]\u001b[0m \u001b[1;32mis\u001b[0m \u001b[1;32mnot\u001b[0m \u001b[1;32mNone\u001b[0m\u001b[1;33m\u001b[0m\u001b[1;33m\u001b[0m\u001b[0m\n",
      "\u001b[1;32m~\\anaconda3\\lib\\site-packages\\sqlalchemy\\engine\\base.py\u001b[0m in \u001b[0;36m_exec_single_context\u001b[1;34m(self, dialect, context, statement, parameters)\u001b[0m\n\u001b[0;32m   1962\u001b[0m                             \u001b[1;32mbreak\u001b[0m\u001b[1;33m\u001b[0m\u001b[1;33m\u001b[0m\u001b[0m\n\u001b[0;32m   1963\u001b[0m                 \u001b[1;32mif\u001b[0m \u001b[1;32mnot\u001b[0m \u001b[0mevt_handled\u001b[0m\u001b[1;33m:\u001b[0m\u001b[1;33m\u001b[0m\u001b[1;33m\u001b[0m\u001b[0m\n\u001b[1;32m-> 1964\u001b[1;33m                     self.dialect.do_execute(\n\u001b[0m\u001b[0;32m   1965\u001b[0m                         \u001b[0mcursor\u001b[0m\u001b[1;33m,\u001b[0m \u001b[0mstr_statement\u001b[0m\u001b[1;33m,\u001b[0m \u001b[0meffective_parameters\u001b[0m\u001b[1;33m,\u001b[0m \u001b[0mcontext\u001b[0m\u001b[1;33m\u001b[0m\u001b[1;33m\u001b[0m\u001b[0m\n\u001b[0;32m   1966\u001b[0m                     )\n",
      "\u001b[1;32m~\\anaconda3\\lib\\site-packages\\sqlalchemy\\engine\\default.py\u001b[0m in \u001b[0;36mdo_execute\u001b[1;34m(self, cursor, statement, parameters, context)\u001b[0m\n\u001b[0;32m    746\u001b[0m \u001b[1;33m\u001b[0m\u001b[0m\n\u001b[0;32m    747\u001b[0m     \u001b[1;32mdef\u001b[0m \u001b[0mdo_execute\u001b[0m\u001b[1;33m(\u001b[0m\u001b[0mself\u001b[0m\u001b[1;33m,\u001b[0m \u001b[0mcursor\u001b[0m\u001b[1;33m,\u001b[0m \u001b[0mstatement\u001b[0m\u001b[1;33m,\u001b[0m \u001b[0mparameters\u001b[0m\u001b[1;33m,\u001b[0m \u001b[0mcontext\u001b[0m\u001b[1;33m=\u001b[0m\u001b[1;32mNone\u001b[0m\u001b[1;33m)\u001b[0m\u001b[1;33m:\u001b[0m\u001b[1;33m\u001b[0m\u001b[1;33m\u001b[0m\u001b[0m\n\u001b[1;32m--> 748\u001b[1;33m         \u001b[0mcursor\u001b[0m\u001b[1;33m.\u001b[0m\u001b[0mexecute\u001b[0m\u001b[1;33m(\u001b[0m\u001b[0mstatement\u001b[0m\u001b[1;33m,\u001b[0m \u001b[0mparameters\u001b[0m\u001b[1;33m)\u001b[0m\u001b[1;33m\u001b[0m\u001b[1;33m\u001b[0m\u001b[0m\n\u001b[0m\u001b[0;32m    749\u001b[0m \u001b[1;33m\u001b[0m\u001b[0m\n\u001b[0;32m    750\u001b[0m     \u001b[1;32mdef\u001b[0m \u001b[0mdo_execute_no_params\u001b[0m\u001b[1;33m(\u001b[0m\u001b[0mself\u001b[0m\u001b[1;33m,\u001b[0m \u001b[0mcursor\u001b[0m\u001b[1;33m,\u001b[0m \u001b[0mstatement\u001b[0m\u001b[1;33m,\u001b[0m \u001b[0mcontext\u001b[0m\u001b[1;33m=\u001b[0m\u001b[1;32mNone\u001b[0m\u001b[1;33m)\u001b[0m\u001b[1;33m:\u001b[0m\u001b[1;33m\u001b[0m\u001b[1;33m\u001b[0m\u001b[0m\n",
      "\u001b[1;31mOperationalError\u001b[0m: (sqlite3.OperationalError) near \"DATABASE\": syntax error\n[SQL: CREATE DATABASE pwpDatasets;]\n(Background on this error at: https://sqlalche.me/e/20/e3q8)"
     ]
    }
   ],
   "source": [
    "# Creating the pwpDatasets Database\n",
    "\n",
    "query1 = \"CREATE DATABASE pwpDatasets;\"\n",
    "result1 = conn.execute(text(query1))\n",
    "conn.commit()"
   ]
  },
  {
   "cell_type": "code",
   "execution_count": null,
   "id": "978d9496",
   "metadata": {},
   "outputs": [],
   "source": [
    "### Creating the Tables inside the pwpDatasets Database:\n",
    "1.     train\n",
    "2.     ideal\n",
    "3.     test\n",
    "4.     idealfour\n",
    "5.     fit"
   ]
  },
  {
   "cell_type": "code",
   "execution_count": null,
   "id": "550d01e2",
   "metadata": {},
   "outputs": [],
   "source": [
    "# Creating the train table inside the pwpDatasets Database\n",
    "\n",
    "query2 = \"CREATE TABLE IF NOT EXISTS train(x DECIMAL, y1 DECIMAL, y2 DECIMAL, y3 DECIMAL, y4 DECIMAL);\"\n",
    "result2 = conn.execute(text(query2))\n",
    "conn.commit()"
   ]
  },
  {
   "cell_type": "code",
   "execution_count": null,
   "id": "697fb876",
   "metadata": {},
   "outputs": [],
   "source": [
    "# Creating the ideal table inside the pwpDatasets Database\n",
    "\n",
    "query3 = \"CREATE TABLE IF NOT EXISTS ideal(x DECIMAL, y1 DECIMAL, y2 DECIMAL, y3 DECIMAL, y4 DECIMAL, y5 DECIMAL, y6 DECIMAL, y7 DECIMAL, y8 DECIMAL, y9 DECIMAL, y10 DECIMAL, y11 DECIMAL, y12 DECIMAL, y13 DECIMAL, y14 DECIMAL, y15 DECIMAL, y16 DECIMAL, y17 DECIMAL, y18\tDECIMAL, y19 DECIMAL, y20 DECIMAL, y21 DECIMAL, y22 DECIMAL, y23 DECIMAL, y24 DECIMAL, y25\tDECIMAL, y26 DECIMAL, y27 DECIMAL, y28 DECIMAL, y29 DECIMAL, y30 DECIMAL, y31 DECIMAL, y32 DECIMAL, y33 DECIMAL, y34\tDECIMAL, y35 DECIMAL, y36 DECIMAL, y37 DECIMAL, y38 DECIMAL, y39 DECIMAL, y40 DECIMAL, y41 DECIMAL, y42 DECIMAL, y43 DECIMAL, y44 DECIMAL, y45\tDECIMAL, y46 DECIMAL, y47 DECIMAL, y48 DECIMAL, y49 DECIMAL, y50 DECIMAL);\"\n",
    "result3 = conn.execute(text(query3))\n",
    "conn.commit()"
   ]
  },
  {
   "cell_type": "code",
   "execution_count": null,
   "id": "522b7f26",
   "metadata": {},
   "outputs": [],
   "source": [
    "# Creating the test table inside the pwpDatasets Database\n",
    "\n",
    "query5 = \"CREATE TABLE IF NOT EXISTS test(x DECIMAL, y DECIMAL);\"\n",
    "result5 = conn.execute(text(query5))\n",
    "conn.commit()"
   ]
  },
  {
   "cell_type": "code",
   "execution_count": null,
   "id": "7eb0f241",
   "metadata": {},
   "outputs": [],
   "source": [
    "# Creating the idealfour table inside the pwpDatasets Database\n",
    "\n",
    "query4 = \"CREATE TABLE IF NOT EXISTS idealfour(x DECIMAL, y1 DECIMAL, y2 DECIMAL, y3 DECIMAL, y4 DECIMAL);\"\n",
    "result4 = conn.execute(text(query4))\n",
    "conn.commit()\n"
   ]
  },
  {
   "cell_type": "code",
   "execution_count": null,
   "id": "cc3549b9",
   "metadata": {},
   "outputs": [],
   "source": [
    "# Creating the fit table inside the pwpDatasets Database\n",
    "\n",
    "query6 = \"CREATE TABLE IF NOT EXISTS fit(x DECIMAL, y24 DECIMAL);\"\n",
    "result6 = conn.execute(text(query6))\n",
    "conn.commit()"
   ]
  },
  {
   "cell_type": "code",
   "execution_count": null,
   "id": "60d53101",
   "metadata": {},
   "outputs": [],
   "source": [
    "### Ingesting the datasets into the respective tables:\n",
    "\n",
    "1.     train --> train dataset\n",
    "2.     ideal --> ideal dataset\n",
    "3.     test --> test dataset\n",
    "4.     idealfour --> idealfour dataset\n",
    "5.     fit --> fit dataset"
   ]
  },
  {
   "cell_type": "code",
   "execution_count": null,
   "id": "ef2c6f8d",
   "metadata": {},
   "outputs": [],
   "source": [
    "# Ingesting the train Dataframe into the train sql table.\n",
    "\n",
    "train.to_sql(\"train\", engine, if_exists=\"replace\", index=False)"
   ]
  },
  {
   "cell_type": "code",
   "execution_count": null,
   "id": "e0b2e6fa",
   "metadata": {},
   "outputs": [],
   "source": [
    "# Querying the train table from the pwpDatasets database\n",
    "\n",
    "query7 = \"SELECT * FROM train LIMIT 5\"\n",
    "result7 = conn.execute(text(query7))\n",
    "for res7 in result7:\n",
    "    print(res7)"
   ]
  },
  {
   "cell_type": "code",
   "execution_count": null,
   "id": "17fa3811",
   "metadata": {},
   "outputs": [],
   "source": [
    "# Ingesting the ideal Dataframe into the train sql table.\n",
    "\n",
    "ideal.to_sql(\"ideal\", engine, if_exists=\"replace\", index=False)"
   ]
  },
  {
   "cell_type": "code",
   "execution_count": null,
   "id": "ba3d7823",
   "metadata": {},
   "outputs": [],
   "source": [
    "# Querying the ideal table from the database\n",
    "\n",
    "query8 = \"SELECT * FROM ideal LIMIT 5\"\n",
    "result8 = conn.execute(text(query8))\n",
    "for res8 in result8:\n",
    "    print(res8)"
   ]
  },
  {
   "cell_type": "code",
   "execution_count": null,
   "id": "dee856e8",
   "metadata": {},
   "outputs": [],
   "source": [
    "# Ingesting the test Dataframe into the train sql table.\n",
    "\n",
    "test.to_sql(\"test\", engine, if_exists=\"replace\", index=False)"
   ]
  },
  {
   "cell_type": "code",
   "execution_count": null,
   "id": "67347277",
   "metadata": {},
   "outputs": [],
   "source": [
    "# Querying the test table from the database\n",
    "\n",
    "query9 = \"SELECT * FROM test LIMIT 5\"\n",
    "result9 = conn.execute(text(query9))\n",
    "for res9 in result9:\n",
    "    print(res9)"
   ]
  },
  {
   "cell_type": "code",
   "execution_count": null,
   "id": "16c45f70",
   "metadata": {},
   "outputs": [],
   "source": [
    "# Ingesting the idealfour Dataframe into the train sql table.\n",
    "\n",
    "idealfour.to_sql(\"idealfour\", engine, if_exists=\"replace\", index=False)"
   ]
  },
  {
   "cell_type": "code",
   "execution_count": null,
   "id": "984ca78d",
   "metadata": {},
   "outputs": [],
   "source": [
    "# Querying the idealfour table from the database\n",
    "\n",
    "query10 = \"SELECT * FROM test LIMIT 5\"\n",
    "result10 = conn.execute(text(query10))\n",
    "for res10 in result10:\n",
    "    print(res10)"
   ]
  },
  {
   "cell_type": "code",
   "execution_count": null,
   "id": "89579973",
   "metadata": {},
   "outputs": [],
   "source": [
    "# Ingesting the fit Dataframe into the train sql table.\n",
    "\n",
    "fit.to_sql(\"fit\", engine, if_exists=\"replace\", index=False)"
   ]
  },
  {
   "cell_type": "code",
   "execution_count": null,
   "id": "fcfb4333",
   "metadata": {},
   "outputs": [],
   "source": [
    "# Querying the idealfour table from the database\n",
    "\n",
    "query11 = \"SELECT * FROM test LIMIT 5\"\n",
    "result11 = conn.execute(text(query11))\n",
    "for res11 in result11:\n",
    "    print(res11)"
   ]
  },
  {
   "cell_type": "code",
   "execution_count": null,
   "id": "6f886837",
   "metadata": {},
   "outputs": [],
   "source": []
  }
 ],
 "metadata": {
  "kernelspec": {
   "display_name": "Python 3 (ipykernel)",
   "language": "python",
   "name": "python3"
  },
  "language_info": {
   "codemirror_mode": {
    "name": "ipython",
    "version": 3
   },
   "file_extension": ".py",
   "mimetype": "text/x-python",
   "name": "python",
   "nbconvert_exporter": "python",
   "pygments_lexer": "ipython3",
   "version": "3.9.13"
  }
 },
 "nbformat": 4,
 "nbformat_minor": 5
}
